{
 "cells": [
  {
   "cell_type": "code",
   "execution_count": 35,
   "metadata": {},
   "outputs": [],
   "source": [
    "import pandas as pd\n",
    "import numpy as np\n",
    "import joblib as jb\n",
    "from sklearn.model_selection import train_test_split\n",
    "from sklearn.metrics import r2_score, mean_absolute_error, mean_squared_error\n",
    "from sklearn.preprocessing import StandardScaler\n",
    "import matplotlib.pyplot as plt\n",
    "import seaborn as sns\n",
    "from satellite_bathymetry.preprocessing import get_coord_from_pixel_pos, get_pixel_from_coord, ndwi, pixel_ndwi, pixel_log_ratio\n",
    "from sklearn.preprocessing import PolynomialFeatures"
   ]
  },
  {
   "cell_type": "code",
   "execution_count": 30,
   "metadata": {},
   "outputs": [],
   "source": [
    "from lightgbm import LGBMRegressor\n",
    "from sklearn.ensemble import RandomForestRegressor\n",
    "from sklearn.linear_model import LinearRegression\n",
    "from sklearn.neural_network import MLPRegressor"
   ]
  },
  {
   "cell_type": "code",
   "execution_count": 6,
   "metadata": {},
   "outputs": [
    {
     "data": {
      "text/html": [
       "<div>\n",
       "<style scoped>\n",
       "    .dataframe tbody tr th:only-of-type {\n",
       "        vertical-align: middle;\n",
       "    }\n",
       "\n",
       "    .dataframe tbody tr th {\n",
       "        vertical-align: top;\n",
       "    }\n",
       "\n",
       "    .dataframe thead th {\n",
       "        text-align: right;\n",
       "    }\n",
       "</style>\n",
       "<table border=\"1\" class=\"dataframe\">\n",
       "  <thead>\n",
       "    <tr style=\"text-align: right;\">\n",
       "      <th></th>\n",
       "      <th>x</th>\n",
       "      <th>y</th>\n",
       "      <th>z</th>\n",
       "      <th>b1</th>\n",
       "      <th>b2</th>\n",
       "      <th>b3</th>\n",
       "      <th>b4</th>\n",
       "      <th>b5</th>\n",
       "      <th>b6</th>\n",
       "      <th>b7</th>\n",
       "      <th>b8</th>\n",
       "      <th>b2b4</th>\n",
       "      <th>b3b4</th>\n",
       "      <th>ndwi15</th>\n",
       "      <th>ndwi24</th>\n",
       "      <th>ndwi53</th>\n",
       "      <th>cspmb7</th>\n",
       "    </tr>\n",
       "  </thead>\n",
       "  <tbody>\n",
       "    <tr>\n",
       "      <th>0</th>\n",
       "      <td>233</td>\n",
       "      <td>1130</td>\n",
       "      <td>3.195862</td>\n",
       "      <td>0.1199</td>\n",
       "      <td>0.0887</td>\n",
       "      <td>0.0692</td>\n",
       "      <td>0.0483</td>\n",
       "      <td>0.0518</td>\n",
       "      <td>0.0328</td>\n",
       "      <td>0.0315</td>\n",
       "      <td>0.0252</td>\n",
       "      <td>1.156761</td>\n",
       "      <td>1.092734</td>\n",
       "      <td>0.396622</td>\n",
       "      <td>0.294890</td>\n",
       "      <td>-0.143802</td>\n",
       "      <td>27.041417</td>\n",
       "    </tr>\n",
       "    <tr>\n",
       "      <th>1</th>\n",
       "      <td>233</td>\n",
       "      <td>1131</td>\n",
       "      <td>3.273030</td>\n",
       "      <td>0.1199</td>\n",
       "      <td>0.0886</td>\n",
       "      <td>0.0691</td>\n",
       "      <td>0.0484</td>\n",
       "      <td>0.0519</td>\n",
       "      <td>0.0335</td>\n",
       "      <td>0.0317</td>\n",
       "      <td>0.0254</td>\n",
       "      <td>1.155853</td>\n",
       "      <td>1.091779</td>\n",
       "      <td>0.395809</td>\n",
       "      <td>0.293431</td>\n",
       "      <td>-0.142149</td>\n",
       "      <td>27.274666</td>\n",
       "    </tr>\n",
       "    <tr>\n",
       "      <th>2</th>\n",
       "      <td>233</td>\n",
       "      <td>1132</td>\n",
       "      <td>3.299687</td>\n",
       "      <td>0.1199</td>\n",
       "      <td>0.0886</td>\n",
       "      <td>0.0690</td>\n",
       "      <td>0.0485</td>\n",
       "      <td>0.0519</td>\n",
       "      <td>0.0336</td>\n",
       "      <td>0.0320</td>\n",
       "      <td>0.0255</td>\n",
       "      <td>1.155238</td>\n",
       "      <td>1.090825</td>\n",
       "      <td>0.395809</td>\n",
       "      <td>0.292487</td>\n",
       "      <td>-0.141439</td>\n",
       "      <td>27.625527</td>\n",
       "    </tr>\n",
       "    <tr>\n",
       "      <th>3</th>\n",
       "      <td>233</td>\n",
       "      <td>1133</td>\n",
       "      <td>3.268182</td>\n",
       "      <td>0.1199</td>\n",
       "      <td>0.0885</td>\n",
       "      <td>0.0689</td>\n",
       "      <td>0.0484</td>\n",
       "      <td>0.0518</td>\n",
       "      <td>0.0336</td>\n",
       "      <td>0.0321</td>\n",
       "      <td>0.0256</td>\n",
       "      <td>1.155562</td>\n",
       "      <td>1.091031</td>\n",
       "      <td>0.396622</td>\n",
       "      <td>0.292915</td>\n",
       "      <td>-0.141674</td>\n",
       "      <td>27.742739</td>\n",
       "    </tr>\n",
       "    <tr>\n",
       "      <th>4</th>\n",
       "      <td>233</td>\n",
       "      <td>1134</td>\n",
       "      <td>3.278125</td>\n",
       "      <td>0.1199</td>\n",
       "      <td>0.0884</td>\n",
       "      <td>0.0688</td>\n",
       "      <td>0.0482</td>\n",
       "      <td>0.0517</td>\n",
       "      <td>0.0336</td>\n",
       "      <td>0.0321</td>\n",
       "      <td>0.0257</td>\n",
       "      <td>1.156505</td>\n",
       "      <td>1.091822</td>\n",
       "      <td>0.397436</td>\n",
       "      <td>0.294290</td>\n",
       "      <td>-0.141909</td>\n",
       "      <td>27.742739</td>\n",
       "    </tr>\n",
       "  </tbody>\n",
       "</table>\n",
       "</div>"
      ],
      "text/plain": [
       "     x     y         z      b1      b2      b3      b4      b5      b6  \\\n",
       "0  233  1130  3.195862  0.1199  0.0887  0.0692  0.0483  0.0518  0.0328   \n",
       "1  233  1131  3.273030  0.1199  0.0886  0.0691  0.0484  0.0519  0.0335   \n",
       "2  233  1132  3.299687  0.1199  0.0886  0.0690  0.0485  0.0519  0.0336   \n",
       "3  233  1133  3.268182  0.1199  0.0885  0.0689  0.0484  0.0518  0.0336   \n",
       "4  233  1134  3.278125  0.1199  0.0884  0.0688  0.0482  0.0517  0.0336   \n",
       "\n",
       "       b7      b8      b2b4      b3b4    ndwi15    ndwi24    ndwi53     cspmb7  \n",
       "0  0.0315  0.0252  1.156761  1.092734  0.396622  0.294890 -0.143802  27.041417  \n",
       "1  0.0317  0.0254  1.155853  1.091779  0.395809  0.293431 -0.142149  27.274666  \n",
       "2  0.0320  0.0255  1.155238  1.090825  0.395809  0.292487 -0.141439  27.625527  \n",
       "3  0.0321  0.0256  1.155562  1.091031  0.396622  0.292915 -0.141674  27.742739  \n",
       "4  0.0321  0.0257  1.156505  1.091822  0.397436  0.294290 -0.141909  27.742739  "
      ]
     },
     "execution_count": 6,
     "metadata": {},
     "output_type": "execute_result"
    }
   ],
   "source": [
    "path = './generated/dataset_dataframe.pkl.z'\n",
    "df = jb.load(path)\n",
    "df.head()"
   ]
  },
  {
   "cell_type": "markdown",
   "metadata": {},
   "source": [
    "# Random Split Data"
   ]
  },
  {
   "cell_type": "code",
   "execution_count": 7,
   "metadata": {},
   "outputs": [],
   "source": [
    "columns = ['b1', 'b2', 'b3', 'b4', 'b5', 'b6', 'b7', 'b8']\n",
    "#bands_cspm_features = df[['b1', 'b5', 'b6', 'cspmb7']]\n",
    "#bands_cspm_target = df.z\n",
    "\n",
    "X_train, X_val, y_train, y_val = train_test_split(df[columns], df.z, test_size=0.3, random_state=42)"
   ]
  },
  {
   "cell_type": "markdown",
   "metadata": {},
   "source": [
    "# 1.0 - Random Forest"
   ]
  },
  {
   "cell_type": "code",
   "execution_count": 10,
   "metadata": {},
   "outputs": [
    {
     "name": "stdout",
     "output_type": "stream",
     "text": [
      "RF Bands:\n",
      "R2 score: 0.9419715686335639\n",
      "MAE: 0.5480589461346743\n",
      "MSE: 1.1706659691714503\n",
      "RMSE: 1.0819731832034702\n",
      "Bias: 0.03416003787604627\n"
     ]
    }
   ],
   "source": [
    "rf = RandomForestRegressor()\n",
    "rf.fit(X_train, y_train)\n",
    "p_rf = rf.predict(X_val)\n",
    "print('RF Bands:')\n",
    "print('R2 score:', r2_score(y_val, p_rf))\n",
    "print('MAE:', mean_absolute_error(y_val, p_rf))\n",
    "print('MSE:', mean_squared_error(y_val, p_rf))\n",
    "print('RMSE:', np.sqrt(mean_squared_error(y_val, p_rf)))\n",
    "print('Bias:', p_rf.mean() - y_val.mean())"
   ]
  },
  {
   "cell_type": "markdown",
   "metadata": {},
   "source": [
    "# 2.0 - XGBoost"
   ]
  },
  {
   "cell_type": "code",
   "execution_count": 20,
   "metadata": {},
   "outputs": [
    {
     "name": "stdout",
     "output_type": "stream",
     "text": [
      "RF Bands:\n",
      "R2 score: 0.9113324866743583\n",
      "Mean Absolute Error: 0.8632484611379012\n",
      "Mean Squared Error: 1.7887790170634044\n",
      "Root Mean Squared Error: 1.3374524354396324\n",
      "Bias: 0.04071945245236286\n"
     ]
    }
   ],
   "source": [
    "xg = XGBRegressor()\n",
    "xg.fit(X_train, y_train)\n",
    "p_xg = xg.predict(X_val)\n",
    "print('XGBoost Bands:')\n",
    "print('R2 score:', r2_score(y_val, p_xg))\n",
    "print('Mean Absolute Error:', mean_absolute_error(y_val, p_xg))\n",
    "print('Mean Squared Error:', mean_squared_error(y_val, p_xg))\n",
    "print('Root Mean Squared Error:', np.sqrt(mean_squared_error(y_val, p_xg)))\n",
    "print('Bias:', p_xg.mean() - y_val.mean())"
   ]
  },
  {
   "cell_type": "markdown",
   "metadata": {},
   "source": [
    "# 3.0 - LGBM"
   ]
  },
  {
   "cell_type": "code",
   "execution_count": 22,
   "metadata": {},
   "outputs": [
    {
     "name": "stdout",
     "output_type": "stream",
     "text": [
      "RF Bands:\n",
      "R2 score: 0.8620653369304733\n",
      "Mean Absolute Error: 1.1711619251743357\n",
      "Mean Squared Error: 2.782694831175862\n",
      "Root Mean Squared Error: 1.6681411304730371\n",
      "Bias: 0.03185720183167984\n"
     ]
    }
   ],
   "source": [
    "lgbm = LGBMRegressor()\n",
    "lgbm.fit(X_train, y_train)\n",
    "p_lgbm = lgbm.predict(X_val)\n",
    "\n",
    "print('LGBM Bands:')\n",
    "print('R2 score:', r2_score(y_val, p_lgbm))\n",
    "print('Mean Absolute Error:', mean_absolute_error(y_val, p_lgbm))\n",
    "print('Mean Squared Error:', mean_squared_error(y_val, p_lgbm))\n",
    "print('Root Mean Squared Error:', np.sqrt(mean_squared_error(y_val, p_lgbm)))\n",
    "print('Bias:', p_lgbm.mean() - y_val.mean())"
   ]
  },
  {
   "cell_type": "markdown",
   "metadata": {},
   "source": [
    "# 4.0 - MLPRegressor"
   ]
  },
  {
   "cell_type": "code",
   "execution_count": 32,
   "metadata": {},
   "outputs": [
    {
     "name": "stderr",
     "output_type": "stream",
     "text": [
      "/home/vinicius/Área de Trabalho/Environments/jupyter/lib/python3.8/site-packages/sklearn/neural_network/_multilayer_perceptron.py:582: ConvergenceWarning: Stochastic Optimizer: Maximum iterations (200) reached and the optimization hasn't converged yet.\n",
      "  warnings.warn(\n"
     ]
    },
    {
     "name": "stdout",
     "output_type": "stream",
     "text": [
      "RF Bands:\n",
      "R2 score: 0.3973657381995642\n",
      "Mean Absolute Error: 2.6802725945103587\n",
      "Mean Squared Error: 12.157547697465134\n",
      "Root Mean Squared Error: 3.4867675141117647\n",
      "Bias: 0.10094407234150893\n"
     ]
    }
   ],
   "source": [
    "mlp = MLPRegressor()\n",
    "mlp.fit(X_train, y_train)\n",
    "p_mlp = mlp.predict(X_val)\n",
    "\n",
    "print('MLP Bands:')\n",
    "print('R2 score:', r2_score(y_val, p_mlp))\n",
    "print('Mean Absolute Error:', mean_absolute_error(y_val, p_mlp))\n",
    "print('Mean Squared Error:', mean_squared_error(y_val, p_mlp))\n",
    "print('Root Mean Squared Error:', np.sqrt(mean_squared_error(y_val, p_mlp)))\n",
    "print('Bias:', p_mlp.mean() - y_val.mean())"
   ]
  },
  {
   "cell_type": "markdown",
   "metadata": {},
   "source": [
    "# 5.0 - Linear Regressor"
   ]
  },
  {
   "cell_type": "code",
   "execution_count": 34,
   "metadata": {},
   "outputs": [
    {
     "name": "stdout",
     "output_type": "stream",
     "text": [
      "RF Bands:\n",
      "R2 score: 0.47908435179078634\n",
      "Mean Absolute Error: 2.48513147942932\n",
      "Mean Squared Error: 10.508955830919374\n",
      "Root Mean Squared Error: 3.2417519693707866\n",
      "Bias: 0.042835625067619176\n"
     ]
    }
   ],
   "source": [
    "lr = LinearRegression()\n",
    "lr.fit(X_train, y_train)\n",
    "p_lr = lr.predict(X_val)\n",
    "\n",
    "print('Linear Regression')\n",
    "print('R2 score:', r2_score(y_val, p_lr))\n",
    "print('Mean Absolute Error:', mean_absolute_error(y_val, p_lr))\n",
    "print('Mean Squared Error:', mean_squared_error(y_val, p_lr))\n",
    "print('Root Mean Squared Error:', np.sqrt(mean_squared_error(y_val, p_lr)))\n",
    "print('Bias:', p_lr.mean() - y_val.mean())"
   ]
  },
  {
   "cell_type": "markdown",
   "metadata": {},
   "source": [
    "## 5.1 Polynomial Transform"
   ]
  },
  {
   "cell_type": "code",
   "execution_count": 47,
   "metadata": {},
   "outputs": [],
   "source": [
    "lr_poly = LinearRegression()\n",
    "poly = PolynomialFeatures(degree=2)"
   ]
  },
  {
   "cell_type": "code",
   "execution_count": 48,
   "metadata": {},
   "outputs": [],
   "source": [
    "train_data = poly.fit_transform(X_train)\n",
    "val_data = poly.transform(X_val)"
   ]
  },
  {
   "cell_type": "code",
   "execution_count": 49,
   "metadata": {},
   "outputs": [
    {
     "name": "stdout",
     "output_type": "stream",
     "text": [
      "Polynomial Regression Bands:\n",
      "R2 score: 0.6249267461302317\n",
      "Mean Absolute Error: 2.0092593661410283\n",
      "Mean Squared Error: 7.566730375305487\n",
      "Root Mean Squared Error: 2.7507690516118375\n",
      "Bias: 0.029257142366680533\n"
     ]
    }
   ],
   "source": [
    "lr_poly.fit(train_data, y_train)\n",
    "p_lr_poly = lr_poly.predict(val_data)\n",
    "\n",
    "print('Polynomial Regression Bands:')\n",
    "print('R2 score:', r2_score(y_val, p_lr_poly))\n",
    "print('Mean Absolute Error:', mean_absolute_error(y_val, p_lr_poly))\n",
    "print('Mean Squared Error:', mean_squared_error(y_val, p_lr_poly))\n",
    "print('Root Mean Squared Error:', np.sqrt(mean_squared_error(y_val, p_lr_poly)))\n",
    "print('Bias:', p_lr_poly.mean() - y_val.mean())"
   ]
  },
  {
   "cell_type": "code",
   "execution_count": null,
   "metadata": {},
   "outputs": [],
   "source": []
  }
 ],
 "metadata": {
  "kernelspec": {
   "display_name": "Python 3",
   "language": "python",
   "name": "python3"
  },
  "language_info": {
   "codemirror_mode": {
    "name": "ipython",
    "version": 3
   },
   "file_extension": ".py",
   "mimetype": "text/x-python",
   "name": "python",
   "nbconvert_exporter": "python",
   "pygments_lexer": "ipython3",
   "version": "3.8.5"
  }
 },
 "nbformat": 4,
 "nbformat_minor": 4
}
