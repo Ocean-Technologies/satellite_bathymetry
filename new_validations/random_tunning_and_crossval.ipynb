{
 "cells": [
  {
   "cell_type": "code",
   "execution_count": 1,
   "metadata": {},
   "outputs": [],
   "source": [
    "import pandas as pd\n",
    "import numpy as np\n",
    "import joblib as jb\n",
    "from sklearn.model_selection import train_test_split\n",
    "from sklearn.ensemble import RandomForestRegressor\n",
    "from lightgbm import LGBMRegressor\n",
    "from sklearn.metrics import r2_score, mean_absolute_error, mean_squared_error\n",
    "from sklearn.preprocessing import StandardScaler\n",
    "import matplotlib.pyplot as plt\n",
    "import seaborn as sns\n",
    "from satellite_bathymetry.preprocessing import get_coord_from_pixel_pos, get_pixel_from_coord, ndwi, pixel_ndwi, pixel_log_ratio\n",
    "from satellite_bathymetry.model_tunning import tune_tree_model\n",
    "import xgboost as XGB\n",
    "from xgboost import XGBRegressor\n",
    "from lightgbm import LGBMRegressor\n",
    "import lightgbm as lgb\n",
    "from bayes_opt import BayesianOptimization\n",
    "from scipy import stats\n",
    "from sklearn.model_selection import RandomizedSearchCV, GridSearchCV\n",
    "from skopt import forest_minimize"
   ]
  },
  {
   "cell_type": "code",
   "execution_count": 2,
   "metadata": {},
   "outputs": [],
   "source": [
    "median_filter_path = 'generated/dataset_dataframe.pkl.z'"
   ]
  },
  {
   "cell_type": "code",
   "execution_count": 3,
   "metadata": {},
   "outputs": [
    {
     "data": {
      "text/html": [
       "<div>\n",
       "<style scoped>\n",
       "    .dataframe tbody tr th:only-of-type {\n",
       "        vertical-align: middle;\n",
       "    }\n",
       "\n",
       "    .dataframe tbody tr th {\n",
       "        vertical-align: top;\n",
       "    }\n",
       "\n",
       "    .dataframe thead th {\n",
       "        text-align: right;\n",
       "    }\n",
       "</style>\n",
       "<table border=\"1\" class=\"dataframe\">\n",
       "  <thead>\n",
       "    <tr style=\"text-align: right;\">\n",
       "      <th></th>\n",
       "      <th>x</th>\n",
       "      <th>y</th>\n",
       "      <th>z</th>\n",
       "      <th>b1</th>\n",
       "      <th>b2</th>\n",
       "      <th>b3</th>\n",
       "      <th>b4</th>\n",
       "      <th>b5</th>\n",
       "      <th>b6</th>\n",
       "      <th>b7</th>\n",
       "      <th>b8</th>\n",
       "      <th>b2b4</th>\n",
       "      <th>b3b4</th>\n",
       "      <th>ndwi15</th>\n",
       "      <th>ndwi24</th>\n",
       "      <th>ndwi53</th>\n",
       "      <th>cspmb7</th>\n",
       "      <th>ndwi51</th>\n",
       "    </tr>\n",
       "  </thead>\n",
       "  <tbody>\n",
       "    <tr>\n",
       "      <th>8</th>\n",
       "      <td>234</td>\n",
       "      <td>1003</td>\n",
       "      <td>2.230000</td>\n",
       "      <td>0.1224</td>\n",
       "      <td>0.0917</td>\n",
       "      <td>0.0725</td>\n",
       "      <td>0.0509</td>\n",
       "      <td>0.0554</td>\n",
       "      <td>0.0345</td>\n",
       "      <td>0.0331</td>\n",
       "      <td>0.0264</td>\n",
       "      <td>1.149791</td>\n",
       "      <td>1.090009</td>\n",
       "      <td>0.376828</td>\n",
       "      <td>0.286115</td>\n",
       "      <td>-0.133698</td>\n",
       "      <td>28.922021</td>\n",
       "      <td>-0.376828</td>\n",
       "    </tr>\n",
       "    <tr>\n",
       "      <th>9</th>\n",
       "      <td>234</td>\n",
       "      <td>1004</td>\n",
       "      <td>2.229857</td>\n",
       "      <td>0.1224</td>\n",
       "      <td>0.0917</td>\n",
       "      <td>0.0734</td>\n",
       "      <td>0.0514</td>\n",
       "      <td>0.0540</td>\n",
       "      <td>0.0336</td>\n",
       "      <td>0.0323</td>\n",
       "      <td>0.0264</td>\n",
       "      <td>1.146938</td>\n",
       "      <td>1.090436</td>\n",
       "      <td>0.387755</td>\n",
       "      <td>0.281621</td>\n",
       "      <td>-0.152276</td>\n",
       "      <td>27.977559</td>\n",
       "      <td>-0.387755</td>\n",
       "    </tr>\n",
       "    <tr>\n",
       "      <th>10</th>\n",
       "      <td>234</td>\n",
       "      <td>1005</td>\n",
       "      <td>2.229851</td>\n",
       "      <td>0.1224</td>\n",
       "      <td>0.0919</td>\n",
       "      <td>0.0732</td>\n",
       "      <td>0.0509</td>\n",
       "      <td>0.0540</td>\n",
       "      <td>0.0336</td>\n",
       "      <td>0.0323</td>\n",
       "      <td>0.0265</td>\n",
       "      <td>1.150346</td>\n",
       "      <td>1.092454</td>\n",
       "      <td>0.387755</td>\n",
       "      <td>0.287115</td>\n",
       "      <td>-0.150943</td>\n",
       "      <td>27.977559</td>\n",
       "      <td>-0.387755</td>\n",
       "    </tr>\n",
       "    <tr>\n",
       "      <th>11</th>\n",
       "      <td>234</td>\n",
       "      <td>1006</td>\n",
       "      <td>2.230000</td>\n",
       "      <td>0.1224</td>\n",
       "      <td>0.0925</td>\n",
       "      <td>0.0722</td>\n",
       "      <td>0.0505</td>\n",
       "      <td>0.0536</td>\n",
       "      <td>0.0329</td>\n",
       "      <td>0.0328</td>\n",
       "      <td>0.0257</td>\n",
       "      <td>1.154319</td>\n",
       "      <td>1.091145</td>\n",
       "      <td>0.390909</td>\n",
       "      <td>0.293706</td>\n",
       "      <td>-0.147854</td>\n",
       "      <td>28.566881</td>\n",
       "      <td>-0.390909</td>\n",
       "    </tr>\n",
       "    <tr>\n",
       "      <th>12</th>\n",
       "      <td>234</td>\n",
       "      <td>1007</td>\n",
       "      <td>2.230000</td>\n",
       "      <td>0.1224</td>\n",
       "      <td>0.0920</td>\n",
       "      <td>0.0717</td>\n",
       "      <td>0.0517</td>\n",
       "      <td>0.0536</td>\n",
       "      <td>0.0329</td>\n",
       "      <td>0.0328</td>\n",
       "      <td>0.0254</td>\n",
       "      <td>1.146075</td>\n",
       "      <td>1.082888</td>\n",
       "      <td>0.390909</td>\n",
       "      <td>0.280445</td>\n",
       "      <td>-0.144453</td>\n",
       "      <td>28.566881</td>\n",
       "      <td>-0.390909</td>\n",
       "    </tr>\n",
       "  </tbody>\n",
       "</table>\n",
       "</div>"
      ],
      "text/plain": [
       "      x     y         z      b1      b2      b3      b4      b5      b6  \\\n",
       "8   234  1003  2.230000  0.1224  0.0917  0.0725  0.0509  0.0554  0.0345   \n",
       "9   234  1004  2.229857  0.1224  0.0917  0.0734  0.0514  0.0540  0.0336   \n",
       "10  234  1005  2.229851  0.1224  0.0919  0.0732  0.0509  0.0540  0.0336   \n",
       "11  234  1006  2.230000  0.1224  0.0925  0.0722  0.0505  0.0536  0.0329   \n",
       "12  234  1007  2.230000  0.1224  0.0920  0.0717  0.0517  0.0536  0.0329   \n",
       "\n",
       "        b7      b8      b2b4      b3b4    ndwi15    ndwi24    ndwi53  \\\n",
       "8   0.0331  0.0264  1.149791  1.090009  0.376828  0.286115 -0.133698   \n",
       "9   0.0323  0.0264  1.146938  1.090436  0.387755  0.281621 -0.152276   \n",
       "10  0.0323  0.0265  1.150346  1.092454  0.387755  0.287115 -0.150943   \n",
       "11  0.0328  0.0257  1.154319  1.091145  0.390909  0.293706 -0.147854   \n",
       "12  0.0328  0.0254  1.146075  1.082888  0.390909  0.280445 -0.144453   \n",
       "\n",
       "       cspmb7    ndwi51  \n",
       "8   28.922021 -0.376828  \n",
       "9   27.977559 -0.387755  \n",
       "10  27.977559 -0.387755  \n",
       "11  28.566881 -0.390909  \n",
       "12  28.566881 -0.390909  "
      ]
     },
     "execution_count": 3,
     "metadata": {},
     "output_type": "execute_result"
    }
   ],
   "source": [
    "train_path = 'generated/train_window_split_RAW.pkl.z'\n",
    "val_path = 'generated/val_window_split_RAW.pkl.z'\n",
    "\n",
    "train = jb.load(train_path)\n",
    "val = jb.load(val_path)\n",
    "#df['ndwi51'] =  df[['b5', 'b1']].apply(lambda x: pixel_ndwi(x.b5, x.b1), axis=1)\n",
    "val.head()"
   ]
  },
  {
   "cell_type": "code",
   "execution_count": 4,
   "metadata": {},
   "outputs": [],
   "source": [
    "df_median = jb.load(median_filter_path)"
   ]
  },
  {
   "cell_type": "code",
   "execution_count": 5,
   "metadata": {},
   "outputs": [],
   "source": [
    "columns = ['b1', 'b2', 'b3', 'b4', 'b5', 'b6', 'b7', 'b8']"
   ]
  },
  {
   "cell_type": "code",
   "execution_count": 6,
   "metadata": {},
   "outputs": [],
   "source": [
    "X_train, X_val, y_train, y_val = train_test_split(df_median[columns], df_median.z, test_size=0.3, random_state=42)"
   ]
  },
  {
   "cell_type": "code",
   "execution_count": 7,
   "metadata": {},
   "outputs": [
    {
     "name": "stdout",
     "output_type": "stream",
     "text": [
      "XGBoost Bands:\n",
      "R2 score: 0.9113324866743583\n",
      "Mean Absolute Error: 0.8632484611379012\n",
      "Mean Squared Error: 1.7887790170634044\n",
      "Root Mean Squared Error: 1.3374524354396324\n",
      "Bias: 0.04071945245236286\n"
     ]
    }
   ],
   "source": [
    "xg = XGBRegressor()\n",
    "xg.fit(X_train, y_train)\n",
    "p_xg = xg.predict(X_val)\n",
    "print('XGBoost Bands:')\n",
    "print('R2 score:', r2_score(y_val, p_xg))\n",
    "print('Mean Absolute Error:', mean_absolute_error(y_val, p_xg))\n",
    "print('Mean Squared Error:', mean_squared_error(y_val, p_xg))\n",
    "print('Root Mean Squared Error:', np.sqrt(mean_squared_error(y_val, p_xg)))\n",
    "print('Bias:', p_xg.mean() - y_val.mean())"
   ]
  },
  {
   "cell_type": "code",
   "execution_count": 8,
   "metadata": {},
   "outputs": [
    {
     "name": "stdout",
     "output_type": "stream",
     "text": [
      "XGBoost Bands:\n",
      "R2 score: 0.8620653369304733\n",
      "Mean Absolute Error: 1.1711619251743357\n",
      "Mean Squared Error: 2.782694831175862\n",
      "Root Mean Squared Error: 1.6681411304730371\n",
      "Bias: 0.03185720183167984\n"
     ]
    }
   ],
   "source": [
    "lgbm = LGBMRegressor()\n",
    "lgbm.fit(X_train, y_train)\n",
    "lgbm_p = lgbm.predict(X_val)\n",
    "print('XGBoost Bands:')\n",
    "print('R2 score:', r2_score(y_val, lgbm_p))\n",
    "print('Mean Absolute Error:', mean_absolute_error(y_val, lgbm_p))\n",
    "print('Mean Squared Error:', mean_squared_error(y_val, lgbm_p))\n",
    "print('Root Mean Squared Error:', np.sqrt(mean_squared_error(y_val, lgbm_p)))\n",
    "print('Bias:', lgbm_p.mean() - y_val.mean())"
   ]
  },
  {
   "cell_type": "markdown",
   "metadata": {},
   "source": [
    "## Bayesian Optimization"
   ]
  },
  {
   "cell_type": "code",
   "execution_count": 69,
   "metadata": {},
   "outputs": [],
   "source": [
    "def tune_lgbm(args):\n",
    "    ## Model Parameters\n",
    "    print(args)\n",
    "    lr = args[0]\n",
    "    max_depth = args[1]\n",
    "    min_child_samples = args[2]\n",
    "    subsample = args[3]\n",
    "    colsample_bytree = args[4]\n",
    "    n_estimators = args[5]\n",
    "      \n",
    "    mdl = LGBMRegressor(learning_rate=lr, num_leaves=2 ** max_depth, max_depth=max_depth,\n",
    "                        min_child_samples=min_child_samples, subsample=subsample,\n",
    "                        colsample_bytree=colsample_bytree, bagging_freq=1, n_estimators=n_estimators,\n",
    "                        random_state=0, class_weight='balanced', n_jobs=6)\n",
    "    \n",
    "    mdl.fit(X_train, y_train)\n",
    "    \n",
    "    p = mdl.predict(X_val)\n",
    "    \n",
    "    print(r2_score(y_val, p))\n",
    "    \n",
    "    return -r2_score(y_val, p) ## To maximize ap, return the negative to the minimize func"
   ]
  },
  {
   "cell_type": "code",
   "execution_count": null,
   "metadata": {},
   "outputs": [],
   "source": [
    "space_lgbm = [(1e-3, 1e-1, 'log-uniform'), # lr\n",
    "          (1, 10), # max_depth\n",
    "          (1, 20), # min_child_samples\n",
    "          (0.05, 1.), # subsample\n",
    "          (0.05, 1.), # colsample_bytree\n",
    "          (100,1000), # n_estimators\n",
    "          (1,5), # min_df\n",
    "          (1,5)] # ngram_range\n",
    "\n",
    "res = forest_minimize(tune_lgbm, space_lgbm, random_state=160745, n_random_starts=20, n_calls=50, verbose=1)\n",
    "res['x']"
   ]
  },
  {
   "cell_type": "code",
   "execution_count": 10,
   "metadata": {},
   "outputs": [],
   "source": [
    "# Results\n",
    "args_lgbm = [0.06189835094365267, 9, 1, 0.8695551533271082, 0.6534274736020848, 976, 2, 1]"
   ]
  },
  {
   "cell_type": "code",
   "execution_count": 11,
   "metadata": {},
   "outputs": [],
   "source": [
    "lr = args_lgbm[0]\n",
    "max_depth = args_lgbm[1]\n",
    "min_child_samples = args_lgbm[2]\n",
    "subsample = args_lgbm[3]\n",
    "colsample_bytree = args_lgbm[4]\n",
    "n_estimators = args_lgbm[5]\n",
    "\n",
    "mdl = LGBMRegressor(learning_rate=lr, num_leaves=2 ** max_depth, max_depth=max_depth,\n",
    "                    min_child_samples=min_child_samples, subsample=subsample,\n",
    "                    colsample_bytree=colsample_bytree, bagging_freq=1, n_estimators=n_estimators,\n",
    "                    random_state=0, class_weight='balanced', n_jobs=6)"
   ]
  },
  {
   "cell_type": "code",
   "execution_count": 12,
   "metadata": {},
   "outputs": [
    {
     "name": "stdout",
     "output_type": "stream",
     "text": [
      "[LightGBM] [Warning] bagging_freq is set=1, subsample_freq=0 will be ignored. Current value: bagging_freq=1\n"
     ]
    },
    {
     "data": {
      "text/plain": [
       "LGBMRegressor(bagging_freq=1, class_weight='balanced',\n",
       "              colsample_bytree=0.6534274736020848,\n",
       "              learning_rate=0.06189835094365267, max_depth=9,\n",
       "              min_child_samples=1, n_estimators=976, n_jobs=6, num_leaves=512,\n",
       "              random_state=0, subsample=0.8695551533271082)"
      ]
     },
     "execution_count": 12,
     "metadata": {},
     "output_type": "execute_result"
    }
   ],
   "source": [
    "mdl.fit(X_train, y_train)"
   ]
  },
  {
   "cell_type": "code",
   "execution_count": 13,
   "metadata": {},
   "outputs": [],
   "source": [
    "p = mdl.predict(X_val)"
   ]
  },
  {
   "cell_type": "code",
   "execution_count": 14,
   "metadata": {},
   "outputs": [
    {
     "data": {
      "text/plain": [
       "0.94886132833864"
      ]
     },
     "execution_count": 14,
     "metadata": {},
     "output_type": "execute_result"
    }
   ],
   "source": [
    "r2_score(y_val, p)"
   ]
  },
  {
   "cell_type": "markdown",
   "metadata": {},
   "source": [
    "## Cross Validation"
   ]
  },
  {
   "cell_type": "code",
   "execution_count": 15,
   "metadata": {},
   "outputs": [],
   "source": [
    "from satellite_bathymetry.model_selection import cross_validation"
   ]
  },
  {
   "cell_type": "code",
   "execution_count": 16,
   "metadata": {},
   "outputs": [],
   "source": [
    "features = df_median[columns]\n",
    "target = df_median.z"
   ]
  },
  {
   "cell_type": "code",
   "execution_count": 17,
   "metadata": {},
   "outputs": [],
   "source": [
    "lgbm = LGBMRegressor()"
   ]
  },
  {
   "cell_type": "code",
   "execution_count": null,
   "metadata": {},
   "outputs": [],
   "source": [
    "scores = cross_validation(features=features, target=target, metric=r2_score, mdl=lgbm, n_splits=10, random_state=42, learning_rate=args_lgbm[0], max_depth=args_lgbm[1],\n",
    "                         min_child_samples=args_lgbm[2], subsample=args_lgbm[3], colsample_bytree=args_lgbm[4], n_estimatores=args_lgbm[5])"
   ]
  },
  {
   "cell_type": "code",
   "execution_count": 27,
   "metadata": {},
   "outputs": [
    {
     "data": {
      "text/plain": [
       "{'k_fold_0': 0.8200959490579324,\n",
       " 'k_fold_1': 0.8375784704161826,\n",
       " 'k_fold_2': 0.8189095166479764,\n",
       " 'k_fold_3': 0.8094356464582203,\n",
       " 'k_fold_4': 0.8251823463786476,\n",
       " 'k_fold_5': 0.8122298311875853,\n",
       " 'k_fold_6': 0.8228085058473531,\n",
       " 'k_fold_7': 0.8296706791578056,\n",
       " 'k_fold_8': 0.8211683467538229,\n",
       " 'k_fold_9': 0.8087238372082977}"
      ]
     },
     "execution_count": 27,
     "metadata": {},
     "output_type": "execute_result"
    }
   ],
   "source": [
    "scores"
   ]
  },
  {
   "cell_type": "markdown",
   "metadata": {},
   "source": [
    "# Less data"
   ]
  },
  {
   "cell_type": "code",
   "execution_count": 29,
   "metadata": {},
   "outputs": [],
   "source": [
    "lr = args_lgbm[0]\n",
    "max_depth = args_lgbm[1]\n",
    "min_child_samples = args_lgbm[2]\n",
    "subsample = args_lgbm[3]\n",
    "colsample_bytree = args_lgbm[4]\n",
    "n_estimators = args_lgbm[5]\n",
    "\n",
    "mdl = LGBMRegressor(learning_rate=lr, num_leaves=2 ** max_depth, max_depth=max_depth,\n",
    "                    min_child_samples=min_child_samples, subsample=subsample,\n",
    "                    colsample_bytree=colsample_bytree, bagging_freq=1, n_estimators=n_estimators,\n",
    "                    random_state=0, class_weight='balanced', n_jobs=6)"
   ]
  },
  {
   "cell_type": "code",
   "execution_count": 91,
   "metadata": {},
   "outputs": [],
   "source": [
    "X_train, X_val, y_train, y_val = train_test_split(df_median[columns], df_median.z, test_size=.5, random_state=42)"
   ]
  },
  {
   "cell_type": "code",
   "execution_count": 92,
   "metadata": {},
   "outputs": [
    {
     "data": {
      "text/plain": [
       "(9137, 9138)"
      ]
     },
     "execution_count": 92,
     "metadata": {},
     "output_type": "execute_result"
    }
   ],
   "source": [
    "len(X_train), len(X_val)"
   ]
  },
  {
   "cell_type": "code",
   "execution_count": 93,
   "metadata": {},
   "outputs": [
    {
     "name": "stdout",
     "output_type": "stream",
     "text": [
      "[LightGBM] [Warning] bagging_freq is set=1, subsample_freq=0 will be ignored. Current value: bagging_freq=1\n"
     ]
    },
    {
     "data": {
      "text/plain": [
       "LGBMRegressor(bagging_freq=1, class_weight='balanced',\n",
       "              colsample_bytree=0.6534274736020848,\n",
       "              learning_rate=0.06189835094365267, max_depth=9,\n",
       "              min_child_samples=1, n_estimators=976, n_jobs=6, num_leaves=512,\n",
       "              random_state=0, subsample=0.8695551533271082)"
      ]
     },
     "execution_count": 93,
     "metadata": {},
     "output_type": "execute_result"
    }
   ],
   "source": [
    "mdl.fit(X_train, y_train)"
   ]
  },
  {
   "cell_type": "code",
   "execution_count": 94,
   "metadata": {},
   "outputs": [],
   "source": [
    "p = mdl.predict(X_val)"
   ]
  },
  {
   "cell_type": "code",
   "execution_count": 95,
   "metadata": {},
   "outputs": [
    {
     "data": {
      "text/plain": [
       "0.9341189556007882"
      ]
     },
     "execution_count": 95,
     "metadata": {},
     "output_type": "execute_result"
    }
   ],
   "source": [
    "r2_score(y_val, p)"
   ]
  },
  {
   "cell_type": "code",
   "execution_count": 63,
   "metadata": {},
   "outputs": [],
   "source": [
    "train = X_train.copy()\n",
    "val = X_val.copy()\n",
    "train['x'] = df_median[df_median.index.isin(train.index)].x\n",
    "train['y'] = df_median[df_median.index.isin(train.index)].y\n",
    "\n",
    "val['x'] = df_median[df_median.index.isin(val.index)].x\n",
    "val['y'] = df_median[df_median.index.isin(val.index)].y"
   ]
  },
  {
   "cell_type": "code",
   "execution_count": 40,
   "metadata": {},
   "outputs": [
    {
     "data": {
      "text/plain": [
       "True"
      ]
     },
     "execution_count": 40,
     "metadata": {},
     "output_type": "execute_result"
    }
   ],
   "source": [
    "import cv2\n",
    "\n",
    "rgb_image = cv2.imread('../data/generated/rgb_image.jpg')\n",
    "#image = rgb_image.copy()\n",
    "for i, row in enumerate(train.itertuples()):\n",
    "    x = int(row.x)\n",
    "    y = int(row.y)\n",
    "    rgb_image = cv2.circle(rgb_image ,(x,y),1,[255,0,0],1)\n",
    "cv2.imwrite('generated/train_09_random.jpg', rgb_image)"
   ]
  },
  {
   "cell_type": "code",
   "execution_count": 41,
   "metadata": {},
   "outputs": [
    {
     "data": {
      "text/plain": [
       "True"
      ]
     },
     "execution_count": 41,
     "metadata": {},
     "output_type": "execute_result"
    }
   ],
   "source": [
    "import cv2\n",
    "\n",
    "rgb_image = cv2.imread('../data/generated/rgb_image.jpg')\n",
    "#image = rgb_image.copy()\n",
    "for i, row in enumerate(val.itertuples()):\n",
    "    x = int(row.x)\n",
    "    y = int(row.y)\n",
    "    rgb_image = cv2.circle(rgb_image ,(x,y),1,[255,0,0],1)\n",
    "cv2.imwrite('generated/val_09_random.jpg', rgb_image)"
   ]
  },
  {
   "cell_type": "code",
   "execution_count": null,
   "metadata": {},
   "outputs": [],
   "source": []
  }
 ],
 "metadata": {
  "kernelspec": {
   "display_name": "Python 3",
   "language": "python",
   "name": "python3"
  },
  "language_info": {
   "codemirror_mode": {
    "name": "ipython",
    "version": 3
   },
   "file_extension": ".py",
   "mimetype": "text/x-python",
   "name": "python",
   "nbconvert_exporter": "python",
   "pygments_lexer": "ipython3",
   "version": "3.8.5"
  }
 },
 "nbformat": 4,
 "nbformat_minor": 4
}
