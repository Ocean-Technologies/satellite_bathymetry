{
 "cells": [
  {
   "cell_type": "code",
   "execution_count": 18,
   "metadata": {},
   "outputs": [],
   "source": [
    "import pandas as pd\n",
    "import numpy as np\n",
    "import joblib as jb\n",
    "import tifffile\n",
    "from pathlib import Path\n",
    "from glob import glob\n",
    "import matplotlib.pyplot as plt\n",
    "from satellite_bathymetry.preprocessing import get_coord_from_pixel_pos, get_pixel_from_coord, ndwi, pixel_ndwi, pixel_log_ratio\n",
    "from satellite_bathymetry.model_selection import cross_validation\n",
    "from sklearn.preprocessing import KBinsDiscretizer, FunctionTransformer, MinMaxScaler\n",
    "from sklearn.model_selection import train_test_split\n",
    "from sklearn.ensemble import RandomForestRegressor\n",
    "from lightgbm import LGBMRegressor\n",
    "from sklearn.metrics import r2_score\n",
    "from sklearn.metrics import mean_absolute_error, mean_squared_error\n",
    "\n",
    "from scipy import stats"
   ]
  },
  {
   "cell_type": "code",
   "execution_count": 19,
   "metadata": {},
   "outputs": [
    {
     "data": {
      "text/html": [
       "<div>\n",
       "<style scoped>\n",
       "    .dataframe tbody tr th:only-of-type {\n",
       "        vertical-align: middle;\n",
       "    }\n",
       "\n",
       "    .dataframe tbody tr th {\n",
       "        vertical-align: top;\n",
       "    }\n",
       "\n",
       "    .dataframe thead th {\n",
       "        text-align: right;\n",
       "    }\n",
       "</style>\n",
       "<table border=\"1\" class=\"dataframe\">\n",
       "  <thead>\n",
       "    <tr style=\"text-align: right;\">\n",
       "      <th></th>\n",
       "      <th>x</th>\n",
       "      <th>y</th>\n",
       "      <th>z</th>\n",
       "      <th>b1</th>\n",
       "      <th>b2</th>\n",
       "      <th>b3</th>\n",
       "      <th>b4</th>\n",
       "      <th>b5</th>\n",
       "      <th>b6</th>\n",
       "      <th>b7</th>\n",
       "      <th>b8</th>\n",
       "      <th>b2b4</th>\n",
       "      <th>b3b4</th>\n",
       "      <th>ndwi15</th>\n",
       "      <th>ndwi24</th>\n",
       "      <th>ndwi53</th>\n",
       "      <th>cspmb7</th>\n",
       "    </tr>\n",
       "  </thead>\n",
       "  <tbody>\n",
       "    <tr>\n",
       "      <th>0</th>\n",
       "      <td>233</td>\n",
       "      <td>1130</td>\n",
       "      <td>3.195862</td>\n",
       "      <td>0.1199</td>\n",
       "      <td>0.0866</td>\n",
       "      <td>0.0667</td>\n",
       "      <td>0.0464</td>\n",
       "      <td>0.0490</td>\n",
       "      <td>0.0316</td>\n",
       "      <td>0.0283</td>\n",
       "      <td>0.0238</td>\n",
       "      <td>1.162614</td>\n",
       "      <td>1.094573</td>\n",
       "      <td>0.419775</td>\n",
       "      <td>0.302256</td>\n",
       "      <td>-0.152982</td>\n",
       "      <td>23.382784</td>\n",
       "    </tr>\n",
       "    <tr>\n",
       "      <th>1</th>\n",
       "      <td>233</td>\n",
       "      <td>1131</td>\n",
       "      <td>3.273030</td>\n",
       "      <td>0.1199</td>\n",
       "      <td>0.0880</td>\n",
       "      <td>0.0668</td>\n",
       "      <td>0.0457</td>\n",
       "      <td>0.0490</td>\n",
       "      <td>0.0316</td>\n",
       "      <td>0.0283</td>\n",
       "      <td>0.0237</td>\n",
       "      <td>1.171434</td>\n",
       "      <td>1.099318</td>\n",
       "      <td>0.419775</td>\n",
       "      <td>0.316380</td>\n",
       "      <td>-0.153713</td>\n",
       "      <td>23.382784</td>\n",
       "    </tr>\n",
       "    <tr>\n",
       "      <th>2</th>\n",
       "      <td>233</td>\n",
       "      <td>1132</td>\n",
       "      <td>3.299687</td>\n",
       "      <td>0.1199</td>\n",
       "      <td>0.0879</td>\n",
       "      <td>0.0666</td>\n",
       "      <td>0.0461</td>\n",
       "      <td>0.0488</td>\n",
       "      <td>0.0324</td>\n",
       "      <td>0.0281</td>\n",
       "      <td>0.0238</td>\n",
       "      <td>1.168473</td>\n",
       "      <td>1.096035</td>\n",
       "      <td>0.421458</td>\n",
       "      <td>0.311940</td>\n",
       "      <td>-0.154246</td>\n",
       "      <td>23.158824</td>\n",
       "    </tr>\n",
       "    <tr>\n",
       "      <th>3</th>\n",
       "      <td>233</td>\n",
       "      <td>1133</td>\n",
       "      <td>3.268182</td>\n",
       "      <td>0.1199</td>\n",
       "      <td>0.0882</td>\n",
       "      <td>0.0692</td>\n",
       "      <td>0.0452</td>\n",
       "      <td>0.0488</td>\n",
       "      <td>0.0324</td>\n",
       "      <td>0.0281</td>\n",
       "      <td>0.0232</td>\n",
       "      <td>1.175411</td>\n",
       "      <td>1.111754</td>\n",
       "      <td>0.421458</td>\n",
       "      <td>0.322339</td>\n",
       "      <td>-0.172881</td>\n",
       "      <td>23.158824</td>\n",
       "    </tr>\n",
       "    <tr>\n",
       "      <th>4</th>\n",
       "      <td>233</td>\n",
       "      <td>1134</td>\n",
       "      <td>3.278125</td>\n",
       "      <td>0.1196</td>\n",
       "      <td>0.0884</td>\n",
       "      <td>0.0677</td>\n",
       "      <td>0.0454</td>\n",
       "      <td>0.0489</td>\n",
       "      <td>0.0323</td>\n",
       "      <td>0.0285</td>\n",
       "      <td>0.0238</td>\n",
       "      <td>1.174645</td>\n",
       "      <td>1.104724</td>\n",
       "      <td>0.419585</td>\n",
       "      <td>0.321375</td>\n",
       "      <td>-0.161235</td>\n",
       "      <td>23.607309</td>\n",
       "    </tr>\n",
       "  </tbody>\n",
       "</table>\n",
       "</div>"
      ],
      "text/plain": [
       "     x     y         z      b1      b2      b3      b4      b5      b6  \\\n",
       "0  233  1130  3.195862  0.1199  0.0866  0.0667  0.0464  0.0490  0.0316   \n",
       "1  233  1131  3.273030  0.1199  0.0880  0.0668  0.0457  0.0490  0.0316   \n",
       "2  233  1132  3.299687  0.1199  0.0879  0.0666  0.0461  0.0488  0.0324   \n",
       "3  233  1133  3.268182  0.1199  0.0882  0.0692  0.0452  0.0488  0.0324   \n",
       "4  233  1134  3.278125  0.1196  0.0884  0.0677  0.0454  0.0489  0.0323   \n",
       "\n",
       "       b7      b8      b2b4      b3b4    ndwi15    ndwi24    ndwi53     cspmb7  \n",
       "0  0.0283  0.0238  1.162614  1.094573  0.419775  0.302256 -0.152982  23.382784  \n",
       "1  0.0283  0.0237  1.171434  1.099318  0.419775  0.316380 -0.153713  23.382784  \n",
       "2  0.0281  0.0238  1.168473  1.096035  0.421458  0.311940 -0.154246  23.158824  \n",
       "3  0.0281  0.0232  1.175411  1.111754  0.421458  0.322339 -0.172881  23.158824  \n",
       "4  0.0285  0.0238  1.174645  1.104724  0.419585  0.321375 -0.161235  23.607309  "
      ]
     },
     "execution_count": 19,
     "metadata": {},
     "output_type": "execute_result"
    }
   ],
   "source": [
    "df = jb.load('../data/generated/df_newimages_bands_downside.pkl.z')\n",
    "df.head()"
   ]
  },
  {
   "cell_type": "code",
   "execution_count": 20,
   "metadata": {},
   "outputs": [],
   "source": [
    "coords_x = []\n",
    "coords_y = []\n",
    "for x, y in zip(df.x, df.y):\n",
    "    coord_x, coord_y = get_coord_from_pixel_pos(x, y)\n",
    "    coords_x.append(coord_x)\n",
    "    coords_y.append(coord_y)\n",
    "\n",
    "df['global_x'] = coords_x\n",
    "df['global_y'] = coords_y"
   ]
  },
  {
   "cell_type": "code",
   "execution_count": 21,
   "metadata": {},
   "outputs": [],
   "source": [
    "# Split before bucketize\n",
    "X_train, X_val, y_train, y_val = train_test_split(df.drop(['z', 'x', 'y'], axis=1), df.z, test_size=0.3, random_state=42)"
   ]
  },
  {
   "cell_type": "code",
   "execution_count": 22,
   "metadata": {},
   "outputs": [
    {
     "data": {
      "text/plain": [
       "KBinsDiscretizer(encode='ordinal', n_bins=20, strategy='uniform')"
      ]
     },
     "execution_count": 22,
     "metadata": {},
     "output_type": "execute_result"
    }
   ],
   "source": [
    "Kbins = KBinsDiscretizer(n_bins=20, encode='ordinal', strategy='uniform')\n",
    "Kbins.fit(X_train[['global_x', 'global_y']])"
   ]
  },
  {
   "cell_type": "code",
   "execution_count": 23,
   "metadata": {},
   "outputs": [],
   "source": [
    "kbins_coords_train = Kbins.transform(X_train[['global_x', 'global_y']])\n",
    "kbins_coords_df_train = pd.DataFrame(kbins_coords_train, columns=['kbins_coords_x','kbins_coords_y'], index=X_train.index)\n",
    "\n",
    "kbins_coords_val = Kbins.transform(X_val[['global_x', 'global_y']])\n",
    "kbins_coords_df_val = pd.DataFrame(kbins_coords_val, columns=['kbins_coords_x','kbins_coords_y'], index=X_val.index)"
   ]
  },
  {
   "cell_type": "code",
   "execution_count": 24,
   "metadata": {},
   "outputs": [],
   "source": [
    "X_train = pd.concat([X_train, kbins_coords_df_train], axis=1).drop(['global_x', 'global_y'], axis=1)\n",
    "X_val = pd.concat([X_val, kbins_coords_df_val], axis=1).drop(['global_x', 'global_y'], axis=1)"
   ]
  },
  {
   "cell_type": "code",
   "execution_count": 25,
   "metadata": {},
   "outputs": [
    {
     "data": {
      "text/plain": [
       "RandomForestRegressor()"
      ]
     },
     "execution_count": 25,
     "metadata": {},
     "output_type": "execute_result"
    }
   ],
   "source": [
    "rf = RandomForestRegressor()\n",
    "rf.fit(X_train, y_train)"
   ]
  },
  {
   "cell_type": "code",
   "execution_count": 26,
   "metadata": {},
   "outputs": [
    {
     "name": "stdout",
     "output_type": "stream",
     "text": [
      "rf r2: 0.9284032397042754\n",
      "rf mae: 0.7114590513797363\n",
      "rf mse: 1.4533177117595588\n",
      "rf rmse: 1.2055362755884034\n"
     ]
    }
   ],
   "source": [
    "p_rf = rf.predict(X_val)\n",
    "print('rf r2:', r2_score(y_val, p_rf))\n",
    "print('rf mae:', mean_absolute_error(y_val, p_rf))\n",
    "print('rf mse:', mean_squared_error(y_val, p_rf))\n",
    "print('rf rmse:', np.sqrt(mean_squared_error(y_val, p_rf)))"
   ]
  },
  {
   "cell_type": "code",
   "execution_count": 45,
   "metadata": {},
   "outputs": [],
   "source": [
    "train_data = X_train.copy()\n",
    "val_data = X_val.copy()\n",
    "\n",
    "train_data['x'] = df[df.index.isin(X_train.index)].x\n",
    "train_data['y'] = df[df.index.isin(X_train.index)].y\n",
    "train_data['z'] = df[df.index.isin(X_train.index)].z\n",
    "\n",
    "\n",
    "val_data['x'X] = df[df.index.isin(X_val.index)].x\n",
    "val_data['y'] = df[df.index.isin(X_val.index)].y\n",
    "val_data['z'] = df[df.index.isin(X_val.index)].z"
   ]
  },
  {
   "cell_type": "code",
   "execution_count": 47,
   "metadata": {},
   "outputs": [
    {
     "data": {
      "text/plain": [
       "['output_data/predict_rf_best.pkl.z']"
      ]
     },
     "execution_count": 47,
     "metadata": {},
     "output_type": "execute_result"
    }
   ],
   "source": [
    "# Dump data\n",
    "jb.dump(X_train, 'output_data/train_data_bestmodel.pkl.z')\n",
    "\n",
    "jb.dump(X_val, 'output_data/val_data_bestmodel.pkl.z')\n",
    "\n",
    "jb.dump(p_rf, 'output_data/predict_rf_best.pkl.z')"
   ]
  },
  {
   "cell_type": "code",
   "execution_count": 49,
   "metadata": {},
   "outputs": [
    {
     "data": {
      "text/plain": [
       "['models/rf_binscoords_20.pkl.z']"
      ]
     },
     "execution_count": 49,
     "metadata": {},
     "output_type": "execute_result"
    }
   ],
   "source": [
    "# Save model\n",
    "jb.dump(rf, 'models/rf_binscoords_20.pkl.z')"
   ]
  },
  {
   "cell_type": "code",
   "execution_count": 50,
   "metadata": {},
   "outputs": [],
   "source": [
    "# Baseline"
   ]
  },
  {
   "cell_type": "code",
   "execution_count": 54,
   "metadata": {},
   "outputs": [],
   "source": [
    "X_train_base = X_train.drop(['kbins_coords_x', 'kbins_coords_y', 'x', 'y', 'z'], axis=1)\n",
    "y_train_base = X_train.z\n",
    "\n",
    "X_val_base = X_val.drop(['kbins_coords_x', 'kbins_coords_y', 'x', 'y', 'z'], axis=1)\n",
    "y_val_base = X_val.z"
   ]
  },
  {
   "cell_type": "code",
   "execution_count": 55,
   "metadata": {},
   "outputs": [
    {
     "data": {
      "text/plain": [
       "RandomForestRegressor()"
      ]
     },
     "execution_count": 55,
     "metadata": {},
     "output_type": "execute_result"
    }
   ],
   "source": [
    "rf_base = RandomForestRegressor()\n",
    "rf_base.fit(X_train_base, y_train_base)"
   ]
  },
  {
   "cell_type": "code",
   "execution_count": 60,
   "metadata": {},
   "outputs": [
    {
     "name": "stdout",
     "output_type": "stream",
     "text": [
      "rf r2: 0.7697874495529399\n",
      "rf mae: 1.4612612532291767\n",
      "rf mse: 4.673004416011722\n",
      "rf rmse: 2.161713305693362\n"
     ]
    }
   ],
   "source": [
    "p_base = rf_base.predict(X_val_base)\n",
    "print('rf r2:', r2_score(y_val, p_base))\n",
    "print('rf mae:', mean_absolute_error(y_val, p_base))\n",
    "print('rf mse:', mean_squared_error(y_val, p_base))\n",
    "print('rf rmse:', np.sqrt(mean_squared_error(y_val, p_base)))"
   ]
  },
  {
   "cell_type": "code",
   "execution_count": 61,
   "metadata": {},
   "outputs": [
    {
     "data": {
      "text/plain": [
       "['output_data/predict_rf_baseline.pkl.z']"
      ]
     },
     "execution_count": 61,
     "metadata": {},
     "output_type": "execute_result"
    }
   ],
   "source": [
    "jb.dump(p_base, 'output_data/predict_rf_baseline.pkl.z')"
   ]
  },
  {
   "cell_type": "code",
   "execution_count": null,
   "metadata": {},
   "outputs": [],
   "source": []
  }
 ],
 "metadata": {
  "kernelspec": {
   "display_name": "Python 3",
   "language": "python",
   "name": "python3"
  },
  "language_info": {
   "codemirror_mode": {
    "name": "ipython",
    "version": 3
   },
   "file_extension": ".py",
   "mimetype": "text/x-python",
   "name": "python",
   "nbconvert_exporter": "python",
   "pygments_lexer": "ipython3",
   "version": "3.8.5"
  }
 },
 "nbformat": 4,
 "nbformat_minor": 4
}
