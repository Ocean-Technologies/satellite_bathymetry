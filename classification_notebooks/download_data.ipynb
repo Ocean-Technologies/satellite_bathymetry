{
 "cells": [
  {
   "cell_type": "code",
   "execution_count": 1,
   "metadata": {},
   "outputs": [],
   "source": [
    "import ee\n",
    "import geemap"
   ]
  },
  {
   "cell_type": "code",
   "execution_count": null,
   "metadata": {},
   "outputs": [],
   "source": []
  },
  {
   "cell_type": "code",
   "execution_count": 2,
   "metadata": {
    "scrolled": true
   },
   "outputs": [
    {
     "data": {
      "application/vnd.jupyter.widget-view+json": {
       "model_id": "0c7a229d328e4e378c3b919e3c59d7ba",
       "version_major": 2,
       "version_minor": 0
      },
      "text/plain": [
       "Map(center=[40, -100], controls=(WidgetControl(options=['position'], widget=HBox(children=(ToggleButton(value=…"
      ]
     },
     "metadata": {},
     "output_type": "display_data"
    }
   ],
   "source": [
    "Map = geemap.Map()\n",
    "Map"
   ]
  },
  {
   "cell_type": "code",
   "execution_count": null,
   "metadata": {},
   "outputs": [],
   "source": [
    "# geemap.update_package()"
   ]
  },
  {
   "cell_type": "code",
   "execution_count": 31,
   "metadata": {},
   "outputs": [],
   "source": [
    "roi = Map.draw_last_feature"
   ]
  },
  {
   "cell_type": "code",
   "execution_count": 49,
   "metadata": {},
   "outputs": [],
   "source": [
    "collection = geemap.landsat_timeseries(roi=roi, start_year=2017, end_year=2020, start_date='06-10', end_date='09-20')"
   ]
  },
  {
   "cell_type": "code",
   "execution_count": 26,
   "metadata": {},
   "outputs": [],
   "source": [
    "# Define arguments for animation function parameters.\n",
    "video_args = {\n",
    "  'dimensions': 1920,\n",
    "  'region': roi,\n",
    "  'framesPerSecond': 10,\n",
    "  'bands': ['NIR', 'Red', 'Green'],\n",
    "  'min': 0,\n",
    "  'max': 4000,\n",
    "  'gamma': [1, 1, 1]\n",
    "}"
   ]
  },
  {
   "cell_type": "code",
   "execution_count": 27,
   "metadata": {},
   "outputs": [],
   "source": [
    "from pathlib import Path\n",
    "path = Path('download')\n",
    "\n",
    "if not path.exists():\n",
    "    path.mkdir()\n",
    "\n",
    "work_dir = str(path)"
   ]
  },
  {
   "cell_type": "code",
   "execution_count": 28,
   "metadata": {},
   "outputs": [
    {
     "name": "stdout",
     "output_type": "stream",
     "text": [
      "Generating URL...\n",
      "Downloading GIF image from https://earthengine.googleapis.com/v1alpha/projects/earthengine-legacy/videoThumbnails/643c06f63ea64950251d7654381ee3f5-792d832d6ec0160af5f26831f032ab7e:getPixels\n",
      "Please wait ...\n",
      "The GIF image has been saved to: /home/vinicius/Área de Trabalho/Faculdade/2020_1/TCC/satellite_bathymetry/classification_notebooks/download/output.gif\n"
     ]
    }
   ],
   "source": [
    "geemap.download_ee_video(collection, video_args, f'{work_dir}/output.gif')"
   ]
  },
  {
   "cell_type": "code",
   "execution_count": 62,
   "metadata": {},
   "outputs": [
    {
     "name": "stdout",
     "output_type": "stream",
     "text": [
      "Generating URL ...\n",
      "Downloading data from https://earthengine.googleapis.com/v1alpha/projects/earthengine-legacy/thumbnails/2ff042e6d4aaaefd6b19b0335a70a40c-e17711f4eac5f3cfc5fd24e52d20671e:getPixels\n",
      "Please wait ...\n",
      "Data downloaded to /home/vinicius/Área de Trabalho/Faculdade/2020_1/TCC/satellite_bathymetry/classification_notebooks/test.tif\n"
     ]
    }
   ],
   "source": [
    "geemap.ee_export_image(collection.first(), 'test.tif', region=roi.geometry(), scale=60)"
   ]
  },
  {
   "cell_type": "code",
   "execution_count": 48,
   "metadata": {},
   "outputs": [
    {
     "name": "stdout",
     "output_type": "stream",
     "text": [
      "Total number of images: 4\n",
      "\n",
      "Exporting 1/4: 0.tif\n",
      "Generating URL ...\n",
      "Downloading data from https://earthengine.googleapis.com/v1alpha/projects/earthengine-legacy/thumbnails/383459abe08e59f3976697a684b9b7b1-af3a3e8326e72a5060c23290bfca4ab7:getPixels\n",
      "Please wait ...\n",
      "Data downloaded to /home/vinicius/Área de Trabalho/Faculdade/2020_1/TCC/satellite_bathymetry/classification_notebooks/download\n",
      "\n",
      "\n",
      "Exporting 2/4: 1.tif\n",
      "Generating URL ...\n",
      "Downloading data from https://earthengine.googleapis.com/v1alpha/projects/earthengine-legacy/thumbnails/1e4b7e9d9e9a939d815085afb6d9bbf2-dd185ca05f3137d0e01daba5cf697584:getPixels\n",
      "Please wait ...\n",
      "Data downloaded to /home/vinicius/Área de Trabalho/Faculdade/2020_1/TCC/satellite_bathymetry/classification_notebooks/download\n",
      "\n",
      "\n",
      "Exporting 3/4: 2.tif\n",
      "Generating URL ...\n",
      "Downloading data from https://earthengine.googleapis.com/v1alpha/projects/earthengine-legacy/thumbnails/d008e26347ea3ab4825a78d1f4569a86-567e0437939f645f0cb82e40aae4676b:getPixels\n",
      "Please wait ...\n",
      "Data downloaded to /home/vinicius/Área de Trabalho/Faculdade/2020_1/TCC/satellite_bathymetry/classification_notebooks/download\n",
      "\n",
      "\n",
      "Exporting 4/4: 3.tif\n",
      "Generating URL ...\n",
      "Downloading data from https://earthengine.googleapis.com/v1alpha/projects/earthengine-legacy/thumbnails/852e5d98ef25e67c9d7d8bfd69e95143-f49fa24ffa65e628ee0238e8070cc862:getPixels\n",
      "Please wait ...\n",
      "Data downloaded to /home/vinicius/Área de Trabalho/Faculdade/2020_1/TCC/satellite_bathymetry/classification_notebooks/download\n",
      "\n",
      "\n"
     ]
    }
   ],
   "source": [
    "geemap.ee_export_image_collection(ee_object=collection, out_dir='download', file_per_band=True, scale=1920)"
   ]
  },
  {
   "cell_type": "code",
   "execution_count": null,
   "metadata": {},
   "outputs": [],
   "source": []
  }
 ],
 "metadata": {
  "kernelspec": {
   "display_name": "Python 3",
   "language": "python",
   "name": "python3"
  },
  "language_info": {
   "codemirror_mode": {
    "name": "ipython",
    "version": 3
   },
   "file_extension": ".py",
   "mimetype": "text/x-python",
   "name": "python",
   "nbconvert_exporter": "python",
   "pygments_lexer": "ipython3",
   "version": "3.8.5"
  }
 },
 "nbformat": 4,
 "nbformat_minor": 4
}
