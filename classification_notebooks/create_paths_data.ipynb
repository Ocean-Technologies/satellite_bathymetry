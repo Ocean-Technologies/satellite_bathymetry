{
 "cells": [
  {
   "cell_type": "code",
   "execution_count": 1,
   "metadata": {},
   "outputs": [],
   "source": [
    "import pandas as pd\n",
    "import numpy as np\n",
    "import matplotlib.pyplot as plt\n",
    "import tifffile\n",
    "from pathlib import Path\n",
    "import cv2\n",
    "from satellite_bathymetry.preprocessing import ndwi\n",
    "from glob import glob"
   ]
  },
  {
   "cell_type": "code",
   "execution_count": 2,
   "metadata": {},
   "outputs": [],
   "source": [
    "\n",
    "down_sufix = 'JGR'\n",
    "upper_sufix = 'JGS'\n",
    "\n",
    "images_dir = './download/best_images/'\n",
    "down_images_list = [e for e in glob(f'{images_dir}*') if down_sufix in e]\n",
    "up_images_list = [e for e in glob(f'{images_dir}*') if upper_sufix in e]"
   ]
  },
  {
   "cell_type": "code",
   "execution_count": 3,
   "metadata": {},
   "outputs": [
    {
     "data": {
      "text/plain": [
       "(104, 112)"
      ]
     },
     "execution_count": 3,
     "metadata": {},
     "output_type": "execute_result"
    }
   ],
   "source": [
    "len(down_images_list), len(up_images_list) # why different? "
   ]
  },
  {
   "cell_type": "code",
   "execution_count": 32,
   "metadata": {},
   "outputs": [],
   "source": [
    "only_dates_up = [e.split('/')[3].split('_T22JGS')[0] + '_' + e.split('/')[3].split('.')[1] for e in up_images_list]\n",
    "only_dates_down = [e.split('/')[3].split('_T22JGR')[0] + '_' + e.split('/')[3].split('.')[1] for e in down_images_list]"
   ]
  },
  {
   "cell_type": "code",
   "execution_count": 40,
   "metadata": {},
   "outputs": [],
   "source": [
    "only_dates_up = [e.split('/')[3].split('_T22JGS')[0] for e in up_images_list]\n",
    "only_dates_down = [e.split('/')[3].split('_T22JGR')[0] for e in down_images_list]"
   ]
  },
  {
   "cell_type": "code",
   "execution_count": 48,
   "metadata": {},
   "outputs": [],
   "source": [
    "set_dates_up = set(only_dates_up)"
   ]
  },
  {
   "cell_type": "code",
   "execution_count": 47,
   "metadata": {},
   "outputs": [
    {
     "data": {
      "text/plain": [
       "(112, 14)"
      ]
     },
     "execution_count": 47,
     "metadata": {},
     "output_type": "execute_result"
    }
   ],
   "source": [
    "len(only_dates_up), len(set(only_dates_up))"
   ]
  },
  {
   "cell_type": "code",
   "execution_count": 94,
   "metadata": {},
   "outputs": [],
   "source": [
    "# Create tuples\n",
    "\n",
    "output = dict()\n",
    "for i, image_name in enumerate(set_dates_up):\n",
    "    if image_name in only_dates_down:\n",
    "        indexes_down = [idx for idx, x in enumerate(only_dates_down) if x == image_name]\n",
    "        indexes_up = [idx for idx, x in enumerate(only_dates_up) if x == image_name]\n",
    "        \n",
    "        aux_dict = {}\n",
    "        for down_idx, up_idx in zip(indexes_down, index_up):\n",
    "            path_down = down_images_list[down_idx]\n",
    "            path_up = up_images_list[up_idx]\n",
    "            \n",
    "            band = path_down.split('.')[-2].lower()\n",
    "            \n",
    "            aux_dict[band] = {\n",
    "                'down': path_down,\n",
    "                'up': path_up\n",
    "            }\n",
    "                   \n",
    "        key = image_name.split('T')[0]\n",
    "        key = f'{key[0:4]}_{key[4:6]}_{key[6:8]}'\n",
    "        output[key] = aux_dict\n"
   ]
  },
  {
   "cell_type": "code",
   "execution_count": 95,
   "metadata": {},
   "outputs": [],
   "source": [
    "import json\n",
    "with open('tuple_path.json', 'w') as fp:\n",
    "    json.dump(output, fp, indent=4)"
   ]
  }
 ],
 "metadata": {
  "kernelspec": {
   "display_name": "Python 3",
   "language": "python",
   "name": "python3"
  },
  "language_info": {
   "codemirror_mode": {
    "name": "ipython",
    "version": 3
   },
   "file_extension": ".py",
   "mimetype": "text/x-python",
   "name": "python",
   "nbconvert_exporter": "python",
   "pygments_lexer": "ipython3",
   "version": "3.8.5"
  }
 },
 "nbformat": 4,
 "nbformat_minor": 4
}
