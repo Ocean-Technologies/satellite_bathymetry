{
 "cells": [
  {
   "cell_type": "code",
   "execution_count": 1,
   "metadata": {},
   "outputs": [],
   "source": [
    "import tifffile\n",
    "import pandas as pd\n",
    "import joblib as jb\n",
    "import numpy as np\n",
    "import matplotlib.pyplot as plt\n",
    "import ee\n",
    "import geemap\n",
    "from pathlib import Path"
   ]
  },
  {
   "cell_type": "code",
   "execution_count": 10,
   "metadata": {},
   "outputs": [
    {
     "data": {
      "application/vnd.jupyter.widget-view+json": {
       "model_id": "3bf66d774aa94645b12a70d2da72d270",
       "version_major": 2,
       "version_minor": 0
      },
      "text/plain": [
       "Map(center=[40, -100], controls=(WidgetControl(options=['position'], widget=HBox(children=(ToggleButton(value=…"
      ]
     },
     "metadata": {},
     "output_type": "display_data"
    }
   ],
   "source": [
    "Map = geemap.Map()\n",
    "Map"
   ]
  },
  {
   "cell_type": "code",
   "execution_count": 11,
   "metadata": {},
   "outputs": [],
   "source": [
    "collection = ee.ImageCollection(\"COPERNICUS/S2_SR\")"
   ]
  },
  {
   "cell_type": "code",
   "execution_count": 12,
   "metadata": {},
   "outputs": [],
   "source": [
    "feature = Map.draw_last_feature\n",
    "roi = feature.geometry()"
   ]
  },
  {
   "cell_type": "code",
   "execution_count": 23,
   "metadata": {},
   "outputs": [],
   "source": [
    "Map.addLayer(collection_roi, {\n",
    "  'bands': ['B1'], \n",
    "  'min': 0,\n",
    "  'max': 255,\n",
    "});"
   ]
  },
  {
   "cell_type": "code",
   "execution_count": 15,
   "metadata": {},
   "outputs": [],
   "source": [
    "out_dir = '/home/vinicius/Área de Trabalho/Faculdade/2020_1/TCC/download_data/new_sentinel_data/'"
   ]
  },
  {
   "cell_type": "code",
   "execution_count": 16,
   "metadata": {},
   "outputs": [],
   "source": [
    "collection_roi = collection.filterBounds(roi).filterDate('2018-01-01', '2020-01-01').filter(ee.Filter.lte('CLOUDY_PIXEL_PERCENTAGE',4)).select(['B1', 'B2', 'B3', 'B4', 'B5', 'B6', 'B7', 'B8'])"
   ]
  },
  {
   "cell_type": "code",
   "execution_count": 17,
   "metadata": {},
   "outputs": [
    {
     "data": {
      "text/plain": [
       "[{'id': 'B1',\n",
       "  'data_type': {'type': 'PixelType',\n",
       "   'precision': 'int',\n",
       "   'min': 0,\n",
       "   'max': 65535},\n",
       "  'dimensions': [1830, 1830],\n",
       "  'crs': 'EPSG:32722',\n",
       "  'crs_transform': [60, 0, 699960, 0, -60, 7100020]},\n",
       " {'id': 'B2',\n",
       "  'data_type': {'type': 'PixelType',\n",
       "   'precision': 'int',\n",
       "   'min': 0,\n",
       "   'max': 65535},\n",
       "  'dimensions': [10980, 10980],\n",
       "  'crs': 'EPSG:32722',\n",
       "  'crs_transform': [10, 0, 699960, 0, -10, 7100020]},\n",
       " {'id': 'B3',\n",
       "  'data_type': {'type': 'PixelType',\n",
       "   'precision': 'int',\n",
       "   'min': 0,\n",
       "   'max': 65535},\n",
       "  'dimensions': [10980, 10980],\n",
       "  'crs': 'EPSG:32722',\n",
       "  'crs_transform': [10, 0, 699960, 0, -10, 7100020]},\n",
       " {'id': 'B4',\n",
       "  'data_type': {'type': 'PixelType',\n",
       "   'precision': 'int',\n",
       "   'min': 0,\n",
       "   'max': 65535},\n",
       "  'dimensions': [10980, 10980],\n",
       "  'crs': 'EPSG:32722',\n",
       "  'crs_transform': [10, 0, 699960, 0, -10, 7100020]},\n",
       " {'id': 'B5',\n",
       "  'data_type': {'type': 'PixelType',\n",
       "   'precision': 'int',\n",
       "   'min': 0,\n",
       "   'max': 65535},\n",
       "  'dimensions': [5490, 5490],\n",
       "  'crs': 'EPSG:32722',\n",
       "  'crs_transform': [20, 0, 699960, 0, -20, 7100020]},\n",
       " {'id': 'B6',\n",
       "  'data_type': {'type': 'PixelType',\n",
       "   'precision': 'int',\n",
       "   'min': 0,\n",
       "   'max': 65535},\n",
       "  'dimensions': [5490, 5490],\n",
       "  'crs': 'EPSG:32722',\n",
       "  'crs_transform': [20, 0, 699960, 0, -20, 7100020]},\n",
       " {'id': 'B7',\n",
       "  'data_type': {'type': 'PixelType',\n",
       "   'precision': 'int',\n",
       "   'min': 0,\n",
       "   'max': 65535},\n",
       "  'dimensions': [5490, 5490],\n",
       "  'crs': 'EPSG:32722',\n",
       "  'crs_transform': [20, 0, 699960, 0, -20, 7100020]},\n",
       " {'id': 'B8',\n",
       "  'data_type': {'type': 'PixelType',\n",
       "   'precision': 'int',\n",
       "   'min': 0,\n",
       "   'max': 65535},\n",
       "  'dimensions': [10980, 10980],\n",
       "  'crs': 'EPSG:32722',\n",
       "  'crs_transform': [10, 0, 699960, 0, -10, 7100020]}]"
      ]
     },
     "execution_count": 17,
     "metadata": {},
     "output_type": "execute_result"
    }
   ],
   "source": [
    "collection_roi.first().getInfo()['bands']"
   ]
  },
  {
   "cell_type": "code",
   "execution_count": 11,
   "metadata": {},
   "outputs": [
    {
     "name": "stdout",
     "output_type": "stream",
     "text": [
      "Count:  14\n",
      "\n"
     ]
    }
   ],
   "source": [
    "count = collection_roi.size()\n",
    "print('Count: ', str(count.getInfo())+'\\n')"
   ]
  },
  {
   "cell_type": "code",
   "execution_count": 20,
   "metadata": {},
   "outputs": [
    {
     "name": "stdout",
     "output_type": "stream",
     "text": [
      "Total number of images: 14\n",
      "\n",
      "Exporting 1/14: 20190130T132239_20190130T132233_T22JGR.tif\n",
      "Generating URL ...\n",
      "Downloading data from https://earthengine.googleapis.com/v1alpha/projects/earthengine-legacy/thumbnails/351015e2d80e5b5e8c3f0de56832e729-d8b6866f0f4d5f43b8b0e33c17d9878b:getPixels\n",
      "Please wait ...\n",
      "Data downloaded to /home/vinicius/Área de Trabalho/Faculdade/2020_1/TCC/download_data/new_sentinel_data\n",
      "\n",
      "\n",
      "Exporting 2/14: 20190130T132239_20190130T132233_T22JGS.tif\n",
      "Generating URL ...\n",
      "Downloading data from https://earthengine.googleapis.com/v1alpha/projects/earthengine-legacy/thumbnails/690d3b133155a203fb055ed4716e0aa2-62f18a72cc2da450560311053e249c36:getPixels\n",
      "Please wait ...\n",
      "Data downloaded to /home/vinicius/Área de Trabalho/Faculdade/2020_1/TCC/download_data/new_sentinel_data\n",
      "\n",
      "\n",
      "Exporting 3/14: 20190209T132239_20190209T132233_T22JGS.tif\n",
      "Generating URL ...\n",
      "Downloading data from https://earthengine.googleapis.com/v1alpha/projects/earthengine-legacy/thumbnails/6a7c3ec69760c7eb17dff42726bc2bca-ddfd8dd367dd6a60ac205f782855ec3a:getPixels\n",
      "Please wait ...\n",
      "Data downloaded to /home/vinicius/Área de Trabalho/Faculdade/2020_1/TCC/download_data/new_sentinel_data\n",
      "\n",
      "\n",
      "Exporting 4/14: 20190415T132241_20190415T132235_T22JGR.tif\n",
      "Generating URL ...\n",
      "Downloading data from https://earthengine.googleapis.com/v1alpha/projects/earthengine-legacy/thumbnails/cb0122e7ab6b9a7aa253aa661a9fa7c0-4507fb9e8b8202ceece50537a112ce0f:getPixels\n",
      "Please wait ...\n",
      "Data downloaded to /home/vinicius/Área de Trabalho/Faculdade/2020_1/TCC/download_data/new_sentinel_data\n",
      "\n",
      "\n",
      "Exporting 5/14: 20190415T132241_20190415T132235_T22JGS.tif\n",
      "Generating URL ...\n",
      "Downloading data from https://earthengine.googleapis.com/v1alpha/projects/earthengine-legacy/thumbnails/9e96d296c783773c4a34f663baaf673d-029eb6dd5a43e1dcc04cb5c4373d3bcf:getPixels\n",
      "Please wait ...\n",
      "Data downloaded to /home/vinicius/Área de Trabalho/Faculdade/2020_1/TCC/download_data/new_sentinel_data\n",
      "\n",
      "\n",
      "Exporting 6/14: 20190525T132241_20190525T132236_T22JGS.tif\n",
      "Generating URL ...\n",
      "Downloading data from https://earthengine.googleapis.com/v1alpha/projects/earthengine-legacy/thumbnails/b9e415d5c375b9bc8781e6d5c1e98695-eec81251c9edf6bbddb65466feea0eb9:getPixels\n",
      "Please wait ...\n",
      "Data downloaded to /home/vinicius/Área de Trabalho/Faculdade/2020_1/TCC/download_data/new_sentinel_data\n",
      "\n",
      "\n",
      "Exporting 7/14: 20190604T132241_20190604T132926_T22JGR.tif\n",
      "Generating URL ...\n",
      "Downloading data from https://earthengine.googleapis.com/v1alpha/projects/earthengine-legacy/thumbnails/ec52d9b662ca5f893389cde3c3ee2693-3d44a12524340c9ac4015d3f222299a7:getPixels\n",
      "Please wait ...\n",
      "Data downloaded to /home/vinicius/Área de Trabalho/Faculdade/2020_1/TCC/download_data/new_sentinel_data\n",
      "\n",
      "\n",
      "Exporting 8/14: 20190604T132241_20190604T132926_T22JGS.tif\n",
      "Generating URL ...\n",
      "Downloading data from https://earthengine.googleapis.com/v1alpha/projects/earthengine-legacy/thumbnails/9486bedf6aaef6e51d3eeb279588684b-4745ed2cae6d06e9ed2e0c713fac8ab3:getPixels\n",
      "Please wait ...\n",
      "Data downloaded to /home/vinicius/Área de Trabalho/Faculdade/2020_1/TCC/download_data/new_sentinel_data\n",
      "\n",
      "\n",
      "Exporting 9/14: 20190619T132239_20190619T132240_T22JGR.tif\n",
      "Generating URL ...\n",
      "Downloading data from https://earthengine.googleapis.com/v1alpha/projects/earthengine-legacy/thumbnails/a0ec5ed669a5d120832dd89b969c4bda-a48ccb45f944cc7340dac30664850340:getPixels\n",
      "Please wait ...\n",
      "Data downloaded to /home/vinicius/Área de Trabalho/Faculdade/2020_1/TCC/download_data/new_sentinel_data\n",
      "\n",
      "\n",
      "Exporting 10/14: 20190619T132239_20190619T132240_T22JGS.tif\n",
      "Generating URL ...\n",
      "Downloading data from https://earthengine.googleapis.com/v1alpha/projects/earthengine-legacy/thumbnails/2e8cdda439b2e9d71fa01040c2e7e31b-cd180f02234ba317cbb97be46238907a:getPixels\n",
      "Please wait ...\n",
      "Data downloaded to /home/vinicius/Área de Trabalho/Faculdade/2020_1/TCC/download_data/new_sentinel_data\n",
      "\n",
      "\n",
      "Exporting 11/14: 20190709T132239_20190709T132813_T22JGS.tif\n",
      "Generating URL ...\n",
      "Downloading data from https://earthengine.googleapis.com/v1alpha/projects/earthengine-legacy/thumbnails/d9a4681f565c65efc27c0f53bd4fcf7e-a70ae42855c60792ac1626d3f5b74162:getPixels\n",
      "Please wait ...\n",
      "Data downloaded to /home/vinicius/Área de Trabalho/Faculdade/2020_1/TCC/download_data/new_sentinel_data\n",
      "\n",
      "\n",
      "Exporting 12/14: 20190724T132241_20190724T132238_T22JGS.tif\n",
      "Generating URL ...\n",
      "Downloading data from https://earthengine.googleapis.com/v1alpha/projects/earthengine-legacy/thumbnails/a7b29faf88180da5c716b7e1bd0f4cc1-885c46c58c80d1d17eebe210554defa7:getPixels\n",
      "Please wait ...\n",
      "Data downloaded to /home/vinicius/Área de Trabalho/Faculdade/2020_1/TCC/download_data/new_sentinel_data\n",
      "\n",
      "\n",
      "Exporting 13/14: 20190803T132241_20190803T132910_T22JGR.tif\n",
      "Generating URL ...\n",
      "Downloading data from https://earthengine.googleapis.com/v1alpha/projects/earthengine-legacy/thumbnails/64e3182af6588faf157a7e67ee3ccdfa-6e01100d3cf9152351055a8551fc9948:getPixels\n",
      "Please wait ...\n",
      "Data downloaded to /home/vinicius/Área de Trabalho/Faculdade/2020_1/TCC/download_data/new_sentinel_data\n",
      "\n",
      "\n",
      "Exporting 14/14: 20191226T132229_20191226T132409_T22JGR.tif\n",
      "Generating URL ...\n",
      "Downloading data from https://earthengine.googleapis.com/v1alpha/projects/earthengine-legacy/thumbnails/e718fb2bffb8f7aa3c21299373d7b79d-60f407b0ccd9de0777a784cdb901d567:getPixels\n",
      "Please wait ...\n",
      "Data downloaded to /home/vinicius/Área de Trabalho/Faculdade/2020_1/TCC/download_data/new_sentinel_data\n",
      "\n",
      "\n"
     ]
    }
   ],
   "source": [
    "geemap.ee_export_image_collection(collection_roi, out_dir=out_dir, scale=25, file_per_band=True, region=roi)"
   ]
  },
  {
   "cell_type": "code",
   "execution_count": null,
   "metadata": {},
   "outputs": [],
   "source": []
  }
 ],
 "metadata": {
  "kernelspec": {
   "display_name": "Python 3",
   "language": "python",
   "name": "python3"
  },
  "language_info": {
   "codemirror_mode": {
    "name": "ipython",
    "version": 3
   },
   "file_extension": ".py",
   "mimetype": "text/x-python",
   "name": "python",
   "nbconvert_exporter": "python",
   "pygments_lexer": "ipython3",
   "version": "3.8.5"
  }
 },
 "nbformat": 4,
 "nbformat_minor": 4
}
