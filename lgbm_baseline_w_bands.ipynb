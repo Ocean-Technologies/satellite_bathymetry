{
 "cells": [
  {
   "cell_type": "code",
   "execution_count": 2,
   "metadata": {},
   "outputs": [],
   "source": [
    "import numpy as np\n",
    "import matplotlib.pyplot as plt\n",
    "from PIL import Image\n",
    "import tifffile\n",
    "from pathlib import Path\n",
    "import pandas as pd\n",
    "from tqdm.notebook import tqdm\n",
    "import joblib as jb\n",
    "from glob import glob"
   ]
  },
  {
   "cell_type": "code",
   "execution_count": 19,
   "metadata": {},
   "outputs": [],
   "source": [
    "def get_coord_from_pixel_pos(i, j, start_value_x, start_value_y, scale_x, scale_y):\n",
    "    \"\"\"\n",
    "    i : int - coord x \n",
    "    j : int - coord y\n",
    "    start_value_x : int - start coord x UTM\n",
    "    start_value_y : int - start coord y UTM\n",
    "    scale_x : int - pixel/meter scale x\n",
    "    scale_y : int - pixel/meter scale y\n",
    "    \"\"\"\n",
    "    return (start_value_x+scale_x*i, start_value_y-scale_y*j)\n",
    "\n",
    "def get_pixel_from_coord(coord_x,coord_y, scale_x, scale_y, start_x, start_y):\n",
    "    return (int((coord_x-start_x)/scale_x), int((start_y-coord_y)/scale_y))"
   ]
  },
  {
   "cell_type": "code",
   "execution_count": 17,
   "metadata": {},
   "outputs": [],
   "source": [
    "path = Path('../data/DADOS_TCC_BIANCA/04.Imagens_de_Satelite/02.SR/S2A_MSI_2018_05_20_13_22_41_T22JGR_rhos_560.tif')\n",
    "path_bat = '/home/vinicius/Área de Trabalho/Faculdade/TCC/data/DADOS_TCC_BIANCA/02.Dados_Processados/02.XYZ/BATIMETRIA_PROCESSADA_BABITONGA_2018_DHN_WGS84_UTM22S.xyz'"
   ]
  },
  {
   "cell_type": "code",
   "execution_count": 11,
   "metadata": {},
   "outputs": [],
   "source": [
    "paths_list = [e for e in glob('../data/DADOS_TCC_BIANCA/04.Imagens_de_Satelite/02.SR/*.tif')]\n",
    "rhos_list = [e for e in glob('../data/DADOS_TCC_BIANCA/04.Imagens_de_Satelite/02.SR/*.tif') if 'rhos' in str(e)]\n",
    "rhow_list = [e for e in glob('../data/DADOS_TCC_BIANCA/04.Imagens_de_Satelite/02.SR/*.tif') if 'rhow' in str(e)]"
   ]
  },
  {
   "cell_type": "code",
   "execution_count": 13,
   "metadata": {},
   "outputs": [],
   "source": [
    "tiff_array = [tifffile.TiffFile(path).asarray() for path in rhos_list]"
   ]
  },
  {
   "cell_type": "code",
   "execution_count": 22,
   "metadata": {},
   "outputs": [],
   "source": [
    "tiff = tifffile.TiffFile(rhos_list[0])\n",
    "aux_dict = dict()\n",
    "for page in tiff.pages:\n",
    "    for tag in page.tags:\n",
    "        aux_dict[tag.name] = tag.value\n",
    "\n",
    "scale_x = aux_dict['ModelPixelScaleTag'][0]\n",
    "scale_y = aux_dict['ModelPixelScaleTag'][1]\n",
    "start_value_x = aux_dict['ModelTiepointTag'][3]\n",
    "start_value_y = aux_dict['ModelTiepointTag'][4]"
   ]
  },
  {
   "cell_type": "code",
   "execution_count": 18,
   "metadata": {},
   "outputs": [
    {
     "data": {
      "text/html": [
       "<div>\n",
       "<style scoped>\n",
       "    .dataframe tbody tr th:only-of-type {\n",
       "        vertical-align: middle;\n",
       "    }\n",
       "\n",
       "    .dataframe tbody tr th {\n",
       "        vertical-align: top;\n",
       "    }\n",
       "\n",
       "    .dataframe thead th {\n",
       "        text-align: right;\n",
       "    }\n",
       "</style>\n",
       "<table border=\"1\" class=\"dataframe\">\n",
       "  <thead>\n",
       "    <tr style=\"text-align: right;\">\n",
       "      <th></th>\n",
       "      <th>x</th>\n",
       "      <th>y</th>\n",
       "      <th>z</th>\n",
       "    </tr>\n",
       "  </thead>\n",
       "  <tbody>\n",
       "    <tr>\n",
       "      <th>0</th>\n",
       "      <td>720507.82</td>\n",
       "      <td>7089857.17</td>\n",
       "      <td>1.96</td>\n",
       "    </tr>\n",
       "    <tr>\n",
       "      <th>1</th>\n",
       "      <td>720507.95</td>\n",
       "      <td>7089857.15</td>\n",
       "      <td>1.98</td>\n",
       "    </tr>\n",
       "    <tr>\n",
       "      <th>2</th>\n",
       "      <td>720508.07</td>\n",
       "      <td>7089857.12</td>\n",
       "      <td>1.98</td>\n",
       "    </tr>\n",
       "    <tr>\n",
       "      <th>3</th>\n",
       "      <td>720508.19</td>\n",
       "      <td>7089857.09</td>\n",
       "      <td>1.97</td>\n",
       "    </tr>\n",
       "    <tr>\n",
       "      <th>4</th>\n",
       "      <td>720508.31</td>\n",
       "      <td>7089857.07</td>\n",
       "      <td>1.98</td>\n",
       "    </tr>\n",
       "    <tr>\n",
       "      <th>...</th>\n",
       "      <td>...</td>\n",
       "      <td>...</td>\n",
       "      <td>...</td>\n",
       "    </tr>\n",
       "    <tr>\n",
       "      <th>557239</th>\n",
       "      <td>720868.85</td>\n",
       "      <td>7107250.49</td>\n",
       "      <td>3.41</td>\n",
       "    </tr>\n",
       "    <tr>\n",
       "      <th>557240</th>\n",
       "      <td>720868.95</td>\n",
       "      <td>7107250.55</td>\n",
       "      <td>3.41</td>\n",
       "    </tr>\n",
       "    <tr>\n",
       "      <th>557241</th>\n",
       "      <td>720869.05</td>\n",
       "      <td>7107250.60</td>\n",
       "      <td>3.41</td>\n",
       "    </tr>\n",
       "    <tr>\n",
       "      <th>557242</th>\n",
       "      <td>720869.14</td>\n",
       "      <td>7107250.65</td>\n",
       "      <td>3.41</td>\n",
       "    </tr>\n",
       "    <tr>\n",
       "      <th>557243</th>\n",
       "      <td>720869.24</td>\n",
       "      <td>7107250.70</td>\n",
       "      <td>3.41</td>\n",
       "    </tr>\n",
       "  </tbody>\n",
       "</table>\n",
       "<p>557244 rows × 3 columns</p>\n",
       "</div>"
      ],
      "text/plain": [
       "                x           y     z\n",
       "0       720507.82  7089857.17  1.96\n",
       "1       720507.95  7089857.15  1.98\n",
       "2       720508.07  7089857.12  1.98\n",
       "3       720508.19  7089857.09  1.97\n",
       "4       720508.31  7089857.07  1.98\n",
       "...           ...         ...   ...\n",
       "557239  720868.85  7107250.49  3.41\n",
       "557240  720868.95  7107250.55  3.41\n",
       "557241  720869.05  7107250.60  3.41\n",
       "557242  720869.14  7107250.65  3.41\n",
       "557243  720869.24  7107250.70  3.41\n",
       "\n",
       "[557244 rows x 3 columns]"
      ]
     },
     "execution_count": 18,
     "metadata": {},
     "output_type": "execute_result"
    }
   ],
   "source": [
    "df = pd.read_csv(path_bat, sep=' ', header=None)\n",
    "df.columns = ['x', 'y', 'z']\n",
    "df"
   ]
  },
  {
   "cell_type": "code",
   "execution_count": 29,
   "metadata": {},
   "outputs": [
    {
     "data": {
      "text/plain": [
       "['../data/DADOS_TCC_BIANCA/04.Imagens_de_Satelite/02.SR/S2A_MSI_2018_05_20_13_22_41_T22JGR_rhos_740.tif',\n",
       " '../data/DADOS_TCC_BIANCA/04.Imagens_de_Satelite/02.SR/S2A_MSI_2018_05_20_13_22_41_T22JGR_rhos_704.tif',\n",
       " '../data/DADOS_TCC_BIANCA/04.Imagens_de_Satelite/02.SR/S2A_MSI_2018_05_20_13_22_41_T22JGR_rhos_665.tif',\n",
       " '../data/DADOS_TCC_BIANCA/04.Imagens_de_Satelite/02.SR/S2A_MSI_2018_05_20_13_22_41_T22JGR_rhos_492.tif',\n",
       " '../data/DADOS_TCC_BIANCA/04.Imagens_de_Satelite/02.SR/S2A_MSI_2018_05_20_13_22_41_T22JGR_rhos_560.tif',\n",
       " '../data/DADOS_TCC_BIANCA/04.Imagens_de_Satelite/02.SR/S2A_MSI_2018_05_20_13_22_41_T22JGR_rhos_783.tif',\n",
       " '../data/DADOS_TCC_BIANCA/04.Imagens_de_Satelite/02.SR/S2A_MSI_2018_05_20_13_22_41_T22JGR_rhos_833.tif',\n",
       " '../data/DADOS_TCC_BIANCA/04.Imagens_de_Satelite/02.SR/S2A_MSI_2018_05_20_13_22_41_T22JGR_rhos_443.tif']"
      ]
     },
     "execution_count": 29,
     "metadata": {},
     "output_type": "execute_result"
    }
   ],
   "source": [
    "rhos_list"
   ]
  },
  {
   "cell_type": "code",
   "execution_count": 32,
   "metadata": {},
   "outputs": [],
   "source": [
    "for i, band in enumerate(tiff_array):\n",
    "    column_name = 'reflectance_{}'.format(i)\n",
    "    aux = list()\n",
    "    for i, row in enumerate(df.itertuples()):\n",
    "        x = row[1]\n",
    "        y = row[2]\n",
    "        z = row[3]\n",
    "        pixel = get_pixel_from_coord(x, y, scale_x, scale_y, start_value_x, start_value_y)\n",
    "        aux.append(band[pixel[1]][pixel[0]])\n",
    "        \n",
    "    df[column_name] = aux\n",
    "    \n",
    "        \n"
   ]
  },
  {
   "cell_type": "markdown",
   "metadata": {},
   "source": [
    "# Modelagem"
   ]
  },
  {
   "cell_type": "code",
   "execution_count": 34,
   "metadata": {},
   "outputs": [],
   "source": [
    "from sklearn.ensemble import RandomForestRegressor\n",
    "from sklearn.linear_model import LinearRegression\n",
    "from sklearn.model_selection import train_test_split\n",
    "from lightgbm import LGBMRegressor\n",
    "from sklearn.metrics import r2_score"
   ]
  },
  {
   "cell_type": "code",
   "execution_count": 46,
   "metadata": {},
   "outputs": [],
   "source": [
    "features = df.drop(['z', 'y', 'x'], axis=1)\n",
    "target = df['z']"
   ]
  },
  {
   "cell_type": "code",
   "execution_count": 50,
   "metadata": {},
   "outputs": [],
   "source": [
    "X_train, X_val, y_train, y_val = train_test_split(features, target, test_size=0.5)"
   ]
  },
  {
   "cell_type": "code",
   "execution_count": 51,
   "metadata": {},
   "outputs": [
    {
     "data": {
      "text/plain": [
       "((278622, 8), (278622,), (278622, 8), (278622,))"
      ]
     },
     "execution_count": 51,
     "metadata": {},
     "output_type": "execute_result"
    }
   ],
   "source": [
    "X_train.shape, y_train.shape, X_val.shape, y_val.shape"
   ]
  },
  {
   "cell_type": "code",
   "execution_count": 52,
   "metadata": {},
   "outputs": [],
   "source": [
    "lgbm = LGBMRegressor(n_estimators=500)"
   ]
  },
  {
   "cell_type": "code",
   "execution_count": 53,
   "metadata": {},
   "outputs": [
    {
     "data": {
      "text/plain": [
       "LGBMRegressor(n_estimators=500)"
      ]
     },
     "execution_count": 53,
     "metadata": {},
     "output_type": "execute_result"
    }
   ],
   "source": [
    "lgbm.fit(X_train, y_train)"
   ]
  },
  {
   "cell_type": "code",
   "execution_count": 54,
   "metadata": {},
   "outputs": [],
   "source": [
    "p = lgbm.predict(X_val)"
   ]
  },
  {
   "cell_type": "code",
   "execution_count": 59,
   "metadata": {},
   "outputs": [
    {
     "data": {
      "text/html": [
       "<div>\n",
       "<style scoped>\n",
       "    .dataframe tbody tr th:only-of-type {\n",
       "        vertical-align: middle;\n",
       "    }\n",
       "\n",
       "    .dataframe tbody tr th {\n",
       "        vertical-align: top;\n",
       "    }\n",
       "\n",
       "    .dataframe thead th {\n",
       "        text-align: right;\n",
       "    }\n",
       "</style>\n",
       "<table border=\"1\" class=\"dataframe\">\n",
       "  <thead>\n",
       "    <tr style=\"text-align: right;\">\n",
       "      <th></th>\n",
       "      <th>reflectance_0</th>\n",
       "      <th>reflectance_1</th>\n",
       "      <th>reflectance_2</th>\n",
       "      <th>reflectance_3</th>\n",
       "      <th>reflectance_4</th>\n",
       "      <th>reflectance_5</th>\n",
       "      <th>reflectance_6</th>\n",
       "      <th>reflectance_7</th>\n",
       "    </tr>\n",
       "  </thead>\n",
       "  <tbody>\n",
       "    <tr>\n",
       "      <th>288507</th>\n",
       "      <td>0.007875</td>\n",
       "      <td>0.017208</td>\n",
       "      <td>0.021635</td>\n",
       "      <td>0.024913</td>\n",
       "      <td>0.038754</td>\n",
       "      <td>0.277486</td>\n",
       "      <td>0.007292</td>\n",
       "      <td>0.018943</td>\n",
       "    </tr>\n",
       "    <tr>\n",
       "      <th>504512</th>\n",
       "      <td>0.009522</td>\n",
       "      <td>0.020321</td>\n",
       "      <td>0.020550</td>\n",
       "      <td>0.021204</td>\n",
       "      <td>0.026869</td>\n",
       "      <td>0.271536</td>\n",
       "      <td>0.007672</td>\n",
       "      <td>0.011705</td>\n",
       "    </tr>\n",
       "    <tr>\n",
       "      <th>154117</th>\n",
       "      <td>0.008803</td>\n",
       "      <td>0.017829</td>\n",
       "      <td>0.021037</td>\n",
       "      <td>0.027923</td>\n",
       "      <td>0.038518</td>\n",
       "      <td>0.238308</td>\n",
       "      <td>0.008444</td>\n",
       "      <td>0.015036</td>\n",
       "    </tr>\n",
       "    <tr>\n",
       "      <th>26675</th>\n",
       "      <td>0.008799</td>\n",
       "      <td>0.017243</td>\n",
       "      <td>0.020025</td>\n",
       "      <td>0.014252</td>\n",
       "      <td>0.026632</td>\n",
       "      <td>0.284374</td>\n",
       "      <td>0.008155</td>\n",
       "      <td>0.007908</td>\n",
       "    </tr>\n",
       "    <tr>\n",
       "      <th>171836</th>\n",
       "      <td>0.011007</td>\n",
       "      <td>0.026654</td>\n",
       "      <td>0.030619</td>\n",
       "      <td>0.029266</td>\n",
       "      <td>0.043253</td>\n",
       "      <td>0.282078</td>\n",
       "      <td>0.010587</td>\n",
       "      <td>0.021316</td>\n",
       "    </tr>\n",
       "    <tr>\n",
       "      <th>...</th>\n",
       "      <td>...</td>\n",
       "      <td>...</td>\n",
       "      <td>...</td>\n",
       "      <td>...</td>\n",
       "      <td>...</td>\n",
       "      <td>...</td>\n",
       "      <td>...</td>\n",
       "      <td>...</td>\n",
       "    </tr>\n",
       "    <tr>\n",
       "      <th>117269</th>\n",
       "      <td>0.014159</td>\n",
       "      <td>0.038710</td>\n",
       "      <td>0.045437</td>\n",
       "      <td>0.041981</td>\n",
       "      <td>0.059104</td>\n",
       "      <td>0.241968</td>\n",
       "      <td>0.010885</td>\n",
       "      <td>0.027318</td>\n",
       "    </tr>\n",
       "    <tr>\n",
       "      <th>234838</th>\n",
       "      <td>0.011234</td>\n",
       "      <td>0.024619</td>\n",
       "      <td>0.029623</td>\n",
       "      <td>0.028309</td>\n",
       "      <td>0.044243</td>\n",
       "      <td>0.324191</td>\n",
       "      <td>0.011015</td>\n",
       "      <td>0.020663</td>\n",
       "    </tr>\n",
       "    <tr>\n",
       "      <th>426232</th>\n",
       "      <td>0.008743</td>\n",
       "      <td>0.016202</td>\n",
       "      <td>0.018655</td>\n",
       "      <td>0.025156</td>\n",
       "      <td>0.034405</td>\n",
       "      <td>0.221464</td>\n",
       "      <td>0.008423</td>\n",
       "      <td>0.014978</td>\n",
       "    </tr>\n",
       "    <tr>\n",
       "      <th>141622</th>\n",
       "      <td>0.012180</td>\n",
       "      <td>0.026751</td>\n",
       "      <td>0.031839</td>\n",
       "      <td>0.029498</td>\n",
       "      <td>0.045755</td>\n",
       "      <td>0.284791</td>\n",
       "      <td>0.010117</td>\n",
       "      <td>0.020433</td>\n",
       "    </tr>\n",
       "    <tr>\n",
       "      <th>281638</th>\n",
       "      <td>0.007202</td>\n",
       "      <td>0.012806</td>\n",
       "      <td>0.016140</td>\n",
       "      <td>0.022780</td>\n",
       "      <td>0.032850</td>\n",
       "      <td>0.272789</td>\n",
       "      <td>0.006812</td>\n",
       "      <td>0.017138</td>\n",
       "    </tr>\n",
       "  </tbody>\n",
       "</table>\n",
       "<p>278622 rows × 8 columns</p>\n",
       "</div>"
      ],
      "text/plain": [
       "        reflectance_0  reflectance_1  reflectance_2  reflectance_3  \\\n",
       "288507       0.007875       0.017208       0.021635       0.024913   \n",
       "504512       0.009522       0.020321       0.020550       0.021204   \n",
       "154117       0.008803       0.017829       0.021037       0.027923   \n",
       "26675        0.008799       0.017243       0.020025       0.014252   \n",
       "171836       0.011007       0.026654       0.030619       0.029266   \n",
       "...               ...            ...            ...            ...   \n",
       "117269       0.014159       0.038710       0.045437       0.041981   \n",
       "234838       0.011234       0.024619       0.029623       0.028309   \n",
       "426232       0.008743       0.016202       0.018655       0.025156   \n",
       "141622       0.012180       0.026751       0.031839       0.029498   \n",
       "281638       0.007202       0.012806       0.016140       0.022780   \n",
       "\n",
       "        reflectance_4  reflectance_5  reflectance_6  reflectance_7  \n",
       "288507       0.038754       0.277486       0.007292       0.018943  \n",
       "504512       0.026869       0.271536       0.007672       0.011705  \n",
       "154117       0.038518       0.238308       0.008444       0.015036  \n",
       "26675        0.026632       0.284374       0.008155       0.007908  \n",
       "171836       0.043253       0.282078       0.010587       0.021316  \n",
       "...               ...            ...            ...            ...  \n",
       "117269       0.059104       0.241968       0.010885       0.027318  \n",
       "234838       0.044243       0.324191       0.011015       0.020663  \n",
       "426232       0.034405       0.221464       0.008423       0.014978  \n",
       "141622       0.045755       0.284791       0.010117       0.020433  \n",
       "281638       0.032850       0.272789       0.006812       0.017138  \n",
       "\n",
       "[278622 rows x 8 columns]"
      ]
     },
     "execution_count": 59,
     "metadata": {},
     "output_type": "execute_result"
    }
   ],
   "source": [
    "X_val"
   ]
  },
  {
   "cell_type": "code",
   "execution_count": 55,
   "metadata": {},
   "outputs": [
    {
     "data": {
      "text/plain": [
       "0.8979660065989385"
      ]
     },
     "execution_count": 55,
     "metadata": {},
     "output_type": "execute_result"
    }
   ],
   "source": [
    "r2_score(y_val, p)"
   ]
  },
  {
   "cell_type": "code",
   "execution_count": 56,
   "metadata": {},
   "outputs": [],
   "source": [
    "space = [(1e-3, 1e-1, 'log-uniform'), # lr\n",
    "          (1, 10), # max_depth\n",
    "          (1, 20), # min_child_samples\n",
    "          (0.05, 1.), # subsample\n",
    "          (0.05, 1.), # colsample_bytree\n",
    "          (100,1000)] # n_estimator\n"
   ]
  },
  {
   "cell_type": "code",
   "execution_count": 57,
   "metadata": {},
   "outputs": [],
   "source": [
    "from skopt import forest_minimize\n",
    "\n",
    "def tune_lgbm(args):\n",
    "    lr = args[0]\n",
    "    max_depth = args[1]\n",
    "    min_child_samples = args[2]\n",
    "    subsample = args[3]\n",
    "    colsample_bytree = args[4]\n",
    "    n_estimators = args[5]\n",
    "    \n",
    "    mdl = LGBMRegressor(learning_rate=lr, max_depth=max_depth, min_child_samples=min_child_samples, subsample=subsample, colsample_bytree=colsample_bytree, n_estimators=n_estimators)\n",
    "    mdl.fit(X_train, y_train)\n",
    "    p = mdl.predict(X_val)\n",
    "    print(r2_score(y_val, p))\n",
    "    \n",
    "    return -r2_score(y_val, p)"
   ]
  },
  {
   "cell_type": "code",
   "execution_count": 58,
   "metadata": {},
   "outputs": [
    {
     "name": "stdout",
     "output_type": "stream",
     "text": [
      "0.5810931121243449\n",
      "[LightGBM] [Warning] Accuracy may be bad since you didn't set num_leaves and 2^max_depth > num_leaves\n",
      "0.7501886657340556\n",
      "[LightGBM] [Warning] Accuracy may be bad since you didn't set num_leaves and 2^max_depth > num_leaves\n",
      "0.6987614913331419\n",
      "0.3825602803310234\n",
      "0.4408767919951665\n",
      "0.6560283926767049\n",
      "0.543215864402514\n",
      "[LightGBM] [Warning] Accuracy may be bad since you didn't set num_leaves and 2^max_depth > num_leaves\n",
      "0.6556890787174623\n",
      "0.45284927788830265\n",
      "0.5827639564091305\n",
      "[LightGBM] [Warning] Accuracy may be bad since you didn't set num_leaves and 2^max_depth > num_leaves\n",
      "0.0793886732331871\n",
      "0.546689947353783\n",
      "0.6667603149057999\n",
      "0.6134208435778127\n",
      "0.7425502205574497\n",
      "[LightGBM] [Warning] Accuracy may be bad since you didn't set num_leaves and 2^max_depth > num_leaves\n",
      "0.5943114138931671\n",
      "[LightGBM] [Warning] Accuracy may be bad since you didn't set num_leaves and 2^max_depth > num_leaves\n",
      "0.8514635080223554\n",
      "0.6405815141359533\n",
      "0.25830053481083515\n",
      "[LightGBM] [Warning] Accuracy may be bad since you didn't set num_leaves and 2^max_depth > num_leaves\n",
      "0.5676930383470185\n",
      "[LightGBM] [Warning] Accuracy may be bad since you didn't set num_leaves and 2^max_depth > num_leaves\n",
      "0.5681415844568698\n",
      "[LightGBM] [Warning] Accuracy may be bad since you didn't set num_leaves and 2^max_depth > num_leaves\n",
      "0.5932799020848265\n",
      "[LightGBM] [Warning] Accuracy may be bad since you didn't set num_leaves and 2^max_depth > num_leaves\n",
      "0.5851155536507897\n",
      "[LightGBM] [Warning] Accuracy may be bad since you didn't set num_leaves and 2^max_depth > num_leaves\n",
      "0.4011138345090911\n",
      "[LightGBM] [Warning] Accuracy may be bad since you didn't set num_leaves and 2^max_depth > num_leaves\n",
      "0.6476089569788744\n",
      "[LightGBM] [Warning] Accuracy may be bad since you didn't set num_leaves and 2^max_depth > num_leaves\n",
      "0.5846079956462326\n",
      "[LightGBM] [Warning] Accuracy may be bad since you didn't set num_leaves and 2^max_depth > num_leaves\n",
      "0.6973986187084857\n",
      "[LightGBM] [Warning] Accuracy may be bad since you didn't set num_leaves and 2^max_depth > num_leaves\n",
      "0.5816175990807183\n",
      "[LightGBM] [Warning] Accuracy may be bad since you didn't set num_leaves and 2^max_depth > num_leaves\n",
      "0.8036981607825675\n",
      "[LightGBM] [Warning] Accuracy may be bad since you didn't set num_leaves and 2^max_depth > num_leaves\n",
      "0.8652858298353103\n",
      "[LightGBM] [Warning] Accuracy may be bad since you didn't set num_leaves and 2^max_depth > num_leaves\n",
      "0.8443718734832857\n",
      "[LightGBM] [Warning] Accuracy may be bad since you didn't set num_leaves and 2^max_depth > num_leaves\n",
      "0.9091307668463169\n",
      "[LightGBM] [Warning] Accuracy may be bad since you didn't set num_leaves and 2^max_depth > num_leaves\n",
      "0.5827095452132469\n",
      "[LightGBM] [Warning] Accuracy may be bad since you didn't set num_leaves and 2^max_depth > num_leaves\n",
      "0.9140835210862662\n",
      "[LightGBM] [Warning] Accuracy may be bad since you didn't set num_leaves and 2^max_depth > num_leaves\n",
      "0.901429221511361\n",
      "[LightGBM] [Warning] Accuracy may be bad since you didn't set num_leaves and 2^max_depth > num_leaves\n",
      "0.9082674226289675\n",
      "[LightGBM] [Warning] Accuracy may be bad since you didn't set num_leaves and 2^max_depth > num_leaves\n",
      "0.9307716749649607\n",
      "[LightGBM] [Warning] Accuracy may be bad since you didn't set num_leaves and 2^max_depth > num_leaves\n",
      "0.9214415453497381\n",
      "[LightGBM] [Warning] Accuracy may be bad since you didn't set num_leaves and 2^max_depth > num_leaves\n",
      "0.9218405716194309\n",
      "0.5655703358059705\n",
      "[LightGBM] [Warning] Accuracy may be bad since you didn't set num_leaves and 2^max_depth > num_leaves\n",
      "0.9217242449554635\n",
      "[LightGBM] [Warning] Accuracy may be bad since you didn't set num_leaves and 2^max_depth > num_leaves\n",
      "0.9132908518350243\n",
      "[LightGBM] [Warning] Accuracy may be bad since you didn't set num_leaves and 2^max_depth > num_leaves\n",
      "0.926017502805291\n",
      "[LightGBM] [Warning] Accuracy may be bad since you didn't set num_leaves and 2^max_depth > num_leaves\n",
      "0.9395564751205793\n",
      "[LightGBM] [Warning] Accuracy may be bad since you didn't set num_leaves and 2^max_depth > num_leaves\n",
      "0.9401299647792786\n",
      "[LightGBM] [Warning] Accuracy may be bad since you didn't set num_leaves and 2^max_depth > num_leaves\n",
      "0.9279152275296938\n",
      "[LightGBM] [Warning] Accuracy may be bad since you didn't set num_leaves and 2^max_depth > num_leaves\n",
      "0.9249982877678193\n",
      "[LightGBM] [Warning] Accuracy may be bad since you didn't set num_leaves and 2^max_depth > num_leaves\n",
      "0.8997921061899569\n",
      "[LightGBM] [Warning] Accuracy may be bad since you didn't set num_leaves and 2^max_depth > num_leaves\n",
      "0.9299997796443346\n",
      "0.836689264373526\n"
     ]
    }
   ],
   "source": [
    "res = forest_minimize(tune_lgbm, space, random_state=160000, n_random_starts=20, n_calls=50, verbose=0)"
   ]
  },
  {
   "cell_type": "code",
   "execution_count": 60,
   "metadata": {},
   "outputs": [
    {
     "data": {
      "text/plain": [
       "[0.09740262475085597, 8, 19, 0.2518783353639487, 0.9892916499919282, 987]"
      ]
     },
     "execution_count": 60,
     "metadata": {},
     "output_type": "execute_result"
    }
   ],
   "source": [
    "# melhores hiperparametros para o modelo baseado em bayesian optimization\n",
    "res['x']"
   ]
  },
  {
   "cell_type": "code",
   "execution_count": null,
   "metadata": {},
   "outputs": [],
   "source": [
    "lr = args[0]\n",
    "max_depth = args[1]\n",
    "min_child_samples = args[2]\n",
    "subsample = args[3]\n",
    "colsample_bytree = args[4]\n",
    "n_estimators = args[5]"
   ]
  },
  {
   "cell_type": "code",
   "execution_count": 69,
   "metadata": {},
   "outputs": [],
   "source": [
    "hyper = {\n",
    "    'lr': res['x'][0],\n",
    "    \"max_depth\": res['x'][1],\n",
    "    \"min_child_samples\": res['x'][2],\n",
    "    \"subsample\": res['x'][3],\n",
    "    'colsample_bytree': res['x'][4],\n",
    "    'n_estimators': res['x'][5]\n",
    "}"
   ]
  },
  {
   "cell_type": "code",
   "execution_count": 70,
   "metadata": {},
   "outputs": [],
   "source": [
    "mdl = LGBMRegressor(learning_rate=hyper['lr'], max_depth=hyper['max_depth'], \n",
    "                    min_child_samples=hyper['min_child_samples'], subsample=hyper['subsample'], \n",
    "                    colsample_bytree=hyper['colsample_bytree'], n_estimators=hyper['n_estimators'])"
   ]
  },
  {
   "cell_type": "code",
   "execution_count": 75,
   "metadata": {},
   "outputs": [
    {
     "name": "stdout",
     "output_type": "stream",
     "text": [
      "[LightGBM] [Warning] Accuracy may be bad since you didn't set num_leaves and 2^max_depth > num_leaves\n"
     ]
    },
    {
     "data": {
      "text/plain": [
       "LGBMRegressor(colsample_bytree=0.9892916499919282,\n",
       "              learning_rate=0.09740262475085597, max_depth=8,\n",
       "              min_child_samples=19, n_estimators=987,\n",
       "              subsample=0.2518783353639487)"
      ]
     },
     "execution_count": 75,
     "metadata": {},
     "output_type": "execute_result"
    }
   ],
   "source": [
    "mdl.fit(X_train, y_train)"
   ]
  },
  {
   "cell_type": "code",
   "execution_count": 76,
   "metadata": {},
   "outputs": [],
   "source": [
    "p = mdl.predict(X_val)"
   ]
  },
  {
   "cell_type": "code",
   "execution_count": 77,
   "metadata": {},
   "outputs": [
    {
     "data": {
      "text/plain": [
       "0.9401299647792786"
      ]
     },
     "execution_count": 77,
     "metadata": {},
     "output_type": "execute_result"
    }
   ],
   "source": [
    "r2_score(y_val, p)"
   ]
  },
  {
   "cell_type": "code",
   "execution_count": 81,
   "metadata": {},
   "outputs": [],
   "source": [
    "import joblib as jb"
   ]
  },
  {
   "cell_type": "code",
   "execution_count": 82,
   "metadata": {},
   "outputs": [
    {
     "data": {
      "text/plain": [
       "['models/lgbm_baseline.pkl.z']"
      ]
     },
     "execution_count": 82,
     "metadata": {},
     "output_type": "execute_result"
    }
   ],
   "source": [
    "jb.dump(mdl, 'models/lgbm_baseline.pkl.z')"
   ]
  },
  {
   "cell_type": "markdown",
   "metadata": {},
   "source": [
    "# 2.0 - Validação Cruzada"
   ]
  },
  {
   "cell_type": "code",
   "execution_count": 111,
   "metadata": {},
   "outputs": [],
   "source": [
    "from sklearn.model_selection import KFold\n",
    "\n",
    "def cross_validation():\n",
    "    global hyper\n",
    "    k_fold_splits = {}\n",
    "    kf = KFold(n_splits=10, shuffle=True)\n",
    "    for i, (lines_train, lines_val) in enumerate(kf.split(features)):\n",
    "        X_train = features.iloc[lines_train]\n",
    "        X_val = features.iloc[lines_val]\n",
    "        y_train = target.iloc[lines_train]\n",
    "        y_val = target.iloc[lines_val]\n",
    "        \n",
    "        mdl = LGBMRegressor(learning_rate=hyper['lr'], max_depth=hyper['max_depth'], \n",
    "                    min_child_samples=hyper['min_child_samples'], subsample=hyper['subsample'], \n",
    "                    colsample_bytree=hyper['colsample_bytree'], n_estimators=hyper['n_estimators'])\n",
    "        mdl.fit(X_train, y_train)\n",
    "        p = mdl.predict(X_val)\n",
    "        score = r2_score(y_val, p)\n",
    "        \n",
    "        k_fold_splits[f'k_fold_{i}'] = score\n",
    "        \n",
    "    return k_fold_splits"
   ]
  },
  {
   "cell_type": "code",
   "execution_count": null,
   "metadata": {},
   "outputs": [
    {
     "name": "stdout",
     "output_type": "stream",
     "text": [
      "[LightGBM] [Warning] Accuracy may be bad since you didn't set num_leaves and 2^max_depth > num_leaves\n",
      "[LightGBM] [Warning] Accuracy may be bad since you didn't set num_leaves and 2^max_depth > num_leaves\n"
     ]
    }
   ],
   "source": [
    "scores = cross_validation()"
   ]
  },
  {
   "cell_type": "code",
   "execution_count": 98,
   "metadata": {},
   "outputs": [
    {
     "data": {
      "text/plain": [
       "{'k_fold_0': 0.9412270778569117,\n",
       " 'k_fold_1': 0.9398243693733003,\n",
       " 'k_fold_2': 0.9402682015328211,\n",
       " 'k_fold_3': 0.9398492633931795,\n",
       " 'k_fold_4': 0.9405965944655289}"
      ]
     },
     "execution_count": 98,
     "metadata": {},
     "output_type": "execute_result"
    }
   ],
   "source": [
    "scores"
   ]
  },
  {
   "cell_type": "code",
   "execution_count": null,
   "metadata": {},
   "outputs": [],
   "source": []
  }
 ],
 "metadata": {
  "kernelspec": {
   "display_name": "Python 3",
   "language": "python",
   "name": "python3"
  },
  "language_info": {
   "codemirror_mode": {
    "name": "ipython",
    "version": 3
   },
   "file_extension": ".py",
   "mimetype": "text/x-python",
   "name": "python",
   "nbconvert_exporter": "python",
   "pygments_lexer": "ipython3",
   "version": "3.8.5"
  }
 },
 "nbformat": 4,
 "nbformat_minor": 4
}
