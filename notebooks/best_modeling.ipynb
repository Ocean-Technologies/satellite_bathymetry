{
 "cells": [
  {
   "cell_type": "code",
   "execution_count": 1,
   "metadata": {},
   "outputs": [],
   "source": [
    "import pandas as pd\n",
    "import numpy as np\n",
    "import joblib as jb\n",
    "import tifffile\n",
    "from pathlib import Path\n",
    "from glob import glob\n",
    "import matplotlib.pyplot as plt\n",
    "from satellite_bathymetry.preprocessing import get_coord_from_pixel_pos, get_pixel_from_coord, ndwi, pixel_ndwi, pixel_log_ratio\n",
    "from satellite_bathymetry.model_selection import cross_validation\n",
    "from sklearn.preprocessing import KBinsDiscretizer, FunctionTransformer, MinMaxScaler\n",
    "from sklearn.model_selection import train_test_split\n",
    "from sklearn.ensemble import RandomForestRegressor\n",
    "from lightgbm import LGBMRegressor\n",
    "from sklearn.metrics import r2_score\n",
    "\n",
    "from scipy import stats"
   ]
  },
  {
   "cell_type": "code",
   "execution_count": 2,
   "metadata": {},
   "outputs": [
    {
     "data": {
      "text/html": [
       "<div>\n",
       "<style scoped>\n",
       "    .dataframe tbody tr th:only-of-type {\n",
       "        vertical-align: middle;\n",
       "    }\n",
       "\n",
       "    .dataframe tbody tr th {\n",
       "        vertical-align: top;\n",
       "    }\n",
       "\n",
       "    .dataframe thead th {\n",
       "        text-align: right;\n",
       "    }\n",
       "</style>\n",
       "<table border=\"1\" class=\"dataframe\">\n",
       "  <thead>\n",
       "    <tr style=\"text-align: right;\">\n",
       "      <th></th>\n",
       "      <th>x</th>\n",
       "      <th>y</th>\n",
       "      <th>z</th>\n",
       "      <th>b0</th>\n",
       "      <th>b1</th>\n",
       "      <th>b2</th>\n",
       "      <th>b3</th>\n",
       "      <th>b4</th>\n",
       "      <th>b5</th>\n",
       "      <th>b6</th>\n",
       "      <th>b7</th>\n",
       "      <th>b2b4</th>\n",
       "      <th>b3b4</th>\n",
       "      <th>ndwi15</th>\n",
       "      <th>ndwi24</th>\n",
       "      <th>ndwi53</th>\n",
       "    </tr>\n",
       "  </thead>\n",
       "  <tbody>\n",
       "    <tr>\n",
       "      <th>0</th>\n",
       "      <td>226</td>\n",
       "      <td>1010</td>\n",
       "      <td>2.117692</td>\n",
       "      <td>0.1225</td>\n",
       "      <td>0.0919</td>\n",
       "      <td>0.0721</td>\n",
       "      <td>0.0516</td>\n",
       "      <td>0.0528</td>\n",
       "      <td>0.0337</td>\n",
       "      <td>0.0311</td>\n",
       "      <td>0.0256</td>\n",
       "      <td>1.078543</td>\n",
       "      <td>0.994204</td>\n",
       "      <td>0.463376</td>\n",
       "      <td>0.154524</td>\n",
       "      <td>-0.209848</td>\n",
       "    </tr>\n",
       "    <tr>\n",
       "      <th>1</th>\n",
       "      <td>227</td>\n",
       "      <td>1010</td>\n",
       "      <td>2.096500</td>\n",
       "      <td>0.1225</td>\n",
       "      <td>0.0920</td>\n",
       "      <td>0.0712</td>\n",
       "      <td>0.0512</td>\n",
       "      <td>0.0528</td>\n",
       "      <td>0.0337</td>\n",
       "      <td>0.0311</td>\n",
       "      <td>0.0255</td>\n",
       "      <td>1.075376</td>\n",
       "      <td>0.992242</td>\n",
       "      <td>0.463803</td>\n",
       "      <td>0.148387</td>\n",
       "      <td>-0.206125</td>\n",
       "    </tr>\n",
       "    <tr>\n",
       "      <th>2</th>\n",
       "      <td>228</td>\n",
       "      <td>1010</td>\n",
       "      <td>2.197059</td>\n",
       "      <td>0.1221</td>\n",
       "      <td>0.0917</td>\n",
       "      <td>0.0720</td>\n",
       "      <td>0.0508</td>\n",
       "      <td>0.0531</td>\n",
       "      <td>0.0332</td>\n",
       "      <td>0.0323</td>\n",
       "      <td>0.0255</td>\n",
       "      <td>1.076655</td>\n",
       "      <td>0.988852</td>\n",
       "      <td>0.468375</td>\n",
       "      <td>0.151079</td>\n",
       "      <td>-0.209524</td>\n",
       "    </tr>\n",
       "    <tr>\n",
       "      <th>3</th>\n",
       "      <td>229</td>\n",
       "      <td>1010</td>\n",
       "      <td>2.268750</td>\n",
       "      <td>0.1221</td>\n",
       "      <td>0.0915</td>\n",
       "      <td>0.0726</td>\n",
       "      <td>0.0505</td>\n",
       "      <td>0.0531</td>\n",
       "      <td>0.0332</td>\n",
       "      <td>0.0323</td>\n",
       "      <td>0.0256</td>\n",
       "      <td>1.078745</td>\n",
       "      <td>0.987361</td>\n",
       "      <td>0.467522</td>\n",
       "      <td>0.155131</td>\n",
       "      <td>-0.206691</td>\n",
       "    </tr>\n",
       "    <tr>\n",
       "      <th>4</th>\n",
       "      <td>229</td>\n",
       "      <td>1011</td>\n",
       "      <td>2.278235</td>\n",
       "      <td>0.1221</td>\n",
       "      <td>0.0909</td>\n",
       "      <td>0.0726</td>\n",
       "      <td>0.0517</td>\n",
       "      <td>0.0531</td>\n",
       "      <td>0.0332</td>\n",
       "      <td>0.0323</td>\n",
       "      <td>0.0255</td>\n",
       "      <td>1.078745</td>\n",
       "      <td>0.993273</td>\n",
       "      <td>0.464948</td>\n",
       "      <td>0.155131</td>\n",
       "      <td>-0.217903</td>\n",
       "    </tr>\n",
       "  </tbody>\n",
       "</table>\n",
       "</div>"
      ],
      "text/plain": [
       "     x     y         z      b0      b1      b2      b3      b4      b5  \\\n",
       "0  226  1010  2.117692  0.1225  0.0919  0.0721  0.0516  0.0528  0.0337   \n",
       "1  227  1010  2.096500  0.1225  0.0920  0.0712  0.0512  0.0528  0.0337   \n",
       "2  228  1010  2.197059  0.1221  0.0917  0.0720  0.0508  0.0531  0.0332   \n",
       "3  229  1010  2.268750  0.1221  0.0915  0.0726  0.0505  0.0531  0.0332   \n",
       "4  229  1011  2.278235  0.1221  0.0909  0.0726  0.0517  0.0531  0.0332   \n",
       "\n",
       "       b6      b7      b2b4      b3b4    ndwi15    ndwi24    ndwi53  \n",
       "0  0.0311  0.0256  1.078543  0.994204  0.463376  0.154524 -0.209848  \n",
       "1  0.0311  0.0255  1.075376  0.992242  0.463803  0.148387 -0.206125  \n",
       "2  0.0323  0.0255  1.076655  0.988852  0.468375  0.151079 -0.209524  \n",
       "3  0.0323  0.0256  1.078745  0.987361  0.467522  0.155131 -0.206691  \n",
       "4  0.0323  0.0255  1.078745  0.993273  0.464948  0.155131 -0.217903  "
      ]
     },
     "execution_count": 2,
     "metadata": {},
     "output_type": "execute_result"
    }
   ],
   "source": [
    "df = jb.load('../data/generated/df_newimages_bands_downside.pkl.z')\n",
    "df.head()"
   ]
  },
  {
   "cell_type": "code",
   "execution_count": 4,
   "metadata": {},
   "outputs": [],
   "source": [
    "coords_x = []\n",
    "coords_y = []\n",
    "for x, y in zip(df.x, df.y):\n",
    "    coord_x, coord_y = get_coord_from_pixel_pos(x, y)\n",
    "    coords_x.append(coord_x)\n",
    "    coords_y.append(coord_y)\n",
    "\n",
    "df['global_x'] = coords_x\n",
    "df['global_y'] = coords_y"
   ]
  },
  {
   "cell_type": "code",
   "execution_count": 35,
   "metadata": {},
   "outputs": [],
   "source": [
    "Kbins = KBinsDiscretizer(n_bins=20, encode='ordinal', strategy='uniform')"
   ]
  },
  {
   "cell_type": "code",
   "execution_count": 36,
   "metadata": {},
   "outputs": [
    {
     "data": {
      "text/plain": [
       "KBinsDiscretizer(encode='ordinal', n_bins=20, strategy='uniform')"
      ]
     },
     "execution_count": 36,
     "metadata": {},
     "output_type": "execute_result"
    }
   ],
   "source": [
    "Kbins.fit(df[['global_x', 'global_y']])"
   ]
  },
  {
   "cell_type": "code",
   "execution_count": 37,
   "metadata": {},
   "outputs": [],
   "source": [
    "kbins_coords = Kbins.transform(df[['global_x', 'global_y']])\n",
    "kbins_coords_df = pd.DataFrame(kbins_coords, columns=['kbins_coords_x','kbins_coords_y'])"
   ]
  },
  {
   "cell_type": "code",
   "execution_count": 38,
   "metadata": {},
   "outputs": [],
   "source": [
    "df.drop(['global_x', 'global_y', 'x', 'y'], axis=1, inplace=True)"
   ]
  },
  {
   "cell_type": "code",
   "execution_count": 39,
   "metadata": {},
   "outputs": [],
   "source": [
    "df2 = pd.concat([df, kbins_coords_df], axis=1)"
   ]
  },
  {
   "cell_type": "code",
   "execution_count": 40,
   "metadata": {},
   "outputs": [],
   "source": [
    "features = df2.drop('z', axis=1)\n",
    "target = df2.z\n",
    "\n",
    "X_train, X_val, y_train, y_val = train_test_split(features, target, test_size=0.3, random_state=42)"
   ]
  },
  {
   "cell_type": "code",
   "execution_count": 41,
   "metadata": {},
   "outputs": [
    {
     "data": {
      "text/html": [
       "<div>\n",
       "<style scoped>\n",
       "    .dataframe tbody tr th:only-of-type {\n",
       "        vertical-align: middle;\n",
       "    }\n",
       "\n",
       "    .dataframe tbody tr th {\n",
       "        vertical-align: top;\n",
       "    }\n",
       "\n",
       "    .dataframe thead th {\n",
       "        text-align: right;\n",
       "    }\n",
       "</style>\n",
       "<table border=\"1\" class=\"dataframe\">\n",
       "  <thead>\n",
       "    <tr style=\"text-align: right;\">\n",
       "      <th></th>\n",
       "      <th>b0</th>\n",
       "      <th>b1</th>\n",
       "      <th>b2</th>\n",
       "      <th>b3</th>\n",
       "      <th>b4</th>\n",
       "      <th>b5</th>\n",
       "      <th>b6</th>\n",
       "      <th>b7</th>\n",
       "      <th>b2b4</th>\n",
       "      <th>b3b4</th>\n",
       "      <th>ndwi15</th>\n",
       "      <th>ndwi24</th>\n",
       "      <th>ndwi53</th>\n",
       "      <th>kbins_coords_x</th>\n",
       "      <th>kbins_coords_y</th>\n",
       "    </tr>\n",
       "  </thead>\n",
       "  <tbody>\n",
       "    <tr>\n",
       "      <th>0</th>\n",
       "      <td>0.1225</td>\n",
       "      <td>0.0919</td>\n",
       "      <td>0.0721</td>\n",
       "      <td>0.0516</td>\n",
       "      <td>0.0528</td>\n",
       "      <td>0.0337</td>\n",
       "      <td>0.0311</td>\n",
       "      <td>0.0256</td>\n",
       "      <td>1.078543</td>\n",
       "      <td>0.994204</td>\n",
       "      <td>0.463376</td>\n",
       "      <td>0.154524</td>\n",
       "      <td>-0.209848</td>\n",
       "      <td>0.0</td>\n",
       "      <td>7.0</td>\n",
       "    </tr>\n",
       "    <tr>\n",
       "      <th>1</th>\n",
       "      <td>0.1225</td>\n",
       "      <td>0.0920</td>\n",
       "      <td>0.0712</td>\n",
       "      <td>0.0512</td>\n",
       "      <td>0.0528</td>\n",
       "      <td>0.0337</td>\n",
       "      <td>0.0311</td>\n",
       "      <td>0.0255</td>\n",
       "      <td>1.075376</td>\n",
       "      <td>0.992242</td>\n",
       "      <td>0.463803</td>\n",
       "      <td>0.148387</td>\n",
       "      <td>-0.206125</td>\n",
       "      <td>0.0</td>\n",
       "      <td>7.0</td>\n",
       "    </tr>\n",
       "    <tr>\n",
       "      <th>2</th>\n",
       "      <td>0.1221</td>\n",
       "      <td>0.0917</td>\n",
       "      <td>0.0720</td>\n",
       "      <td>0.0508</td>\n",
       "      <td>0.0531</td>\n",
       "      <td>0.0332</td>\n",
       "      <td>0.0323</td>\n",
       "      <td>0.0255</td>\n",
       "      <td>1.076655</td>\n",
       "      <td>0.988852</td>\n",
       "      <td>0.468375</td>\n",
       "      <td>0.151079</td>\n",
       "      <td>-0.209524</td>\n",
       "      <td>0.0</td>\n",
       "      <td>7.0</td>\n",
       "    </tr>\n",
       "    <tr>\n",
       "      <th>3</th>\n",
       "      <td>0.1221</td>\n",
       "      <td>0.0915</td>\n",
       "      <td>0.0726</td>\n",
       "      <td>0.0505</td>\n",
       "      <td>0.0531</td>\n",
       "      <td>0.0332</td>\n",
       "      <td>0.0323</td>\n",
       "      <td>0.0256</td>\n",
       "      <td>1.078745</td>\n",
       "      <td>0.987361</td>\n",
       "      <td>0.467522</td>\n",
       "      <td>0.155131</td>\n",
       "      <td>-0.206691</td>\n",
       "      <td>0.0</td>\n",
       "      <td>7.0</td>\n",
       "    </tr>\n",
       "    <tr>\n",
       "      <th>4</th>\n",
       "      <td>0.1221</td>\n",
       "      <td>0.0909</td>\n",
       "      <td>0.0726</td>\n",
       "      <td>0.0517</td>\n",
       "      <td>0.0531</td>\n",
       "      <td>0.0332</td>\n",
       "      <td>0.0323</td>\n",
       "      <td>0.0255</td>\n",
       "      <td>1.078745</td>\n",
       "      <td>0.993273</td>\n",
       "      <td>0.464948</td>\n",
       "      <td>0.155131</td>\n",
       "      <td>-0.217903</td>\n",
       "      <td>0.0</td>\n",
       "      <td>7.0</td>\n",
       "    </tr>\n",
       "    <tr>\n",
       "      <th>...</th>\n",
       "      <td>...</td>\n",
       "      <td>...</td>\n",
       "      <td>...</td>\n",
       "      <td>...</td>\n",
       "      <td>...</td>\n",
       "      <td>...</td>\n",
       "      <td>...</td>\n",
       "      <td>...</td>\n",
       "      <td>...</td>\n",
       "      <td>...</td>\n",
       "      <td>...</td>\n",
       "      <td>...</td>\n",
       "      <td>...</td>\n",
       "      <td>...</td>\n",
       "      <td>...</td>\n",
       "    </tr>\n",
       "    <tr>\n",
       "      <th>19692</th>\n",
       "      <td>0.1267</td>\n",
       "      <td>0.1030</td>\n",
       "      <td>0.0808</td>\n",
       "      <td>0.0558</td>\n",
       "      <td>0.0475</td>\n",
       "      <td>0.0308</td>\n",
       "      <td>0.0280</td>\n",
       "      <td>0.0215</td>\n",
       "      <td>1.137603</td>\n",
       "      <td>1.041713</td>\n",
       "      <td>0.539611</td>\n",
       "      <td>0.259548</td>\n",
       "      <td>-0.288684</td>\n",
       "      <td>19.0</td>\n",
       "      <td>19.0</td>\n",
       "    </tr>\n",
       "    <tr>\n",
       "      <th>19693</th>\n",
       "      <td>0.1267</td>\n",
       "      <td>0.1016</td>\n",
       "      <td>0.0813</td>\n",
       "      <td>0.0554</td>\n",
       "      <td>0.0482</td>\n",
       "      <td>0.0295</td>\n",
       "      <td>0.0288</td>\n",
       "      <td>0.0225</td>\n",
       "      <td>1.134900</td>\n",
       "      <td>1.035925</td>\n",
       "      <td>0.549962</td>\n",
       "      <td>0.255598</td>\n",
       "      <td>-0.305065</td>\n",
       "      <td>19.0</td>\n",
       "      <td>19.0</td>\n",
       "    </tr>\n",
       "    <tr>\n",
       "      <th>19694</th>\n",
       "      <td>0.1267</td>\n",
       "      <td>0.1010</td>\n",
       "      <td>0.0801</td>\n",
       "      <td>0.0541</td>\n",
       "      <td>0.0482</td>\n",
       "      <td>0.0295</td>\n",
       "      <td>0.0288</td>\n",
       "      <td>0.0232</td>\n",
       "      <td>1.131063</td>\n",
       "      <td>1.029797</td>\n",
       "      <td>0.547893</td>\n",
       "      <td>0.248636</td>\n",
       "      <td>-0.294258</td>\n",
       "      <td>19.0</td>\n",
       "      <td>19.0</td>\n",
       "    </tr>\n",
       "    <tr>\n",
       "      <th>19695</th>\n",
       "      <td>0.1267</td>\n",
       "      <td>0.1012</td>\n",
       "      <td>0.0798</td>\n",
       "      <td>0.0553</td>\n",
       "      <td>0.0482</td>\n",
       "      <td>0.0295</td>\n",
       "      <td>0.0288</td>\n",
       "      <td>0.0230</td>\n",
       "      <td>1.130095</td>\n",
       "      <td>1.035458</td>\n",
       "      <td>0.548585</td>\n",
       "      <td>0.246875</td>\n",
       "      <td>-0.304245</td>\n",
       "      <td>19.0</td>\n",
       "      <td>19.0</td>\n",
       "    </tr>\n",
       "    <tr>\n",
       "      <th>19696</th>\n",
       "      <td>0.1267</td>\n",
       "      <td>0.1006</td>\n",
       "      <td>0.0796</td>\n",
       "      <td>0.0562</td>\n",
       "      <td>0.0474</td>\n",
       "      <td>0.0285</td>\n",
       "      <td>0.0285</td>\n",
       "      <td>0.0236</td>\n",
       "      <td>1.134346</td>\n",
       "      <td>1.044134</td>\n",
       "      <td>0.558482</td>\n",
       "      <td>0.253543</td>\n",
       "      <td>-0.327037</td>\n",
       "      <td>19.0</td>\n",
       "      <td>19.0</td>\n",
       "    </tr>\n",
       "  </tbody>\n",
       "</table>\n",
       "<p>19697 rows × 15 columns</p>\n",
       "</div>"
      ],
      "text/plain": [
       "           b0      b1      b2      b3      b4      b5      b6      b7  \\\n",
       "0      0.1225  0.0919  0.0721  0.0516  0.0528  0.0337  0.0311  0.0256   \n",
       "1      0.1225  0.0920  0.0712  0.0512  0.0528  0.0337  0.0311  0.0255   \n",
       "2      0.1221  0.0917  0.0720  0.0508  0.0531  0.0332  0.0323  0.0255   \n",
       "3      0.1221  0.0915  0.0726  0.0505  0.0531  0.0332  0.0323  0.0256   \n",
       "4      0.1221  0.0909  0.0726  0.0517  0.0531  0.0332  0.0323  0.0255   \n",
       "...       ...     ...     ...     ...     ...     ...     ...     ...   \n",
       "19692  0.1267  0.1030  0.0808  0.0558  0.0475  0.0308  0.0280  0.0215   \n",
       "19693  0.1267  0.1016  0.0813  0.0554  0.0482  0.0295  0.0288  0.0225   \n",
       "19694  0.1267  0.1010  0.0801  0.0541  0.0482  0.0295  0.0288  0.0232   \n",
       "19695  0.1267  0.1012  0.0798  0.0553  0.0482  0.0295  0.0288  0.0230   \n",
       "19696  0.1267  0.1006  0.0796  0.0562  0.0474  0.0285  0.0285  0.0236   \n",
       "\n",
       "           b2b4      b3b4    ndwi15    ndwi24    ndwi53  kbins_coords_x  \\\n",
       "0      1.078543  0.994204  0.463376  0.154524 -0.209848             0.0   \n",
       "1      1.075376  0.992242  0.463803  0.148387 -0.206125             0.0   \n",
       "2      1.076655  0.988852  0.468375  0.151079 -0.209524             0.0   \n",
       "3      1.078745  0.987361  0.467522  0.155131 -0.206691             0.0   \n",
       "4      1.078745  0.993273  0.464948  0.155131 -0.217903             0.0   \n",
       "...         ...       ...       ...       ...       ...             ...   \n",
       "19692  1.137603  1.041713  0.539611  0.259548 -0.288684            19.0   \n",
       "19693  1.134900  1.035925  0.549962  0.255598 -0.305065            19.0   \n",
       "19694  1.131063  1.029797  0.547893  0.248636 -0.294258            19.0   \n",
       "19695  1.130095  1.035458  0.548585  0.246875 -0.304245            19.0   \n",
       "19696  1.134346  1.044134  0.558482  0.253543 -0.327037            19.0   \n",
       "\n",
       "       kbins_coords_y  \n",
       "0                 7.0  \n",
       "1                 7.0  \n",
       "2                 7.0  \n",
       "3                 7.0  \n",
       "4                 7.0  \n",
       "...               ...  \n",
       "19692            19.0  \n",
       "19693            19.0  \n",
       "19694            19.0  \n",
       "19695            19.0  \n",
       "19696            19.0  \n",
       "\n",
       "[19697 rows x 15 columns]"
      ]
     },
     "execution_count": 41,
     "metadata": {},
     "output_type": "execute_result"
    }
   ],
   "source": [
    "features"
   ]
  },
  {
   "cell_type": "code",
   "execution_count": 42,
   "metadata": {},
   "outputs": [
    {
     "data": {
      "text/plain": [
       "RandomForestRegressor()"
      ]
     },
     "execution_count": 42,
     "metadata": {},
     "output_type": "execute_result"
    }
   ],
   "source": [
    "rf = RandomForestRegressor()\n",
    "rf.fit(X_train, y_train)"
   ]
  },
  {
   "cell_type": "code",
   "execution_count": 63,
   "metadata": {},
   "outputs": [],
   "source": [
    "from sklearn.metrics import mean_absolute_error, mean_squared_error"
   ]
  },
  {
   "cell_type": "code",
   "execution_count": 79,
   "metadata": {},
   "outputs": [
    {
     "name": "stdout",
     "output_type": "stream",
     "text": [
      "rf r2: 0.9199488786691833\n",
      "rf mae: 0.7818013562326143\n",
      "rf mse: 1.6372744508181314\n",
      "rf rmse: 1.2795602568140867\n"
     ]
    }
   ],
   "source": [
    "p_rf = rf.predict(X_val)\n",
    "print('rf r2:', r2_score(y_val, p_rf))\n",
    "print('rf mae:', mean_absolute_error(y_val, p_rf))\n",
    "print('rf mse:', mean_squared_error(y_val, p_rf))\n",
    "print('rf rmse:', np.sqrt(mean_squared_error(y_val, p_rf)))"
   ]
  },
  {
   "cell_type": "code",
   "execution_count": 81,
   "metadata": {},
   "outputs": [
    {
     "data": {
      "text/plain": [
       "['./models/rf_binscoords_20.pkl.z']"
      ]
     },
     "execution_count": 81,
     "metadata": {},
     "output_type": "execute_result"
    }
   ],
   "source": [
    "jb.dump(rf, './models/rf_binscoords_20.pkl.z')"
   ]
  },
  {
   "cell_type": "markdown",
   "metadata": {},
   "source": [
    "# Split before kbins"
   ]
  },
  {
   "cell_type": "code",
   "execution_count": 52,
   "metadata": {},
   "outputs": [],
   "source": [
    "X_train, X_val, y_train, y_val = train_test_split(df.drop(['z', 'x', 'y'], axis=1), df.z, test_size=0.3, random_state=42)"
   ]
  },
  {
   "cell_type": "code",
   "execution_count": 53,
   "metadata": {},
   "outputs": [
    {
     "data": {
      "text/plain": [
       "KBinsDiscretizer(encode='ordinal', n_bins=20, strategy='uniform')"
      ]
     },
     "execution_count": 53,
     "metadata": {},
     "output_type": "execute_result"
    }
   ],
   "source": [
    "Kbins = KBinsDiscretizer(n_bins=20, encode='ordinal', strategy='uniform')\n",
    "Kbins.fit(X_train[['global_x', 'global_y']])"
   ]
  },
  {
   "cell_type": "code",
   "execution_count": 58,
   "metadata": {},
   "outputs": [],
   "source": [
    "kbins_coords_train = Kbins.transform(X_train[['global_x', 'global_y']])\n",
    "kbins_coords_df_train = pd.DataFrame(kbins_coords_train, columns=['kbins_coords_x','kbins_coords_y'], index=X_train.index)\n",
    "\n",
    "kbins_coords_val = Kbins.transform(X_val[['global_x', 'global_y']])\n",
    "kbins_coords_df_val = pd.DataFrame(kbins_coords_val, columns=['kbins_coords_x','kbins_coords_y'], index=X_val.index)"
   ]
  },
  {
   "cell_type": "code",
   "execution_count": 59,
   "metadata": {},
   "outputs": [],
   "source": [
    "X_train2 = pd.concat([X_train, kbins_coords_df_train], axis=1).drop(['global_x', 'global_y'], axis=1)\n",
    "X_val2 = pd.concat([X_val, kbins_coords_df_val], axis=1).drop(['global_x', 'global_y'], axis=1)"
   ]
  },
  {
   "cell_type": "code",
   "execution_count": 62,
   "metadata": {},
   "outputs": [
    {
     "data": {
      "text/plain": [
       "RandomForestRegressor()"
      ]
     },
     "execution_count": 62,
     "metadata": {},
     "output_type": "execute_result"
    }
   ],
   "source": [
    "rf = RandomForestRegressor()\n",
    "rf.fit(X_train2, y_train)"
   ]
  },
  {
   "cell_type": "code",
   "execution_count": 69,
   "metadata": {},
   "outputs": [
    {
     "name": "stdout",
     "output_type": "stream",
     "text": [
      "rf r2: 0.9193636148324866\n",
      "rf mae: 0.7856889615562174\n",
      "rf mse: 1.6492447706697564\n",
      "rf rmse: 1.2842292516018143\n"
     ]
    }
   ],
   "source": [
    "p_rf = rf.predict(X_val2)\n",
    "print('rf r2:', r2_score(y_val, p_rf))\n",
    "print('rf mae:', mean_absolute_error(y_val, p_rf))\n",
    "print('rf mse:', mean_squared_error(y_val, p_rf))\n",
    "print('rf rmse:', np.sqrt(mean_squared_error(y_val, p_rf)))"
   ]
  },
  {
   "cell_type": "code",
   "execution_count": null,
   "metadata": {},
   "outputs": [],
   "source": []
  }
 ],
 "metadata": {
  "kernelspec": {
   "display_name": "Python 3",
   "language": "python",
   "name": "python3"
  },
  "language_info": {
   "codemirror_mode": {
    "name": "ipython",
    "version": 3
   },
   "file_extension": ".py",
   "mimetype": "text/x-python",
   "name": "python",
   "nbconvert_exporter": "python",
   "pygments_lexer": "ipython3",
   "version": "3.8.5"
  }
 },
 "nbformat": 4,
 "nbformat_minor": 4
}
