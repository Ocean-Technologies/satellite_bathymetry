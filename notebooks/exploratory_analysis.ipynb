{
 "cells": [
  {
   "cell_type": "code",
   "execution_count": 1,
   "metadata": {},
   "outputs": [],
   "source": [
    "import pandas as pd\n",
    "import numpy as np\n",
    "import joblib as jb\n",
    "#import tifffile\n",
    "from pathlib import Path\n",
    "from glob import glob\n",
    "import matplotlib.pyplot as plt\n",
    "from satellite_bathymetry.preprocessing import get_coord_from_pixel_pos, get_pixel_from_coord, ndwi, pixel_ndwi, pixel_log_division\n",
    "from sklearn import preprocessing\n",
    "from sklearn.model_selection import train_test_split\n",
    "from sklearn.ensemble import RandomForestRegressor\n",
    "from lightgbm import LGBMRegressor\n",
    "from sklearn.metrics import r2_score"
   ]
  },
  {
   "cell_type": "code",
   "execution_count": 2,
   "metadata": {},
   "outputs": [],
   "source": [
    "df = jb.load('../data/generated/df_newimages_bands_downside.pkl.z')"
   ]
  },
  {
   "cell_type": "code",
   "execution_count": 4,
   "metadata": {},
   "outputs": [
    {
     "data": {
      "text/html": [
       "<div>\n",
       "<style scoped>\n",
       "    .dataframe tbody tr th:only-of-type {\n",
       "        vertical-align: middle;\n",
       "    }\n",
       "\n",
       "    .dataframe tbody tr th {\n",
       "        vertical-align: top;\n",
       "    }\n",
       "\n",
       "    .dataframe thead th {\n",
       "        text-align: right;\n",
       "    }\n",
       "</style>\n",
       "<table border=\"1\" class=\"dataframe\">\n",
       "  <thead>\n",
       "    <tr style=\"text-align: right;\">\n",
       "      <th></th>\n",
       "      <th>x</th>\n",
       "      <th>y</th>\n",
       "      <th>z</th>\n",
       "      <th>b0</th>\n",
       "      <th>b1</th>\n",
       "      <th>b2</th>\n",
       "      <th>b3</th>\n",
       "      <th>b4</th>\n",
       "      <th>b5</th>\n",
       "      <th>b6</th>\n",
       "      <th>b7</th>\n",
       "      <th>b2b4</th>\n",
       "      <th>b3b4</th>\n",
       "      <th>ndwi15</th>\n",
       "      <th>ndwi24</th>\n",
       "      <th>ndwi53</th>\n",
       "    </tr>\n",
       "  </thead>\n",
       "  <tbody>\n",
       "    <tr>\n",
       "      <th>count</th>\n",
       "      <td>19697.000000</td>\n",
       "      <td>19697.000000</td>\n",
       "      <td>19697.000000</td>\n",
       "      <td>19697.000000</td>\n",
       "      <td>19697.000000</td>\n",
       "      <td>19697.000000</td>\n",
       "      <td>19697.000000</td>\n",
       "      <td>19697.000000</td>\n",
       "      <td>19697.000000</td>\n",
       "      <td>19697.000000</td>\n",
       "      <td>19697.000000</td>\n",
       "      <td>19697.000000</td>\n",
       "      <td>19697.000000</td>\n",
       "      <td>19697.000000</td>\n",
       "      <td>19697.000000</td>\n",
       "      <td>19697.000000</td>\n",
       "    </tr>\n",
       "    <tr>\n",
       "      <th>mean</th>\n",
       "      <td>1137.377570</td>\n",
       "      <td>646.869371</td>\n",
       "      <td>7.149796</td>\n",
       "      <td>0.122860</td>\n",
       "      <td>0.093295</td>\n",
       "      <td>0.072509</td>\n",
       "      <td>0.047179</td>\n",
       "      <td>0.040728</td>\n",
       "      <td>0.026751</td>\n",
       "      <td>0.025194</td>\n",
       "      <td>0.020427</td>\n",
       "      <td>1.162114</td>\n",
       "      <td>1.042204</td>\n",
       "      <td>0.556660</td>\n",
       "      <td>0.285827</td>\n",
       "      <td>-0.276635</td>\n",
       "    </tr>\n",
       "    <tr>\n",
       "      <th>std</th>\n",
       "      <td>472.210011</td>\n",
       "      <td>407.379383</td>\n",
       "      <td>4.519822</td>\n",
       "      <td>0.003302</td>\n",
       "      <td>0.004482</td>\n",
       "      <td>0.005488</td>\n",
       "      <td>0.007070</td>\n",
       "      <td>0.007772</td>\n",
       "      <td>0.004554</td>\n",
       "      <td>0.004870</td>\n",
       "      <td>0.004048</td>\n",
       "      <td>0.044290</td>\n",
       "      <td>0.020664</td>\n",
       "      <td>0.046374</td>\n",
       "      <td>0.064978</td>\n",
       "      <td>0.040163</td>\n",
       "    </tr>\n",
       "    <tr>\n",
       "      <th>min</th>\n",
       "      <td>226.000000</td>\n",
       "      <td>1.000000</td>\n",
       "      <td>0.640000</td>\n",
       "      <td>0.115700</td>\n",
       "      <td>0.080500</td>\n",
       "      <td>0.054800</td>\n",
       "      <td>0.030900</td>\n",
       "      <td>0.026800</td>\n",
       "      <td>0.018900</td>\n",
       "      <td>0.014400</td>\n",
       "      <td>0.013400</td>\n",
       "      <td>1.014565</td>\n",
       "      <td>0.930641</td>\n",
       "      <td>0.110121</td>\n",
       "      <td>0.030970</td>\n",
       "      <td>-0.408163</td>\n",
       "    </tr>\n",
       "    <tr>\n",
       "      <th>25%</th>\n",
       "      <td>775.000000</td>\n",
       "      <td>328.000000</td>\n",
       "      <td>3.442308</td>\n",
       "      <td>0.120300</td>\n",
       "      <td>0.090000</td>\n",
       "      <td>0.068600</td>\n",
       "      <td>0.041900</td>\n",
       "      <td>0.035000</td>\n",
       "      <td>0.023900</td>\n",
       "      <td>0.022000</td>\n",
       "      <td>0.017900</td>\n",
       "      <td>1.135662</td>\n",
       "      <td>1.035149</td>\n",
       "      <td>0.544000</td>\n",
       "      <td>0.251376</td>\n",
       "      <td>-0.304487</td>\n",
       "    </tr>\n",
       "    <tr>\n",
       "      <th>50%</th>\n",
       "      <td>1026.000000</td>\n",
       "      <td>601.000000</td>\n",
       "      <td>6.179412</td>\n",
       "      <td>0.122900</td>\n",
       "      <td>0.093500</td>\n",
       "      <td>0.073000</td>\n",
       "      <td>0.046100</td>\n",
       "      <td>0.039100</td>\n",
       "      <td>0.025800</td>\n",
       "      <td>0.024000</td>\n",
       "      <td>0.019600</td>\n",
       "      <td>1.166537</td>\n",
       "      <td>1.046836</td>\n",
       "      <td>0.568394</td>\n",
       "      <td>0.295956</td>\n",
       "      <td>-0.283912</td>\n",
       "    </tr>\n",
       "    <tr>\n",
       "      <th>75%</th>\n",
       "      <td>1532.000000</td>\n",
       "      <td>946.000000</td>\n",
       "      <td>9.742000</td>\n",
       "      <td>0.125300</td>\n",
       "      <td>0.096400</td>\n",
       "      <td>0.076100</td>\n",
       "      <td>0.051400</td>\n",
       "      <td>0.044800</td>\n",
       "      <td>0.028300</td>\n",
       "      <td>0.026900</td>\n",
       "      <td>0.021900</td>\n",
       "      <td>1.193937</td>\n",
       "      <td>1.055593</td>\n",
       "      <td>0.585538</td>\n",
       "      <td>0.332215</td>\n",
       "      <td>-0.257942</td>\n",
       "    </tr>\n",
       "    <tr>\n",
       "      <th>max</th>\n",
       "      <td>2296.000000</td>\n",
       "      <td>1638.000000</td>\n",
       "      <td>25.763448</td>\n",
       "      <td>0.135600</td>\n",
       "      <td>0.113700</td>\n",
       "      <td>0.095200</td>\n",
       "      <td>0.080800</td>\n",
       "      <td>0.075300</td>\n",
       "      <td>0.069900</td>\n",
       "      <td>0.076200</td>\n",
       "      <td>0.059000</td>\n",
       "      <td>1.283361</td>\n",
       "      <td>1.095247</td>\n",
       "      <td>0.644794</td>\n",
       "      <td>0.435737</td>\n",
       "      <td>0.193851</td>\n",
       "    </tr>\n",
       "  </tbody>\n",
       "</table>\n",
       "</div>"
      ],
      "text/plain": [
       "                  x             y             z            b0            b1  \\\n",
       "count  19697.000000  19697.000000  19697.000000  19697.000000  19697.000000   \n",
       "mean    1137.377570    646.869371      7.149796      0.122860      0.093295   \n",
       "std      472.210011    407.379383      4.519822      0.003302      0.004482   \n",
       "min      226.000000      1.000000      0.640000      0.115700      0.080500   \n",
       "25%      775.000000    328.000000      3.442308      0.120300      0.090000   \n",
       "50%     1026.000000    601.000000      6.179412      0.122900      0.093500   \n",
       "75%     1532.000000    946.000000      9.742000      0.125300      0.096400   \n",
       "max     2296.000000   1638.000000     25.763448      0.135600      0.113700   \n",
       "\n",
       "                 b2            b3            b4            b5            b6  \\\n",
       "count  19697.000000  19697.000000  19697.000000  19697.000000  19697.000000   \n",
       "mean       0.072509      0.047179      0.040728      0.026751      0.025194   \n",
       "std        0.005488      0.007070      0.007772      0.004554      0.004870   \n",
       "min        0.054800      0.030900      0.026800      0.018900      0.014400   \n",
       "25%        0.068600      0.041900      0.035000      0.023900      0.022000   \n",
       "50%        0.073000      0.046100      0.039100      0.025800      0.024000   \n",
       "75%        0.076100      0.051400      0.044800      0.028300      0.026900   \n",
       "max        0.095200      0.080800      0.075300      0.069900      0.076200   \n",
       "\n",
       "                 b7          b2b4          b3b4        ndwi15        ndwi24  \\\n",
       "count  19697.000000  19697.000000  19697.000000  19697.000000  19697.000000   \n",
       "mean       0.020427      1.162114      1.042204      0.556660      0.285827   \n",
       "std        0.004048      0.044290      0.020664      0.046374      0.064978   \n",
       "min        0.013400      1.014565      0.930641      0.110121      0.030970   \n",
       "25%        0.017900      1.135662      1.035149      0.544000      0.251376   \n",
       "50%        0.019600      1.166537      1.046836      0.568394      0.295956   \n",
       "75%        0.021900      1.193937      1.055593      0.585538      0.332215   \n",
       "max        0.059000      1.283361      1.095247      0.644794      0.435737   \n",
       "\n",
       "             ndwi53  \n",
       "count  19697.000000  \n",
       "mean      -0.276635  \n",
       "std        0.040163  \n",
       "min       -0.408163  \n",
       "25%       -0.304487  \n",
       "50%       -0.283912  \n",
       "75%       -0.257942  \n",
       "max        0.193851  "
      ]
     },
     "execution_count": 4,
     "metadata": {},
     "output_type": "execute_result"
    }
   ],
   "source": [
    "df.describe()"
   ]
  },
  {
   "cell_type": "code",
   "execution_count": 5,
   "metadata": {},
   "outputs": [
    {
     "data": {
      "text/plain": [
       "Text(0.5, 0, 'b7')"
      ]
     },
     "execution_count": 5,
     "metadata": {},
     "output_type": "execute_result"
    },
    {
     "data": {
      "text/plain": [
       "<Figure size 864x432 with 0 Axes>"
      ]
     },
     "metadata": {},
     "output_type": "display_data"
    },
    {
     "data": {
      "image/png": "[encoded data removed]",
      "text/plain": [
       "<Figure size 1296x720 with 9 Axes>"
      ]
     },
     "metadata": {
      "needs_background": "light"
     },
     "output_type": "display_data"
    }
   ],
   "source": [
    "plt.figure(figsize=(12,6))\n",
    "fig, axs = plt.subplots(ncols=3, nrows=3, figsize=(18, 10))\n",
    "_ = axs[0][0].hist(df.z, bins=20, color='#A9C5D3', edgecolor='black')\n",
    "_ = axs[0][1].hist(df.b1, bins=50, color='#952828', edgecolor='black')\n",
    "_ = axs[0][2].hist(df.b2, bins=50, color='#cf7979', edgecolor='black')\n",
    "_ = axs[1][0].hist(df.b3, bins=50, color='#A9C5D3', edgecolor='black')\n",
    "_ = axs[1][1].hist(df.b4, bins=50, color='#952828', edgecolor='black')\n",
    "_ = axs[1][2].hist(df.b5, bins=50, color='#cf7979', edgecolor='black')\n",
    "_ = axs[2][0].hist(df.b6, bins=50, color='#A9C5D3', edgecolor='black')\n",
    "_ = axs[2][1].hist(df.b7, bins=50, color='#952828', edgecolor='black')\n",
    "axs[0][0].set_xlabel('Z (target)')\n",
    "axs[0][1].set_xlabel('b1')\n",
    "axs[0][2].set_xlabel('b2')\n",
    "axs[1][0].set_xlabel('b3')\n",
    "axs[1][1].set_xlabel('b4')\n",
    "axs[1][2].set_xlabel('b5')\n",
    "axs[2][0].set_xlabel('b6')\n",
    "axs[2][1].set_xlabel('b7')\n",
    "#_ = axs[2][2].hist(df.b8, bins=20, color='#A9C5D3', edgecolor='black')"
   ]
  },
  {
   "cell_type": "code",
   "execution_count": 6,
   "metadata": {},
   "outputs": [],
   "source": [
    "# Check for skewness on data\n",
    "skew_df = pd.DataFrame()"
   ]
  },
  {
   "cell_type": "code",
   "execution_count": 7,
   "metadata": {},
   "outputs": [],
   "source": [
    "for column in df:\n",
    "    skew_df[f'skew_{column}'] = pd.Series(df[column].skew())"
   ]
  },
  {
   "cell_type": "code",
   "execution_count": 8,
   "metadata": {},
   "outputs": [
    {
     "data": {
      "text/html": [
       "<div>\n",
       "<style scoped>\n",
       "    .dataframe tbody tr th:only-of-type {\n",
       "        vertical-align: middle;\n",
       "    }\n",
       "\n",
       "    .dataframe tbody tr th {\n",
       "        vertical-align: top;\n",
       "    }\n",
       "\n",
       "    .dataframe thead th {\n",
       "        text-align: right;\n",
       "    }\n",
       "</style>\n",
       "<table border=\"1\" class=\"dataframe\">\n",
       "  <thead>\n",
       "    <tr style=\"text-align: right;\">\n",
       "      <th></th>\n",
       "      <th>skew_x</th>\n",
       "      <th>skew_y</th>\n",
       "      <th>skew_z</th>\n",
       "      <th>skew_b0</th>\n",
       "      <th>skew_b1</th>\n",
       "      <th>skew_b2</th>\n",
       "      <th>skew_b3</th>\n",
       "      <th>skew_b4</th>\n",
       "      <th>skew_b5</th>\n",
       "      <th>skew_b6</th>\n",
       "      <th>skew_b7</th>\n",
       "      <th>skew_b2b4</th>\n",
       "      <th>skew_b3b4</th>\n",
       "      <th>skew_ndwi15</th>\n",
       "      <th>skew_ndwi24</th>\n",
       "      <th>skew_ndwi53</th>\n",
       "    </tr>\n",
       "  </thead>\n",
       "  <tbody>\n",
       "    <tr>\n",
       "      <th>0</th>\n",
       "      <td>0.34944</td>\n",
       "      <td>0.40148</td>\n",
       "      <td>1.02246</td>\n",
       "      <td>0.054585</td>\n",
       "      <td>0.101097</td>\n",
       "      <td>-0.031658</td>\n",
       "      <td>0.816591</td>\n",
       "      <td>1.048598</td>\n",
       "      <td>2.108079</td>\n",
       "      <td>2.241614</td>\n",
       "      <td>2.040255</td>\n",
       "      <td>-0.446293</td>\n",
       "      <td>-1.44767</td>\n",
       "      <td>-2.003197</td>\n",
       "      <td>-0.749654</td>\n",
       "      <td>1.216095</td>\n",
       "    </tr>\n",
       "  </tbody>\n",
       "</table>\n",
       "</div>"
      ],
      "text/plain": [
       "    skew_x   skew_y   skew_z   skew_b0   skew_b1   skew_b2   skew_b3  \\\n",
       "0  0.34944  0.40148  1.02246  0.054585  0.101097 -0.031658  0.816591   \n",
       "\n",
       "    skew_b4   skew_b5   skew_b6   skew_b7  skew_b2b4  skew_b3b4  skew_ndwi15  \\\n",
       "0  1.048598  2.108079  2.241614  2.040255  -0.446293   -1.44767    -2.003197   \n",
       "\n",
       "   skew_ndwi24  skew_ndwi53  \n",
       "0    -0.749654     1.216095  "
      ]
     },
     "execution_count": 8,
     "metadata": {},
     "output_type": "execute_result"
    }
   ],
   "source": [
    "skew_df"
   ]
  },
  {
   "cell_type": "code",
   "execution_count": 87,
   "metadata": {},
   "outputs": [],
   "source": [
    "# Log transformation for all variables\n",
    "transform = preprocessing.FunctionTransformer(np.sqrt, validate=True)"
   ]
  },
  {
   "cell_type": "code",
   "execution_count": 88,
   "metadata": {},
   "outputs": [],
   "source": [
    "log_bands = pd.DataFrame(transform.transform(df.drop(['z', 'ndwi15', 'ndwi24', 'ndwi53', 'b3b4', 'b2b4', 'x', 'y'], axis=1)))\n",
    "log_bands.columns = df.drop(['z', 'ndwi15', 'ndwi24', 'ndwi53', 'b3b4', 'b2b4', 'x', 'y'], axis=1).columns"
   ]
  },
  {
   "cell_type": "code",
   "execution_count": 89,
   "metadata": {},
   "outputs": [
    {
     "data": {
      "text/html": [
       "<div>\n",
       "<style scoped>\n",
       "    .dataframe tbody tr th:only-of-type {\n",
       "        vertical-align: middle;\n",
       "    }\n",
       "\n",
       "    .dataframe tbody tr th {\n",
       "        vertical-align: top;\n",
       "    }\n",
       "\n",
       "    .dataframe thead th {\n",
       "        text-align: right;\n",
       "    }\n",
       "</style>\n",
       "<table border=\"1\" class=\"dataframe\">\n",
       "  <thead>\n",
       "    <tr style=\"text-align: right;\">\n",
       "      <th></th>\n",
       "      <th>b0</th>\n",
       "      <th>b1</th>\n",
       "      <th>b2</th>\n",
       "      <th>b3</th>\n",
       "      <th>b4</th>\n",
       "      <th>b5</th>\n",
       "      <th>b6</th>\n",
       "      <th>b7</th>\n",
       "    </tr>\n",
       "  </thead>\n",
       "  <tbody>\n",
       "    <tr>\n",
       "      <th>0</th>\n",
       "      <td>0.350000</td>\n",
       "      <td>0.303150</td>\n",
       "      <td>0.268514</td>\n",
       "      <td>0.227156</td>\n",
       "      <td>0.229783</td>\n",
       "      <td>0.183576</td>\n",
       "      <td>0.176352</td>\n",
       "      <td>0.160000</td>\n",
       "    </tr>\n",
       "    <tr>\n",
       "      <th>1</th>\n",
       "      <td>0.350000</td>\n",
       "      <td>0.303315</td>\n",
       "      <td>0.266833</td>\n",
       "      <td>0.226274</td>\n",
       "      <td>0.229783</td>\n",
       "      <td>0.183576</td>\n",
       "      <td>0.176352</td>\n",
       "      <td>0.159687</td>\n",
       "    </tr>\n",
       "    <tr>\n",
       "      <th>2</th>\n",
       "      <td>0.349428</td>\n",
       "      <td>0.302820</td>\n",
       "      <td>0.268328</td>\n",
       "      <td>0.225389</td>\n",
       "      <td>0.230434</td>\n",
       "      <td>0.182209</td>\n",
       "      <td>0.179722</td>\n",
       "      <td>0.159687</td>\n",
       "    </tr>\n",
       "    <tr>\n",
       "      <th>3</th>\n",
       "      <td>0.349428</td>\n",
       "      <td>0.302490</td>\n",
       "      <td>0.269444</td>\n",
       "      <td>0.224722</td>\n",
       "      <td>0.230434</td>\n",
       "      <td>0.182209</td>\n",
       "      <td>0.179722</td>\n",
       "      <td>0.160000</td>\n",
       "    </tr>\n",
       "    <tr>\n",
       "      <th>4</th>\n",
       "      <td>0.349428</td>\n",
       "      <td>0.301496</td>\n",
       "      <td>0.269444</td>\n",
       "      <td>0.227376</td>\n",
       "      <td>0.230434</td>\n",
       "      <td>0.182209</td>\n",
       "      <td>0.179722</td>\n",
       "      <td>0.159687</td>\n",
       "    </tr>\n",
       "  </tbody>\n",
       "</table>\n",
       "</div>"
      ],
      "text/plain": [
       "         b0        b1        b2        b3        b4        b5        b6  \\\n",
       "0  0.350000  0.303150  0.268514  0.227156  0.229783  0.183576  0.176352   \n",
       "1  0.350000  0.303315  0.266833  0.226274  0.229783  0.183576  0.176352   \n",
       "2  0.349428  0.302820  0.268328  0.225389  0.230434  0.182209  0.179722   \n",
       "3  0.349428  0.302490  0.269444  0.224722  0.230434  0.182209  0.179722   \n",
       "4  0.349428  0.301496  0.269444  0.227376  0.230434  0.182209  0.179722   \n",
       "\n",
       "         b7  \n",
       "0  0.160000  \n",
       "1  0.159687  \n",
       "2  0.159687  \n",
       "3  0.160000  \n",
       "4  0.159687  "
      ]
     },
     "execution_count": 89,
     "metadata": {},
     "output_type": "execute_result"
    }
   ],
   "source": [
    "log_bands.head()"
   ]
  },
  {
   "cell_type": "code",
   "execution_count": 90,
   "metadata": {},
   "outputs": [
    {
     "data": {
      "text/html": [
       "<div>\n",
       "<style scoped>\n",
       "    .dataframe tbody tr th:only-of-type {\n",
       "        vertical-align: middle;\n",
       "    }\n",
       "\n",
       "    .dataframe tbody tr th {\n",
       "        vertical-align: top;\n",
       "    }\n",
       "\n",
       "    .dataframe thead th {\n",
       "        text-align: right;\n",
       "    }\n",
       "</style>\n",
       "<table border=\"1\" class=\"dataframe\">\n",
       "  <thead>\n",
       "    <tr style=\"text-align: right;\">\n",
       "      <th></th>\n",
       "      <th>skew_b0</th>\n",
       "      <th>skew_b1</th>\n",
       "      <th>skew_b2</th>\n",
       "      <th>skew_b3</th>\n",
       "      <th>skew_b4</th>\n",
       "      <th>skew_b5</th>\n",
       "      <th>skew_b6</th>\n",
       "      <th>skew_b7</th>\n",
       "    </tr>\n",
       "  </thead>\n",
       "  <tbody>\n",
       "    <tr>\n",
       "      <th>0</th>\n",
       "      <td>0.024807</td>\n",
       "      <td>0.03911</td>\n",
       "      <td>-0.130955</td>\n",
       "      <td>0.612839</td>\n",
       "      <td>0.806138</td>\n",
       "      <td>1.668658</td>\n",
       "      <td>1.723805</td>\n",
       "      <td>1.52934</td>\n",
       "    </tr>\n",
       "  </tbody>\n",
       "</table>\n",
       "</div>"
      ],
      "text/plain": [
       "    skew_b0  skew_b1   skew_b2   skew_b3   skew_b4   skew_b5   skew_b6  \\\n",
       "0  0.024807  0.03911 -0.130955  0.612839  0.806138  1.668658  1.723805   \n",
       "\n",
       "   skew_b7  \n",
       "0  1.52934  "
      ]
     },
     "execution_count": 90,
     "metadata": {},
     "output_type": "execute_result"
    }
   ],
   "source": [
    "# Check for skewness on data\n",
    "new_skew_df = pd.DataFrame()\n",
    "for column in log_bands:\n",
    "    new_skew_df[f'skew_{column}'] = pd.Series(log_bands[column].skew())\n",
    "new_skew_df.head()"
   ]
  },
  {
   "cell_type": "code",
   "execution_count": 91,
   "metadata": {},
   "outputs": [],
   "source": [
    "log_target = pd.DataFrame(transform.transform(df.z.to_numpy().reshape(-1,1)))\n",
    "log_target.columns = ['z']\n",
    "log_target = log_target.z"
   ]
  },
  {
   "cell_type": "code",
   "execution_count": 92,
   "metadata": {},
   "outputs": [
    {
     "data": {
      "text/plain": [
       "0.4531371175271533"
      ]
     },
     "execution_count": 92,
     "metadata": {},
     "output_type": "execute_result"
    }
   ],
   "source": [
    "log_target.skew()"
   ]
  },
  {
   "cell_type": "markdown",
   "metadata": {},
   "source": [
    "# Some tests on training simple models"
   ]
  },
  {
   "cell_type": "code",
   "execution_count": 93,
   "metadata": {},
   "outputs": [],
   "source": [
    "X_train, X_val, y_train, y_val = train_test_split(log_bands, log_target, test_size=0.3)"
   ]
  },
  {
   "cell_type": "code",
   "execution_count": 94,
   "metadata": {},
   "outputs": [],
   "source": [
    "lgbm = LGBMRegressor()"
   ]
  },
  {
   "cell_type": "code",
   "execution_count": 95,
   "metadata": {},
   "outputs": [
    {
     "data": {
      "text/plain": [
       "LGBMRegressor()"
      ]
     },
     "execution_count": 95,
     "metadata": {},
     "output_type": "execute_result"
    }
   ],
   "source": [
    "lgbm.fit(X_train, y_train)"
   ]
  },
  {
   "cell_type": "code",
   "execution_count": 96,
   "metadata": {},
   "outputs": [],
   "source": [
    "p = lgbm.predict(X_val)"
   ]
  },
  {
   "cell_type": "code",
   "execution_count": 97,
   "metadata": {},
   "outputs": [
    {
     "data": {
      "text/plain": [
       "0.7015763721769321"
      ]
     },
     "execution_count": 97,
     "metadata": {},
     "output_type": "execute_result"
    }
   ],
   "source": [
    "r2_score(y_val, p)"
   ]
  },
  {
   "cell_type": "code",
   "execution_count": 156,
   "metadata": {},
   "outputs": [],
   "source": [
    "features = pd.concat([df[['x','y', 'ndwi15', 'ndwi53', 'b2b4']], log_bands], axis=1)\n",
    "target = pd.concat([df[['x', 'y']], log_target], axis=1)"
   ]
  },
  {
   "cell_type": "code",
   "execution_count": 164,
   "metadata": {},
   "outputs": [],
   "source": [
    "th = 800\n",
    "X_train, X_val = features[features.y < th].drop(['x', 'y'], axis=1), features[features.y > th].drop(['x', 'y'], axis=1)\n",
    "y_train, y_val = target[target.y < th].drop(['x', 'y'], axis=1), target[target.y > th].drop(['x','y'], axis=1)"
   ]
  },
  {
   "cell_type": "code",
   "execution_count": 165,
   "metadata": {},
   "outputs": [
    {
     "data": {
      "text/plain": [
       "(13010, 6679, 13010, 6679)"
      ]
     },
     "execution_count": 165,
     "metadata": {},
     "output_type": "execute_result"
    }
   ],
   "source": [
    "len(X_train), len(X_val), len(y_train), len(y_val)"
   ]
  },
  {
   "cell_type": "code",
   "execution_count": 166,
   "metadata": {},
   "outputs": [
    {
     "data": {
      "text/plain": [
       "0.04999379350490751"
      ]
     },
     "execution_count": 166,
     "metadata": {},
     "output_type": "execute_result"
    }
   ],
   "source": [
    "lgbm.fit(X_train, y_train)\n",
    "p = lgbm.predict(X_val)\n",
    "r2_score(y_val, p)"
   ]
  },
  {
   "cell_type": "code",
   "execution_count": 168,
   "metadata": {},
   "outputs": [
    {
     "data": {
      "text/plain": [
       "0        None\n",
       "1        None\n",
       "2        None\n",
       "3        None\n",
       "4        None\n",
       "         ... \n",
       "19692    None\n",
       "19693    None\n",
       "19694    None\n",
       "19695    None\n",
       "19696    None\n",
       "Length: 19697, dtype: object"
      ]
     },
     "execution_count": 168,
     "metadata": {},
     "output_type": "execute_result"
    }
   ],
   "source": [
    "coords = []\n",
    "df[['x', 'y']].apply(lambda arg: coords.append(get_coord_from_pixel_pos(arg.x, arg.y)), axis=1)"
   ]
  },
  {
   "cell_type": "code",
   "execution_count": 170,
   "metadata": {},
   "outputs": [],
   "source": [
    "from sklearn.preprocessing import KBinsDiscretizer"
   ]
  },
  {
   "cell_type": "code",
   "execution_count": 207,
   "metadata": {},
   "outputs": [],
   "source": [
    "Kbins = KBinsDiscretizer(n_bins=20, encode='ordinal', strategy='uniform')"
   ]
  },
  {
   "cell_type": "code",
   "execution_count": 208,
   "metadata": {},
   "outputs": [
    {
     "data": {
      "text/plain": [
       "KBinsDiscretizer(encode='ordinal', n_bins=20, strategy='uniform')"
      ]
     },
     "execution_count": 208,
     "metadata": {},
     "output_type": "execute_result"
    }
   ],
   "source": [
    "Kbins.fit(coords)"
   ]
  },
  {
   "cell_type": "code",
   "execution_count": 209,
   "metadata": {},
   "outputs": [],
   "source": [
    "kbins_coords = Kbins.transform(coords)\n",
    "kbins_coords_df = pd.DataFrame(kbins_coords, columns=['kbins_coords_x','kbins_coords_y'])"
   ]
  },
  {
   "cell_type": "code",
   "execution_count": 210,
   "metadata": {},
   "outputs": [],
   "source": [
    "df_wbins_coords = pd.concat([features, kbins_coords_df], axis=1)"
   ]
  },
  {
   "cell_type": "code",
   "execution_count": 231,
   "metadata": {},
   "outputs": [],
   "source": [
    "th = 12\n",
    "X_train, X_val = df_wbins_coords[df_wbins_coords.kbins_coords_x <= th].drop(['x', 'y'], axis=1), df_wbins_coords[df_wbins_coords.kbins_coords_x > th].drop(['x', 'y'], axis=1)\n",
    "y_train, y_val = target[target.kbins_coords_x <= th].drop(['x', 'y', 'kbins_coords_x', 'kbins_coords_y'], axis=1), target[target.kbins_coords_x > th].drop(['x','y', 'kbins_coords_x', 'kbins_coords_y'], axis=1)"
   ]
  },
  {
   "cell_type": "code",
   "execution_count": 232,
   "metadata": {},
   "outputs": [
    {
     "data": {
      "text/plain": [
       "(15101, 4596, 15101, 4596)"
      ]
     },
     "execution_count": 232,
     "metadata": {},
     "output_type": "execute_result"
    }
   ],
   "source": [
    "len(X_train), len(X_val), len(y_train), len(y_val)"
   ]
  },
  {
   "cell_type": "code",
   "execution_count": 233,
   "metadata": {},
   "outputs": [
    {
     "data": {
      "text/plain": [
       "0.27708253392542126"
      ]
     },
     "execution_count": 233,
     "metadata": {},
     "output_type": "execute_result"
    }
   ],
   "source": [
    "lgbm.fit(X_train, y_train)\n",
    "p = lgbm.predict(X_val)\n",
    "r2_score(y_val, p)"
   ]
  },
  {
   "cell_type": "code",
   "execution_count": null,
   "metadata": {},
   "outputs": [],
   "source": []
  }
 ],
 "metadata": {
  "kernelspec": {
   "display_name": "Python 3",
   "language": "python",
   "name": "python3"
  },
  "language_info": {
   "codemirror_mode": {
    "name": "ipython",
    "version": 3
   },
   "file_extension": ".py",
   "mimetype": "text/x-python",
   "name": "python",
   "nbconvert_exporter": "python",
   "pygments_lexer": "ipython3",
   "version": "3.8.5"
  }
 },
 "nbformat": 4,
 "nbformat_minor": 4
}
