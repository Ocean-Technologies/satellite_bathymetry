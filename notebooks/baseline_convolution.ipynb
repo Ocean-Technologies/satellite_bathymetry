{
 "cells": [
  {
   "cell_type": "code",
   "execution_count": 2,
   "metadata": {},
   "outputs": [],
   "source": [
    "import pandas as pd\n",
    "import numpy as np\n",
    "import joblib as jb\n",
    "import tifffile\n",
    "from pathlib import Path\n",
    "from glob import glob\n",
    "import matplotlib.pyplot as plt\n",
    "from satellite_bathymetry.preprocessing import get_coord_from_pixel_pos, get_pixel_from_coord, ndwi, pixel_ndwi, pixel_log_ratio\n",
    "from sklearn.metrics import r2_score\n",
    "import cv2\n",
    "from scipy import stats"
   ]
  },
  {
   "cell_type": "code",
   "execution_count": 4,
   "metadata": {},
   "outputs": [
    {
     "data": {
      "text/html": [
       "<div>\n",
       "<style scoped>\n",
       "    .dataframe tbody tr th:only-of-type {\n",
       "        vertical-align: middle;\n",
       "    }\n",
       "\n",
       "    .dataframe tbody tr th {\n",
       "        vertical-align: top;\n",
       "    }\n",
       "\n",
       "    .dataframe thead th {\n",
       "        text-align: right;\n",
       "    }\n",
       "</style>\n",
       "<table border=\"1\" class=\"dataframe\">\n",
       "  <thead>\n",
       "    <tr style=\"text-align: right;\">\n",
       "      <th></th>\n",
       "      <th>b1</th>\n",
       "      <th>b2</th>\n",
       "      <th>b3</th>\n",
       "      <th>b4</th>\n",
       "      <th>b5</th>\n",
       "      <th>b6</th>\n",
       "      <th>b7</th>\n",
       "      <th>b8</th>\n",
       "      <th>cspmb7</th>\n",
       "      <th>z</th>\n",
       "      <th>x</th>\n",
       "      <th>y</th>\n",
       "      <th>rf_pred</th>\n",
       "      <th>lgbm_pred</th>\n",
       "    </tr>\n",
       "  </thead>\n",
       "  <tbody>\n",
       "    <tr>\n",
       "      <th>0</th>\n",
       "      <td>0.1199</td>\n",
       "      <td>0.0866</td>\n",
       "      <td>0.0667</td>\n",
       "      <td>0.0464</td>\n",
       "      <td>0.0490</td>\n",
       "      <td>0.0316</td>\n",
       "      <td>0.0283</td>\n",
       "      <td>0.0238</td>\n",
       "      <td>23.382784</td>\n",
       "      <td>3.195862</td>\n",
       "      <td>233</td>\n",
       "      <td>1130</td>\n",
       "      <td>3.327069</td>\n",
       "      <td>3.263602</td>\n",
       "    </tr>\n",
       "    <tr>\n",
       "      <th>3</th>\n",
       "      <td>0.1199</td>\n",
       "      <td>0.0882</td>\n",
       "      <td>0.0692</td>\n",
       "      <td>0.0452</td>\n",
       "      <td>0.0488</td>\n",
       "      <td>0.0324</td>\n",
       "      <td>0.0281</td>\n",
       "      <td>0.0232</td>\n",
       "      <td>23.158824</td>\n",
       "      <td>3.268182</td>\n",
       "      <td>233</td>\n",
       "      <td>1133</td>\n",
       "      <td>3.207836</td>\n",
       "      <td>2.887565</td>\n",
       "    </tr>\n",
       "    <tr>\n",
       "      <th>5</th>\n",
       "      <td>0.1196</td>\n",
       "      <td>0.0866</td>\n",
       "      <td>0.0687</td>\n",
       "      <td>0.0451</td>\n",
       "      <td>0.0489</td>\n",
       "      <td>0.0323</td>\n",
       "      <td>0.0285</td>\n",
       "      <td>0.0229</td>\n",
       "      <td>23.607309</td>\n",
       "      <td>3.294375</td>\n",
       "      <td>233</td>\n",
       "      <td>1135</td>\n",
       "      <td>3.212436</td>\n",
       "      <td>3.188754</td>\n",
       "    </tr>\n",
       "  </tbody>\n",
       "</table>\n",
       "</div>"
      ],
      "text/plain": [
       "       b1      b2      b3      b4      b5      b6      b7      b8     cspmb7  \\\n",
       "0  0.1199  0.0866  0.0667  0.0464  0.0490  0.0316  0.0283  0.0238  23.382784   \n",
       "3  0.1199  0.0882  0.0692  0.0452  0.0488  0.0324  0.0281  0.0232  23.158824   \n",
       "5  0.1196  0.0866  0.0687  0.0451  0.0489  0.0323  0.0285  0.0229  23.607309   \n",
       "\n",
       "          z    x     y   rf_pred  lgbm_pred  \n",
       "0  3.195862  233  1130  3.327069   3.263602  \n",
       "3  3.268182  233  1133  3.207836   2.887565  \n",
       "5  3.294375  233  1135  3.212436   3.188754  "
      ]
     },
     "execution_count": 4,
     "metadata": {},
     "output_type": "execute_result"
    }
   ],
   "source": [
    "df_data = jb.load('../data/generated_baseline_convolution/bands_cspm/val_data_bands_cspm_baseline.pkl.z')\n",
    "df_data.head(3)"
   ]
  },
  {
   "cell_type": "code",
   "execution_count": 5,
   "metadata": {},
   "outputs": [
    {
     "data": {
      "text/html": [
       "<div>\n",
       "<style scoped>\n",
       "    .dataframe tbody tr th:only-of-type {\n",
       "        vertical-align: middle;\n",
       "    }\n",
       "\n",
       "    .dataframe tbody tr th {\n",
       "        vertical-align: top;\n",
       "    }\n",
       "\n",
       "    .dataframe thead th {\n",
       "        text-align: right;\n",
       "    }\n",
       "</style>\n",
       "<table border=\"1\" class=\"dataframe\">\n",
       "  <thead>\n",
       "    <tr style=\"text-align: right;\">\n",
       "      <th></th>\n",
       "      <th>b1</th>\n",
       "      <th>b2</th>\n",
       "      <th>b3</th>\n",
       "      <th>b4</th>\n",
       "      <th>b5</th>\n",
       "      <th>b6</th>\n",
       "      <th>b7</th>\n",
       "      <th>b8</th>\n",
       "      <th>cspmb7</th>\n",
       "      <th>z</th>\n",
       "      <th>x</th>\n",
       "      <th>y</th>\n",
       "      <th>rf_pred</th>\n",
       "      <th>lgbm_pred</th>\n",
       "    </tr>\n",
       "  </thead>\n",
       "  <tbody>\n",
       "    <tr>\n",
       "      <th>count</th>\n",
       "      <td>5787.000000</td>\n",
       "      <td>5787.000000</td>\n",
       "      <td>5787.000000</td>\n",
       "      <td>5787.000000</td>\n",
       "      <td>5787.000000</td>\n",
       "      <td>5787.000000</td>\n",
       "      <td>5787.000000</td>\n",
       "      <td>5787.000000</td>\n",
       "      <td>5787.000000</td>\n",
       "      <td>5787.000000</td>\n",
       "      <td>5787.000000</td>\n",
       "      <td>5787.000000</td>\n",
       "      <td>5787.000000</td>\n",
       "      <td>5787.000000</td>\n",
       "    </tr>\n",
       "    <tr>\n",
       "      <th>mean</th>\n",
       "      <td>0.122902</td>\n",
       "      <td>0.093355</td>\n",
       "      <td>0.072601</td>\n",
       "      <td>0.047239</td>\n",
       "      <td>0.040707</td>\n",
       "      <td>0.026696</td>\n",
       "      <td>0.025109</td>\n",
       "      <td>0.020372</td>\n",
       "      <td>20.032202</td>\n",
       "      <td>7.165045</td>\n",
       "      <td>1148.165025</td>\n",
       "      <td>644.689995</td>\n",
       "      <td>7.293312</td>\n",
       "      <td>7.253924</td>\n",
       "    </tr>\n",
       "    <tr>\n",
       "      <th>std</th>\n",
       "      <td>0.003260</td>\n",
       "      <td>0.004409</td>\n",
       "      <td>0.005438</td>\n",
       "      <td>0.006995</td>\n",
       "      <td>0.007590</td>\n",
       "      <td>0.004354</td>\n",
       "      <td>0.004638</td>\n",
       "      <td>0.003903</td>\n",
       "      <td>5.301233</td>\n",
       "      <td>4.505792</td>\n",
       "      <td>467.484030</td>\n",
       "      <td>408.237719</td>\n",
       "      <td>3.812242</td>\n",
       "      <td>3.608358</td>\n",
       "    </tr>\n",
       "    <tr>\n",
       "      <th>min</th>\n",
       "      <td>0.115700</td>\n",
       "      <td>0.081300</td>\n",
       "      <td>0.054800</td>\n",
       "      <td>0.030900</td>\n",
       "      <td>0.026800</td>\n",
       "      <td>0.018900</td>\n",
       "      <td>0.014400</td>\n",
       "      <td>0.013600</td>\n",
       "      <td>9.348026</td>\n",
       "      <td>1.167273</td>\n",
       "      <td>233.000000</td>\n",
       "      <td>1.000000</td>\n",
       "      <td>1.565492</td>\n",
       "      <td>1.022126</td>\n",
       "    </tr>\n",
       "    <tr>\n",
       "      <th>25%</th>\n",
       "      <td>0.120400</td>\n",
       "      <td>0.090200</td>\n",
       "      <td>0.068700</td>\n",
       "      <td>0.042100</td>\n",
       "      <td>0.035100</td>\n",
       "      <td>0.023900</td>\n",
       "      <td>0.022100</td>\n",
       "      <td>0.017900</td>\n",
       "      <td>16.717153</td>\n",
       "      <td>3.479353</td>\n",
       "      <td>788.500000</td>\n",
       "      <td>323.000000</td>\n",
       "      <td>4.361494</td>\n",
       "      <td>4.643458</td>\n",
       "    </tr>\n",
       "    <tr>\n",
       "      <th>50%</th>\n",
       "      <td>0.123000</td>\n",
       "      <td>0.093600</td>\n",
       "      <td>0.073000</td>\n",
       "      <td>0.046300</td>\n",
       "      <td>0.039200</td>\n",
       "      <td>0.025800</td>\n",
       "      <td>0.024000</td>\n",
       "      <td>0.019600</td>\n",
       "      <td>18.696860</td>\n",
       "      <td>6.151290</td>\n",
       "      <td>1032.000000</td>\n",
       "      <td>604.000000</td>\n",
       "      <td>6.435930</td>\n",
       "      <td>6.394318</td>\n",
       "    </tr>\n",
       "    <tr>\n",
       "      <th>75%</th>\n",
       "      <td>0.125300</td>\n",
       "      <td>0.096400</td>\n",
       "      <td>0.076200</td>\n",
       "      <td>0.051300</td>\n",
       "      <td>0.044700</td>\n",
       "      <td>0.028200</td>\n",
       "      <td>0.026800</td>\n",
       "      <td>0.021800</td>\n",
       "      <td>21.717054</td>\n",
       "      <td>9.763485</td>\n",
       "      <td>1534.500000</td>\n",
       "      <td>931.500000</td>\n",
       "      <td>9.160880</td>\n",
       "      <td>8.851207</td>\n",
       "    </tr>\n",
       "    <tr>\n",
       "      <th>max</th>\n",
       "      <td>0.135300</td>\n",
       "      <td>0.113700</td>\n",
       "      <td>0.095200</td>\n",
       "      <td>0.080800</td>\n",
       "      <td>0.075300</td>\n",
       "      <td>0.054900</td>\n",
       "      <td>0.061200</td>\n",
       "      <td>0.057000</td>\n",
       "      <td>66.595318</td>\n",
       "      <td>25.765000</td>\n",
       "      <td>2295.000000</td>\n",
       "      <td>1637.000000</td>\n",
       "      <td>21.996673</td>\n",
       "      <td>21.900312</td>\n",
       "    </tr>\n",
       "  </tbody>\n",
       "</table>\n",
       "</div>"
      ],
      "text/plain": [
       "                b1           b2           b3           b4           b5  \\\n",
       "count  5787.000000  5787.000000  5787.000000  5787.000000  5787.000000   \n",
       "mean      0.122902     0.093355     0.072601     0.047239     0.040707   \n",
       "std       0.003260     0.004409     0.005438     0.006995     0.007590   \n",
       "min       0.115700     0.081300     0.054800     0.030900     0.026800   \n",
       "25%       0.120400     0.090200     0.068700     0.042100     0.035100   \n",
       "50%       0.123000     0.093600     0.073000     0.046300     0.039200   \n",
       "75%       0.125300     0.096400     0.076200     0.051300     0.044700   \n",
       "max       0.135300     0.113700     0.095200     0.080800     0.075300   \n",
       "\n",
       "                b6           b7           b8       cspmb7            z  \\\n",
       "count  5787.000000  5787.000000  5787.000000  5787.000000  5787.000000   \n",
       "mean      0.026696     0.025109     0.020372    20.032202     7.165045   \n",
       "std       0.004354     0.004638     0.003903     5.301233     4.505792   \n",
       "min       0.018900     0.014400     0.013600     9.348026     1.167273   \n",
       "25%       0.023900     0.022100     0.017900    16.717153     3.479353   \n",
       "50%       0.025800     0.024000     0.019600    18.696860     6.151290   \n",
       "75%       0.028200     0.026800     0.021800    21.717054     9.763485   \n",
       "max       0.054900     0.061200     0.057000    66.595318    25.765000   \n",
       "\n",
       "                 x            y      rf_pred    lgbm_pred  \n",
       "count  5787.000000  5787.000000  5787.000000  5787.000000  \n",
       "mean   1148.165025   644.689995     7.293312     7.253924  \n",
       "std     467.484030   408.237719     3.812242     3.608358  \n",
       "min     233.000000     1.000000     1.565492     1.022126  \n",
       "25%     788.500000   323.000000     4.361494     4.643458  \n",
       "50%    1032.000000   604.000000     6.435930     6.394318  \n",
       "75%    1534.500000   931.500000     9.160880     8.851207  \n",
       "max    2295.000000  1637.000000    21.996673    21.900312  "
      ]
     },
     "execution_count": 5,
     "metadata": {},
     "output_type": "execute_result"
    }
   ],
   "source": [
    "df_data.describe()"
   ]
  },
  {
   "cell_type": "code",
   "execution_count": 6,
   "metadata": {},
   "outputs": [
    {
     "data": {
      "text/plain": [
       "1636"
      ]
     },
     "execution_count": 6,
     "metadata": {},
     "output_type": "execute_result"
    }
   ],
   "source": [
    "height = df_data.y.max() - df_data.y.min()\n",
    "height"
   ]
  },
  {
   "cell_type": "code",
   "execution_count": 7,
   "metadata": {},
   "outputs": [
    {
     "data": {
      "text/plain": [
       "2062"
      ]
     },
     "execution_count": 7,
     "metadata": {},
     "output_type": "execute_result"
    }
   ],
   "source": [
    "width = df_data.x.max() - df_data.x.min()\n",
    "width"
   ]
  },
  {
   "cell_type": "code",
   "execution_count": 8,
   "metadata": {},
   "outputs": [],
   "source": [
    "image = np.zeros((df_data.y.max()+1,df_data.x.max()+1))"
   ]
  },
  {
   "cell_type": "code",
   "execution_count": 9,
   "metadata": {},
   "outputs": [
    {
     "data": {
      "text/plain": [
       "(1638, 2296)"
      ]
     },
     "execution_count": 9,
     "metadata": {},
     "output_type": "execute_result"
    }
   ],
   "source": [
    "image.shape"
   ]
  },
  {
   "cell_type": "code",
   "execution_count": 10,
   "metadata": {},
   "outputs": [],
   "source": [
    "for i, row in enumerate(df_data.itertuples()):\n",
    "    x = row[-4]\n",
    "    y = row[-3]\n",
    "    rf_pred = row[-2]\n",
    "    image[y][x] = rf_pred"
   ]
  },
  {
   "cell_type": "code",
   "execution_count": 11,
   "metadata": {},
   "outputs": [
    {
     "data": {
      "text/plain": [
       "21.996673262912974"
      ]
     },
     "execution_count": 11,
     "metadata": {},
     "output_type": "execute_result"
    }
   ],
   "source": [
    "image.max()"
   ]
  },
  {
   "cell_type": "code",
   "execution_count": 12,
   "metadata": {},
   "outputs": [
    {
     "data": {
      "text/plain": [
       "<matplotlib.image.AxesImage at 0x22cb5d3fa90>"
      ]
     },
     "execution_count": 12,
     "metadata": {},
     "output_type": "execute_result"
    },
    {
     "data": {
      "image/png": "[encoded data removed]",
      "text/plain": [
       "<Figure size 1440x1080 with 1 Axes>"
      ]
     },
     "metadata": {
      "needs_background": "light"
     },
     "output_type": "display_data"
    }
   ],
   "source": [
    "plt.figure(figsize=(20,15))\n",
    "plt.imshow(image*100,'gray')"
   ]
  },
  {
   "cell_type": "code",
   "execution_count": 13,
   "metadata": {},
   "outputs": [],
   "source": [
    "def convolution(image,kernel):\n",
    "    result = image.copy()\n",
    "    for y in range(int(kernel.shape[0]/2),image.shape[0]-int(kernel.shape[0]/2)):\n",
    "        for x in range(int(kernel.shape[1]/2),image.shape[1]-int(kernel.shape[1]/2)):\n",
    "            if(image[y][x] != 0):\n",
    "                s = 0\n",
    "                c = 0\n",
    "                for i in range(kernel.shape[0]):\n",
    "                    for j in range(kernel.shape[1]):\n",
    "                        v = image[y+i-int(kernel.shape[0]/2)][x+j-int(kernel.shape[1]/2)] * kernel[i][j]\n",
    "                        if(v != 0):\n",
    "                            s += v\n",
    "                            c += kernel[i][j]\n",
    "                if(c!=0):\n",
    "                    result[y][x] = s/float(c)\n",
    "    return result"
   ]
  },
  {
   "cell_type": "code",
   "execution_count": 14,
   "metadata": {},
   "outputs": [],
   "source": [
    "#r2 = 0.57\n",
    "#kernel = np.array([[0.25,0.5,1,0.5,0.25],\n",
    "#                   [0.5,1,1.5,1,0.5],\n",
    "#                   [1,1.5,1.5,1.5,1],\n",
    "#                   [0.5,1,1.5,1,0.5],\n",
    "#                   [0.25,0.5,1,0.5,0.25]])\n",
    "\n",
    "#r2 = 0.77\n",
    "#kernel = np.array([[0.5,0.75,1,0.75,0.5],\n",
    "#                   [0.75,1,1,1,0.75],\n",
    "#                   [1,1,1,1,1],\n",
    "#                   [0.75,1,1,1,0.75],\n",
    "#                   [0.5,0.75,1,0.75,0.5]])\n",
    "\n",
    "#r2 = 0.82\n",
    "#kernel = np.array([[1,1,1,1,1],\n",
    "#                   [1,1,1,1,1],\n",
    "#                   [1,1,1,1,1],\n",
    "#                   [1,1,1,1,1],\n",
    "#                   [1,1,1,1,1]])\n",
    "\n",
    "\n",
    "#r2 = 0.817\n",
    "#kernel = np.ones((4,4))\n",
    "\n",
    "\n",
    "#r2 = 0.826\n",
    "#kernel = np.ones((6,6))\n",
    "\n",
    "#r2 = 0.833\n",
    "#kernel = np.ones((8,8))\n",
    "\n",
    "#r2 = 0.836\n",
    "#kernel = np.ones((10,10))\n",
    "\n",
    "kernel = np.ones((15,15))\n",
    "\n",
    "#r2 = 0.838\n",
    "#kernel = np.ones((20,20))\n",
    "\n",
    "\n",
    "\n",
    "#r2 = 0.832\n",
    "#kernel = np.ones((25,25))\n",
    "\n",
    "#r2 = 0.825\n",
    "#kernel = np.ones((30,30))\n",
    "\n",
    "#r2 = 0.809\n",
    "#kernel = np.ones((40,40))\n",
    "\n",
    "\n",
    "\n",
    "image_copy = convolution(image,kernel)"
   ]
  },
  {
   "cell_type": "code",
   "execution_count": 15,
   "metadata": {},
   "outputs": [
    {
     "data": {
      "text/plain": [
       "array([[1., 1., 1., 1., 1., 1., 1., 1., 1., 1., 1., 1., 1., 1., 1.],\n",
       "       [1., 1., 1., 1., 1., 1., 1., 1., 1., 1., 1., 1., 1., 1., 1.],\n",
       "       [1., 1., 1., 1., 1., 1., 1., 1., 1., 1., 1., 1., 1., 1., 1.],\n",
       "       [1., 1., 1., 1., 1., 1., 1., 1., 1., 1., 1., 1., 1., 1., 1.],\n",
       "       [1., 1., 1., 1., 1., 1., 1., 1., 1., 1., 1., 1., 1., 1., 1.],\n",
       "       [1., 1., 1., 1., 1., 1., 1., 1., 1., 1., 1., 1., 1., 1., 1.],\n",
       "       [1., 1., 1., 1., 1., 1., 1., 1., 1., 1., 1., 1., 1., 1., 1.],\n",
       "       [1., 1., 1., 1., 1., 1., 1., 1., 1., 1., 1., 1., 1., 1., 1.],\n",
       "       [1., 1., 1., 1., 1., 1., 1., 1., 1., 1., 1., 1., 1., 1., 1.],\n",
       "       [1., 1., 1., 1., 1., 1., 1., 1., 1., 1., 1., 1., 1., 1., 1.],\n",
       "       [1., 1., 1., 1., 1., 1., 1., 1., 1., 1., 1., 1., 1., 1., 1.],\n",
       "       [1., 1., 1., 1., 1., 1., 1., 1., 1., 1., 1., 1., 1., 1., 1.],\n",
       "       [1., 1., 1., 1., 1., 1., 1., 1., 1., 1., 1., 1., 1., 1., 1.],\n",
       "       [1., 1., 1., 1., 1., 1., 1., 1., 1., 1., 1., 1., 1., 1., 1.],\n",
       "       [1., 1., 1., 1., 1., 1., 1., 1., 1., 1., 1., 1., 1., 1., 1.]])"
      ]
     },
     "execution_count": 15,
     "metadata": {},
     "output_type": "execute_result"
    }
   ],
   "source": [
    "kernel"
   ]
  },
  {
   "cell_type": "code",
   "execution_count": 16,
   "metadata": {},
   "outputs": [
    {
     "data": {
      "text/plain": [
       "<matplotlib.image.AxesImage at 0x22cb40a5da0>"
      ]
     },
     "execution_count": 16,
     "metadata": {},
     "output_type": "execute_result"
    },
    {
     "data": {
      "image/png": "[encoded data removed]",
      "text/plain": [
       "<Figure size 1800x1440 with 1 Axes>"
      ]
     },
     "metadata": {
      "needs_background": "light"
     },
     "output_type": "display_data"
    }
   ],
   "source": [
    "plt.figure(figsize=(25,20))\n",
    "plt.imshow(image_copy*100,'gray')"
   ]
  },
  {
   "cell_type": "code",
   "execution_count": 17,
   "metadata": {},
   "outputs": [
    {
     "data": {
      "text/html": [
       "<div>\n",
       "<style scoped>\n",
       "    .dataframe tbody tr th:only-of-type {\n",
       "        vertical-align: middle;\n",
       "    }\n",
       "\n",
       "    .dataframe tbody tr th {\n",
       "        vertical-align: top;\n",
       "    }\n",
       "\n",
       "    .dataframe thead th {\n",
       "        text-align: right;\n",
       "    }\n",
       "</style>\n",
       "<table border=\"1\" class=\"dataframe\">\n",
       "  <thead>\n",
       "    <tr style=\"text-align: right;\">\n",
       "      <th></th>\n",
       "    </tr>\n",
       "  </thead>\n",
       "  <tbody>\n",
       "    <tr>\n",
       "      <th>0</th>\n",
       "    </tr>\n",
       "    <tr>\n",
       "      <th>3</th>\n",
       "    </tr>\n",
       "    <tr>\n",
       "      <th>5</th>\n",
       "    </tr>\n",
       "    <tr>\n",
       "      <th>6</th>\n",
       "    </tr>\n",
       "    <tr>\n",
       "      <th>8</th>\n",
       "    </tr>\n",
       "    <tr>\n",
       "      <th>...</th>\n",
       "    </tr>\n",
       "    <tr>\n",
       "      <th>19276</th>\n",
       "    </tr>\n",
       "    <tr>\n",
       "      <th>19277</th>\n",
       "    </tr>\n",
       "    <tr>\n",
       "      <th>19278</th>\n",
       "    </tr>\n",
       "    <tr>\n",
       "      <th>19280</th>\n",
       "    </tr>\n",
       "    <tr>\n",
       "      <th>19285</th>\n",
       "    </tr>\n",
       "  </tbody>\n",
       "</table>\n",
       "<p>5787 rows × 0 columns</p>\n",
       "</div>"
      ],
      "text/plain": [
       "Empty DataFrame\n",
       "Columns: []\n",
       "Index: [0, 3, 5, 6, 8, 14, 17, 19, 27, 30, 31, 33, 34, 35, 38, 41, 42, 46, 47, 50, 54, 57, 59, 72, 79, 83, 84, 85, 88, 94, 99, 101, 102, 103, 106, 113, 115, 119, 121, 123, 127, 130, 134, 135, 137, 147, 149, 150, 157, 167, 168, 169, 173, 176, 177, 181, 182, 188, 196, 199, 200, 210, 214, 217, 218, 221, 222, 239, 247, 251, 254, 257, 259, 263, 265, 266, 273, 274, 280, 284, 285, 286, 290, 291, 293, 299, 304, 311, 313, 316, 322, 323, 326, 327, 333, 334, 335, 337, 339, 341, ...]\n",
       "\n",
       "[5787 rows x 0 columns]"
      ]
     },
     "execution_count": 17,
     "metadata": {},
     "output_type": "execute_result"
    }
   ],
   "source": [
    "new_df = pd.DataFrame(index=df_data.index)\n",
    "new_df"
   ]
  },
  {
   "cell_type": "code",
   "execution_count": 20,
   "metadata": {},
   "outputs": [],
   "source": [
    "df_data_copy = df_data.copy()\n",
    "new_col = list()\n",
    "for i, row in enumerate(df_data.itertuples()):\n",
    "    x = row[-4]\n",
    "    y = row[-3]\n",
    "    new_col.append(image_copy[y][x])\n",
    "df_data_copy['rf_pred_smooth'] = new_col"
   ]
  },
  {
   "cell_type": "code",
   "execution_count": 21,
   "metadata": {},
   "outputs": [
    {
     "data": {
      "text/html": [
       "<div>\n",
       "<style scoped>\n",
       "    .dataframe tbody tr th:only-of-type {\n",
       "        vertical-align: middle;\n",
       "    }\n",
       "\n",
       "    .dataframe tbody tr th {\n",
       "        vertical-align: top;\n",
       "    }\n",
       "\n",
       "    .dataframe thead th {\n",
       "        text-align: right;\n",
       "    }\n",
       "</style>\n",
       "<table border=\"1\" class=\"dataframe\">\n",
       "  <thead>\n",
       "    <tr style=\"text-align: right;\">\n",
       "      <th></th>\n",
       "      <th>b1</th>\n",
       "      <th>b2</th>\n",
       "      <th>b3</th>\n",
       "      <th>b4</th>\n",
       "      <th>b5</th>\n",
       "      <th>b6</th>\n",
       "      <th>b7</th>\n",
       "      <th>b8</th>\n",
       "      <th>cspmb7</th>\n",
       "      <th>z</th>\n",
       "      <th>x</th>\n",
       "      <th>y</th>\n",
       "      <th>rf_pred</th>\n",
       "      <th>lgbm_pred</th>\n",
       "      <th>rf_pred_smooth</th>\n",
       "    </tr>\n",
       "  </thead>\n",
       "  <tbody>\n",
       "    <tr>\n",
       "      <th>0</th>\n",
       "      <td>0.1199</td>\n",
       "      <td>0.0866</td>\n",
       "      <td>0.0667</td>\n",
       "      <td>0.0464</td>\n",
       "      <td>0.0490</td>\n",
       "      <td>0.0316</td>\n",
       "      <td>0.0283</td>\n",
       "      <td>0.0238</td>\n",
       "      <td>23.382784</td>\n",
       "      <td>3.195862</td>\n",
       "      <td>233</td>\n",
       "      <td>1130</td>\n",
       "      <td>3.327069</td>\n",
       "      <td>3.263602</td>\n",
       "      <td>3.252858</td>\n",
       "    </tr>\n",
       "    <tr>\n",
       "      <th>3</th>\n",
       "      <td>0.1199</td>\n",
       "      <td>0.0882</td>\n",
       "      <td>0.0692</td>\n",
       "      <td>0.0452</td>\n",
       "      <td>0.0488</td>\n",
       "      <td>0.0324</td>\n",
       "      <td>0.0281</td>\n",
       "      <td>0.0232</td>\n",
       "      <td>23.158824</td>\n",
       "      <td>3.268182</td>\n",
       "      <td>233</td>\n",
       "      <td>1133</td>\n",
       "      <td>3.207836</td>\n",
       "      <td>2.887565</td>\n",
       "      <td>3.260071</td>\n",
       "    </tr>\n",
       "    <tr>\n",
       "      <th>5</th>\n",
       "      <td>0.1196</td>\n",
       "      <td>0.0866</td>\n",
       "      <td>0.0687</td>\n",
       "      <td>0.0451</td>\n",
       "      <td>0.0489</td>\n",
       "      <td>0.0323</td>\n",
       "      <td>0.0285</td>\n",
       "      <td>0.0229</td>\n",
       "      <td>23.607309</td>\n",
       "      <td>3.294375</td>\n",
       "      <td>233</td>\n",
       "      <td>1135</td>\n",
       "      <td>3.212436</td>\n",
       "      <td>3.188754</td>\n",
       "      <td>3.242697</td>\n",
       "    </tr>\n",
       "    <tr>\n",
       "      <th>6</th>\n",
       "      <td>0.1196</td>\n",
       "      <td>0.0868</td>\n",
       "      <td>0.0674</td>\n",
       "      <td>0.0451</td>\n",
       "      <td>0.0485</td>\n",
       "      <td>0.0317</td>\n",
       "      <td>0.0296</td>\n",
       "      <td>0.0232</td>\n",
       "      <td>24.852202</td>\n",
       "      <td>3.353030</td>\n",
       "      <td>233</td>\n",
       "      <td>1136</td>\n",
       "      <td>3.168455</td>\n",
       "      <td>3.116440</td>\n",
       "      <td>3.242697</td>\n",
       "    </tr>\n",
       "    <tr>\n",
       "      <th>8</th>\n",
       "      <td>0.1224</td>\n",
       "      <td>0.0917</td>\n",
       "      <td>0.0725</td>\n",
       "      <td>0.0509</td>\n",
       "      <td>0.0554</td>\n",
       "      <td>0.0345</td>\n",
       "      <td>0.0331</td>\n",
       "      <td>0.0264</td>\n",
       "      <td>28.922021</td>\n",
       "      <td>2.230000</td>\n",
       "      <td>234</td>\n",
       "      <td>1003</td>\n",
       "      <td>2.726091</td>\n",
       "      <td>3.291766</td>\n",
       "      <td>2.998549</td>\n",
       "    </tr>\n",
       "    <tr>\n",
       "      <th>...</th>\n",
       "      <td>...</td>\n",
       "      <td>...</td>\n",
       "      <td>...</td>\n",
       "      <td>...</td>\n",
       "      <td>...</td>\n",
       "      <td>...</td>\n",
       "      <td>...</td>\n",
       "      <td>...</td>\n",
       "      <td>...</td>\n",
       "      <td>...</td>\n",
       "      <td>...</td>\n",
       "      <td>...</td>\n",
       "      <td>...</td>\n",
       "      <td>...</td>\n",
       "      <td>...</td>\n",
       "    </tr>\n",
       "    <tr>\n",
       "      <th>19276</th>\n",
       "      <td>0.1256</td>\n",
       "      <td>0.1026</td>\n",
       "      <td>0.0803</td>\n",
       "      <td>0.0529</td>\n",
       "      <td>0.0436</td>\n",
       "      <td>0.0275</td>\n",
       "      <td>0.0256</td>\n",
       "      <td>0.0217</td>\n",
       "      <td>20.408150</td>\n",
       "      <td>3.026562</td>\n",
       "      <td>2290</td>\n",
       "      <td>83</td>\n",
       "      <td>3.968316</td>\n",
       "      <td>3.429625</td>\n",
       "      <td>3.968316</td>\n",
       "    </tr>\n",
       "    <tr>\n",
       "      <th>19277</th>\n",
       "      <td>0.1277</td>\n",
       "      <td>0.1031</td>\n",
       "      <td>0.0824</td>\n",
       "      <td>0.0541</td>\n",
       "      <td>0.0464</td>\n",
       "      <td>0.0281</td>\n",
       "      <td>0.0267</td>\n",
       "      <td>0.0219</td>\n",
       "      <td>21.607165</td>\n",
       "      <td>2.920000</td>\n",
       "      <td>2290</td>\n",
       "      <td>84</td>\n",
       "      <td>5.098087</td>\n",
       "      <td>3.070840</td>\n",
       "      <td>5.098087</td>\n",
       "    </tr>\n",
       "    <tr>\n",
       "      <th>19278</th>\n",
       "      <td>0.1277</td>\n",
       "      <td>0.1018</td>\n",
       "      <td>0.0811</td>\n",
       "      <td>0.0550</td>\n",
       "      <td>0.0464</td>\n",
       "      <td>0.0281</td>\n",
       "      <td>0.0267</td>\n",
       "      <td>0.0222</td>\n",
       "      <td>21.607165</td>\n",
       "      <td>2.820312</td>\n",
       "      <td>2291</td>\n",
       "      <td>84</td>\n",
       "      <td>4.842504</td>\n",
       "      <td>6.546937</td>\n",
       "      <td>4.842504</td>\n",
       "    </tr>\n",
       "    <tr>\n",
       "      <th>19280</th>\n",
       "      <td>0.1267</td>\n",
       "      <td>0.1026</td>\n",
       "      <td>0.0805</td>\n",
       "      <td>0.0558</td>\n",
       "      <td>0.0473</td>\n",
       "      <td>0.0290</td>\n",
       "      <td>0.0263</td>\n",
       "      <td>0.0239</td>\n",
       "      <td>21.169079</td>\n",
       "      <td>2.594444</td>\n",
       "      <td>2292</td>\n",
       "      <td>85</td>\n",
       "      <td>4.370553</td>\n",
       "      <td>7.049632</td>\n",
       "      <td>4.370553</td>\n",
       "    </tr>\n",
       "    <tr>\n",
       "      <th>19285</th>\n",
       "      <td>0.1267</td>\n",
       "      <td>0.1012</td>\n",
       "      <td>0.0798</td>\n",
       "      <td>0.0553</td>\n",
       "      <td>0.0482</td>\n",
       "      <td>0.0295</td>\n",
       "      <td>0.0288</td>\n",
       "      <td>0.0230</td>\n",
       "      <td>23.945153</td>\n",
       "      <td>1.360263</td>\n",
       "      <td>2295</td>\n",
       "      <td>87</td>\n",
       "      <td>3.193380</td>\n",
       "      <td>5.127662</td>\n",
       "      <td>3.193380</td>\n",
       "    </tr>\n",
       "  </tbody>\n",
       "</table>\n",
       "<p>5787 rows × 15 columns</p>\n",
       "</div>"
      ],
      "text/plain": [
       "           b1      b2      b3      b4      b5      b6      b7      b8  \\\n",
       "0      0.1199  0.0866  0.0667  0.0464  0.0490  0.0316  0.0283  0.0238   \n",
       "3      0.1199  0.0882  0.0692  0.0452  0.0488  0.0324  0.0281  0.0232   \n",
       "5      0.1196  0.0866  0.0687  0.0451  0.0489  0.0323  0.0285  0.0229   \n",
       "6      0.1196  0.0868  0.0674  0.0451  0.0485  0.0317  0.0296  0.0232   \n",
       "8      0.1224  0.0917  0.0725  0.0509  0.0554  0.0345  0.0331  0.0264   \n",
       "...       ...     ...     ...     ...     ...     ...     ...     ...   \n",
       "19276  0.1256  0.1026  0.0803  0.0529  0.0436  0.0275  0.0256  0.0217   \n",
       "19277  0.1277  0.1031  0.0824  0.0541  0.0464  0.0281  0.0267  0.0219   \n",
       "19278  0.1277  0.1018  0.0811  0.0550  0.0464  0.0281  0.0267  0.0222   \n",
       "19280  0.1267  0.1026  0.0805  0.0558  0.0473  0.0290  0.0263  0.0239   \n",
       "19285  0.1267  0.1012  0.0798  0.0553  0.0482  0.0295  0.0288  0.0230   \n",
       "\n",
       "          cspmb7         z     x     y   rf_pred  lgbm_pred  rf_pred_smooth  \n",
       "0      23.382784  3.195862   233  1130  3.327069   3.263602        3.252858  \n",
       "3      23.158824  3.268182   233  1133  3.207836   2.887565        3.260071  \n",
       "5      23.607309  3.294375   233  1135  3.212436   3.188754        3.242697  \n",
       "6      24.852202  3.353030   233  1136  3.168455   3.116440        3.242697  \n",
       "8      28.922021  2.230000   234  1003  2.726091   3.291766        2.998549  \n",
       "...          ...       ...   ...   ...       ...        ...             ...  \n",
       "19276  20.408150  3.026562  2290    83  3.968316   3.429625        3.968316  \n",
       "19277  21.607165  2.920000  2290    84  5.098087   3.070840        5.098087  \n",
       "19278  21.607165  2.820312  2291    84  4.842504   6.546937        4.842504  \n",
       "19280  21.169079  2.594444  2292    85  4.370553   7.049632        4.370553  \n",
       "19285  23.945153  1.360263  2295    87  3.193380   5.127662        3.193380  \n",
       "\n",
       "[5787 rows x 15 columns]"
      ]
     },
     "execution_count": 21,
     "metadata": {},
     "output_type": "execute_result"
    }
   ],
   "source": [
    "df_data_copy"
   ]
  },
  {
   "cell_type": "code",
   "execution_count": 22,
   "metadata": {},
   "outputs": [
    {
     "data": {
      "text/plain": [
       "0.8402257382875102"
      ]
     },
     "execution_count": 22,
     "metadata": {},
     "output_type": "execute_result"
    }
   ],
   "source": [
    "r2_score(df_data_copy['z'],df_data_copy['rf_pred_smooth'])"
   ]
  },
  {
   "cell_type": "code",
   "execution_count": 23,
   "metadata": {},
   "outputs": [
    {
     "data": {
      "text/plain": [
       "0.7954639875979043"
      ]
     },
     "execution_count": 23,
     "metadata": {},
     "output_type": "execute_result"
    }
   ],
   "source": [
    "\n",
    "r2_score(df_data_copy['z'],df_data_copy['rf_pred'])"
   ]
  },
  {
   "cell_type": "code",
   "execution_count": 25,
   "metadata": {},
   "outputs": [
    {
     "data": {
      "text/plain": [
       "['../data/generated_baseline_convolution/bands_cspm/val_data_bands_cspm_baseline_convolution.pkl.z']"
      ]
     },
     "execution_count": 25,
     "metadata": {},
     "output_type": "execute_result"
    }
   ],
   "source": [
    "jb.dump(df_data_copy,'../data/generated_baseline_convolution/bands_cspm/val_data_bands_cspm_baseline_convolution.pkl.z')"
   ]
  },
  {
   "cell_type": "code",
   "execution_count": null,
   "metadata": {},
   "outputs": [],
   "source": []
  }
 ],
 "metadata": {
  "kernelspec": {
   "display_name": "Python 3",
   "language": "python",
   "name": "python3"
  },
  "language_info": {
   "codemirror_mode": {
    "name": "ipython",
    "version": 3
   },
   "file_extension": ".py",
   "mimetype": "text/x-python",
   "name": "python",
   "nbconvert_exporter": "python",
   "pygments_lexer": "ipython3",
   "version": "3.7.3"
  }
 },
 "nbformat": 4,
 "nbformat_minor": 4
}
