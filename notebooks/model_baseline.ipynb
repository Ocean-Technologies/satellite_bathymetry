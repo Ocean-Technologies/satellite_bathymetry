{
 "cells": [
  {
   "cell_type": "code",
   "execution_count": 1,
   "metadata": {},
   "outputs": [],
   "source": [
    "import pandas as pd\n",
    "import numpy as np\n",
    "import joblib as jb\n",
    "from sklearn.model_selection import train_test_split\n",
    "from sklearn.ensemble import RandomForestRegressor\n",
    "from lightgbm import LGBMRegressor\n",
    "from sklearn.metrics import r2_score, mean_absolute_error, mean_squared_error"
   ]
  },
  {
   "cell_type": "code",
   "execution_count": 2,
   "metadata": {},
   "outputs": [],
   "source": [
    "path = '../data/generated/df_newimages_bands_downside.pkl.z'"
   ]
  },
  {
   "cell_type": "code",
   "execution_count": 3,
   "metadata": {},
   "outputs": [
    {
     "data": {
      "text/html": [
       "<div>\n",
       "<style scoped>\n",
       "    .dataframe tbody tr th:only-of-type {\n",
       "        vertical-align: middle;\n",
       "    }\n",
       "\n",
       "    .dataframe tbody tr th {\n",
       "        vertical-align: top;\n",
       "    }\n",
       "\n",
       "    .dataframe thead th {\n",
       "        text-align: right;\n",
       "    }\n",
       "</style>\n",
       "<table border=\"1\" class=\"dataframe\">\n",
       "  <thead>\n",
       "    <tr style=\"text-align: right;\">\n",
       "      <th></th>\n",
       "      <th>x</th>\n",
       "      <th>y</th>\n",
       "      <th>z</th>\n",
       "      <th>b1</th>\n",
       "      <th>b2</th>\n",
       "      <th>b3</th>\n",
       "      <th>b4</th>\n",
       "      <th>b5</th>\n",
       "      <th>b6</th>\n",
       "      <th>b7</th>\n",
       "      <th>b8</th>\n",
       "      <th>b2b4</th>\n",
       "      <th>b3b4</th>\n",
       "      <th>ndwi15</th>\n",
       "      <th>ndwi24</th>\n",
       "      <th>ndwi53</th>\n",
       "      <th>cspmb7</th>\n",
       "    </tr>\n",
       "  </thead>\n",
       "  <tbody>\n",
       "    <tr>\n",
       "      <th>0</th>\n",
       "      <td>233</td>\n",
       "      <td>1130</td>\n",
       "      <td>3.195862</td>\n",
       "      <td>0.1199</td>\n",
       "      <td>0.0866</td>\n",
       "      <td>0.0667</td>\n",
       "      <td>0.0464</td>\n",
       "      <td>0.0490</td>\n",
       "      <td>0.0316</td>\n",
       "      <td>0.0283</td>\n",
       "      <td>0.0238</td>\n",
       "      <td>1.162614</td>\n",
       "      <td>1.094573</td>\n",
       "      <td>0.419775</td>\n",
       "      <td>0.302256</td>\n",
       "      <td>-0.152982</td>\n",
       "      <td>23.382784</td>\n",
       "    </tr>\n",
       "    <tr>\n",
       "      <th>1</th>\n",
       "      <td>233</td>\n",
       "      <td>1131</td>\n",
       "      <td>3.273030</td>\n",
       "      <td>0.1199</td>\n",
       "      <td>0.0880</td>\n",
       "      <td>0.0668</td>\n",
       "      <td>0.0457</td>\n",
       "      <td>0.0490</td>\n",
       "      <td>0.0316</td>\n",
       "      <td>0.0283</td>\n",
       "      <td>0.0237</td>\n",
       "      <td>1.171434</td>\n",
       "      <td>1.099318</td>\n",
       "      <td>0.419775</td>\n",
       "      <td>0.316380</td>\n",
       "      <td>-0.153713</td>\n",
       "      <td>23.382784</td>\n",
       "    </tr>\n",
       "    <tr>\n",
       "      <th>2</th>\n",
       "      <td>233</td>\n",
       "      <td>1132</td>\n",
       "      <td>3.299687</td>\n",
       "      <td>0.1199</td>\n",
       "      <td>0.0879</td>\n",
       "      <td>0.0666</td>\n",
       "      <td>0.0461</td>\n",
       "      <td>0.0488</td>\n",
       "      <td>0.0324</td>\n",
       "      <td>0.0281</td>\n",
       "      <td>0.0238</td>\n",
       "      <td>1.168473</td>\n",
       "      <td>1.096035</td>\n",
       "      <td>0.421458</td>\n",
       "      <td>0.311940</td>\n",
       "      <td>-0.154246</td>\n",
       "      <td>23.158824</td>\n",
       "    </tr>\n",
       "    <tr>\n",
       "      <th>3</th>\n",
       "      <td>233</td>\n",
       "      <td>1133</td>\n",
       "      <td>3.268182</td>\n",
       "      <td>0.1199</td>\n",
       "      <td>0.0882</td>\n",
       "      <td>0.0692</td>\n",
       "      <td>0.0452</td>\n",
       "      <td>0.0488</td>\n",
       "      <td>0.0324</td>\n",
       "      <td>0.0281</td>\n",
       "      <td>0.0232</td>\n",
       "      <td>1.175411</td>\n",
       "      <td>1.111754</td>\n",
       "      <td>0.421458</td>\n",
       "      <td>0.322339</td>\n",
       "      <td>-0.172881</td>\n",
       "      <td>23.158824</td>\n",
       "    </tr>\n",
       "    <tr>\n",
       "      <th>4</th>\n",
       "      <td>233</td>\n",
       "      <td>1134</td>\n",
       "      <td>3.278125</td>\n",
       "      <td>0.1196</td>\n",
       "      <td>0.0884</td>\n",
       "      <td>0.0677</td>\n",
       "      <td>0.0454</td>\n",
       "      <td>0.0489</td>\n",
       "      <td>0.0323</td>\n",
       "      <td>0.0285</td>\n",
       "      <td>0.0238</td>\n",
       "      <td>1.174645</td>\n",
       "      <td>1.104724</td>\n",
       "      <td>0.419585</td>\n",
       "      <td>0.321375</td>\n",
       "      <td>-0.161235</td>\n",
       "      <td>23.607309</td>\n",
       "    </tr>\n",
       "  </tbody>\n",
       "</table>\n",
       "</div>"
      ],
      "text/plain": [
       "     x     y         z      b1      b2      b3      b4      b5      b6  \\\n",
       "0  233  1130  3.195862  0.1199  0.0866  0.0667  0.0464  0.0490  0.0316   \n",
       "1  233  1131  3.273030  0.1199  0.0880  0.0668  0.0457  0.0490  0.0316   \n",
       "2  233  1132  3.299687  0.1199  0.0879  0.0666  0.0461  0.0488  0.0324   \n",
       "3  233  1133  3.268182  0.1199  0.0882  0.0692  0.0452  0.0488  0.0324   \n",
       "4  233  1134  3.278125  0.1196  0.0884  0.0677  0.0454  0.0489  0.0323   \n",
       "\n",
       "       b7      b8      b2b4      b3b4    ndwi15    ndwi24    ndwi53     cspmb7  \n",
       "0  0.0283  0.0238  1.162614  1.094573  0.419775  0.302256 -0.152982  23.382784  \n",
       "1  0.0283  0.0237  1.171434  1.099318  0.419775  0.316380 -0.153713  23.382784  \n",
       "2  0.0281  0.0238  1.168473  1.096035  0.421458  0.311940 -0.154246  23.158824  \n",
       "3  0.0281  0.0232  1.175411  1.111754  0.421458  0.322339 -0.172881  23.158824  \n",
       "4  0.0285  0.0238  1.174645  1.104724  0.419585  0.321375 -0.161235  23.607309  "
      ]
     },
     "execution_count": 3,
     "metadata": {},
     "output_type": "execute_result"
    }
   ],
   "source": [
    "df = jb.load(path)\n",
    "df.head()"
   ]
  },
  {
   "cell_type": "markdown",
   "metadata": {},
   "source": [
    "# Only Bands baseline"
   ]
  },
  {
   "cell_type": "code",
   "execution_count": 4,
   "metadata": {},
   "outputs": [],
   "source": [
    "only_bands_features = df[['b1', 'b2', 'b3', 'b4', 'b5', 'b6', 'b7', 'b8']]\n",
    "only_bands_target = df.z"
   ]
  },
  {
   "cell_type": "code",
   "execution_count": 5,
   "metadata": {},
   "outputs": [],
   "source": [
    "X_train, X_val, y_train, y_val = train_test_split(only_bands_features, only_bands_target, test_size=0.3, random_state=42)"
   ]
  },
  {
   "cell_type": "code",
   "execution_count": 6,
   "metadata": {},
   "outputs": [
    {
     "data": {
      "text/plain": [
       "LGBMRegressor()"
      ]
     },
     "execution_count": 6,
     "metadata": {},
     "output_type": "execute_result"
    }
   ],
   "source": [
    "rf_onlybands_baseline = RandomForestRegressor()\n",
    "lgbm_onlybands_baseline = LGBMRegressor()\n",
    "\n",
    "rf_onlybands_baseline.fit(X_train, y_train)\n",
    "lgbm_onlybands_baseline.fit(X_train, y_train)"
   ]
  },
  {
   "cell_type": "code",
   "execution_count": 7,
   "metadata": {},
   "outputs": [],
   "source": [
    "rf_onlybands_baseline = rf_onlybands_baseline.predict(X_val)\n",
    "lgbm_onlybands_baseline = lgbm_onlybands_baseline.predict(X_val)"
   ]
  },
  {
   "cell_type": "code",
   "execution_count": 8,
   "metadata": {},
   "outputs": [
    {
     "name": "stdout",
     "output_type": "stream",
     "text": [
      "RF Only Bands Metrics:\n",
      "R2 score: 0.7952936179948726\n",
      "MAE: 0.7952936179948726\n",
      "MSE: 1.37020071405047\n",
      "RMSE: 2.0384463648697277\n",
      "\n",
      "LGBM Only Bands Metrics:\n",
      "R2 score: 0.7127882613393819\n",
      "MAE: 0.7127882613393819\n",
      "MSE: 1.7833939544397204\n",
      "RMSE: 2.414541590867869\n"
     ]
    }
   ],
   "source": [
    "print('RF Only Bands Metrics:')\n",
    "print('R2 score:', r2_score(y_val, rf_onlybands_baseline))\n",
    "print('MAE:', r2_score(y_val, rf_onlybands_baseline))\n",
    "print('MSE:', mean_absolute_error(y_val, rf_onlybands_baseline))\n",
    "print('RMSE:', np.sqrt(mean_squared_error(y_val, rf_onlybands_baseline)))\n",
    "print()\n",
    "\n",
    "\n",
    "print('LGBM Only Bands Metrics:')\n",
    "print('R2 score:', r2_score(y_val, lgbm_onlybands_baseline))\n",
    "print('MAE:', r2_score(y_val, lgbm_onlybands_baseline))\n",
    "print('MSE:', mean_absolute_error(y_val, lgbm_onlybands_baseline))\n",
    "print('RMSE:', np.sqrt(mean_squared_error(y_val, lgbm_onlybands_baseline)))"
   ]
  },
  {
   "cell_type": "code",
   "execution_count": 26,
   "metadata": {},
   "outputs": [
    {
     "data": {
      "text/plain": [
       "['../data/models/lgbm_onlybands_baseline.pkl.z']"
      ]
     },
     "execution_count": 26,
     "metadata": {},
     "output_type": "execute_result"
    }
   ],
   "source": [
    "jb.dump(rf_baseline, '../data/models/rf_onlybands_baseline.pkl.z')\n",
    "jb.dump(lgbm_baseline, '../data/models/lgbm_onlybands_baseline.pkl.z')"
   ]
  },
  {
   "cell_type": "markdown",
   "metadata": {},
   "source": [
    "# Bands, NDWI, Log Ratio and CSPM"
   ]
  },
  {
   "cell_type": "code",
   "execution_count": 18,
   "metadata": {},
   "outputs": [
    {
     "data": {
      "text/plain": [
       "'\\nUsed Features:\\nbands - (1 ~ 8)\\nndwi - [(1,5), (2,4), (5,3)]\\ncspm - band 7\\nlog ration - [(b2b4), (b3,b4)]\\n'"
      ]
     },
     "execution_count": 18,
     "metadata": {},
     "output_type": "execute_result"
    }
   ],
   "source": [
    "'''\n",
    "Used Features:\n",
    "bands - (1 ~ 8)\n",
    "ndwi - [(1,5), (2,4), (5,3)]\n",
    "cspm - band 7\n",
    "log ration - [(b2b4), (b3,b4)]\n",
    "'''"
   ]
  },
  {
   "cell_type": "code",
   "execution_count": 4,
   "metadata": {},
   "outputs": [],
   "source": [
    "features = df.drop(['x','y','z'], axis=1)\n",
    "target = df.z\n",
    "\n",
    "X_train, X_val, y_train, y_val = train_test_split(features, target, test_size=0.3, random_state=42)"
   ]
  },
  {
   "cell_type": "code",
   "execution_count": 7,
   "metadata": {},
   "outputs": [
    {
     "data": {
      "text/plain": [
       "LGBMRegressor()"
      ]
     },
     "execution_count": 7,
     "metadata": {},
     "output_type": "execute_result"
    }
   ],
   "source": [
    "rf_baseline = RandomForestRegressor()\n",
    "lgbm_baseline = LGBMRegressor()\n",
    "\n",
    "rf_baseline.fit(X_train, y_train)\n",
    "lgbm_baseline.fit(X_train, y_train)"
   ]
  },
  {
   "cell_type": "code",
   "execution_count": 8,
   "metadata": {},
   "outputs": [],
   "source": [
    "rf_baseline_pred = rf_baseline.predict(X_val)\n",
    "lgbm_baseline_pred = lgbm_baseline.predict(X_val)"
   ]
  },
  {
   "cell_type": "code",
   "execution_count": 15,
   "metadata": {},
   "outputs": [
    {
     "name": "stdout",
     "output_type": "stream",
     "text": [
      "RF Metrics:\n",
      "R2 score: 0.7669557119508013\n",
      "MAE: 0.7669557119508013\n",
      "MSE: 1.4650633059889226\n",
      "RMSE: 2.174967786374046\n",
      "\n",
      "LGBM Metrics:\n",
      "R2 score: 0.7138790943384447\n",
      "MAE: 0.7138790943384447\n",
      "MSE: 1.7614190315809442\n",
      "RMSE: 2.4099520025805754\n"
     ]
    }
   ],
   "source": [
    "print('RF Metrics:')\n",
    "print('R2 score:', r2_score(y_val, rf_baseline_pred))\n",
    "print('MAE:', r2_score(y_val, rf_baseline_pred))\n",
    "print('MSE:', mean_absolute_error(y_val, rf_baseline_pred))\n",
    "print('RMSE:', np.sqrt(mean_squared_error(y_val, rf_baseline_pred)))\n",
    "print()\n",
    "\n",
    "\n",
    "print('LGBM Metrics:')\n",
    "print('R2 score:', r2_score(y_val, lgbm_baseline_pred))\n",
    "print('MAE:', r2_score(y_val, lgbm_baseline_pred))\n",
    "print('MSE:', mean_absolute_error(y_val, lgbm_baseline_pred))\n",
    "print('RMSE:', np.sqrt(mean_squared_error(y_val, lgbm_baseline_pred)))"
   ]
  },
  {
   "cell_type": "code",
   "execution_count": 17,
   "metadata": {},
   "outputs": [
    {
     "data": {
      "text/plain": [
       "['../data/models/lgbm_baseline.pkl.z']"
      ]
     },
     "execution_count": 17,
     "metadata": {},
     "output_type": "execute_result"
    }
   ],
   "source": [
    "jb.dump(rf_baseline, '../data/models/rf_baseline.pkl.z')\n",
    "jb.dump(lgbm_baseline, '../data/models/lgbm_baseline.pkl.z')"
   ]
  }
 ],
 "metadata": {
  "kernelspec": {
   "display_name": "Python 3",
   "language": "python",
   "name": "python3"
  },
  "language_info": {
   "codemirror_mode": {
    "name": "ipython",
    "version": 3
   },
   "file_extension": ".py",
   "mimetype": "text/x-python",
   "name": "python",
   "nbconvert_exporter": "python",
   "pygments_lexer": "ipython3",
   "version": "3.8.5"
  }
 },
 "nbformat": 4,
 "nbformat_minor": 4
}
