{
 "cells": [
  {
   "cell_type": "code",
   "execution_count": 1,
   "metadata": {},
   "outputs": [],
   "source": [
    "import pandas as pd\n",
    "import numpy as np\n",
    "import joblib as jb\n",
    "from sklearn.model_selection import train_test_split\n",
    "from sklearn.ensemble import RandomForestRegressor\n",
    "from lightgbm import LGBMRegressor\n",
    "from sklearn.metrics import r2_score, mean_absolute_error, mean_squared_error\n",
    "from sklearn.preprocessing import StandardScaler\n",
    "import matplotlib.pyplot as plt\n",
    "from satellite_bathymetry.preprocessing import get_coord_from_pixel_pos, get_pixel_from_coord, ndwi, pixel_ndwi, pixel_log_ratio"
   ]
  },
  {
   "cell_type": "code",
   "execution_count": 409,
   "metadata": {},
   "outputs": [
    {
     "data": {
      "text/html": [
       "<div>\n",
       "<style scoped>\n",
       "    .dataframe tbody tr th:only-of-type {\n",
       "        vertical-align: middle;\n",
       "    }\n",
       "\n",
       "    .dataframe tbody tr th {\n",
       "        vertical-align: top;\n",
       "    }\n",
       "\n",
       "    .dataframe thead th {\n",
       "        text-align: right;\n",
       "    }\n",
       "</style>\n",
       "<table border=\"1\" class=\"dataframe\">\n",
       "  <thead>\n",
       "    <tr style=\"text-align: right;\">\n",
       "      <th></th>\n",
       "      <th>x</th>\n",
       "      <th>y</th>\n",
       "      <th>z</th>\n",
       "      <th>b1</th>\n",
       "      <th>b2</th>\n",
       "      <th>b3</th>\n",
       "      <th>b4</th>\n",
       "      <th>b5</th>\n",
       "      <th>b6</th>\n",
       "      <th>b7</th>\n",
       "      <th>b8</th>\n",
       "      <th>b2b4</th>\n",
       "      <th>b3b4</th>\n",
       "      <th>ndwi15</th>\n",
       "      <th>ndwi24</th>\n",
       "      <th>ndwi53</th>\n",
       "      <th>cspmb7</th>\n",
       "      <th>ndwi51</th>\n",
       "    </tr>\n",
       "  </thead>\n",
       "  <tbody>\n",
       "    <tr>\n",
       "      <th>0</th>\n",
       "      <td>233</td>\n",
       "      <td>1130</td>\n",
       "      <td>3.195862</td>\n",
       "      <td>0.1199</td>\n",
       "      <td>0.0866</td>\n",
       "      <td>0.0667</td>\n",
       "      <td>0.0464</td>\n",
       "      <td>0.0490</td>\n",
       "      <td>0.0316</td>\n",
       "      <td>0.0283</td>\n",
       "      <td>0.0238</td>\n",
       "      <td>1.162614</td>\n",
       "      <td>1.094573</td>\n",
       "      <td>0.419775</td>\n",
       "      <td>0.302256</td>\n",
       "      <td>-0.152982</td>\n",
       "      <td>23.382784</td>\n",
       "      <td>-0.419775</td>\n",
       "    </tr>\n",
       "    <tr>\n",
       "      <th>1</th>\n",
       "      <td>233</td>\n",
       "      <td>1131</td>\n",
       "      <td>3.273030</td>\n",
       "      <td>0.1199</td>\n",
       "      <td>0.0880</td>\n",
       "      <td>0.0668</td>\n",
       "      <td>0.0457</td>\n",
       "      <td>0.0490</td>\n",
       "      <td>0.0316</td>\n",
       "      <td>0.0283</td>\n",
       "      <td>0.0237</td>\n",
       "      <td>1.171434</td>\n",
       "      <td>1.099318</td>\n",
       "      <td>0.419775</td>\n",
       "      <td>0.316380</td>\n",
       "      <td>-0.153713</td>\n",
       "      <td>23.382784</td>\n",
       "      <td>-0.419775</td>\n",
       "    </tr>\n",
       "    <tr>\n",
       "      <th>2</th>\n",
       "      <td>233</td>\n",
       "      <td>1132</td>\n",
       "      <td>3.299687</td>\n",
       "      <td>0.1199</td>\n",
       "      <td>0.0879</td>\n",
       "      <td>0.0666</td>\n",
       "      <td>0.0461</td>\n",
       "      <td>0.0488</td>\n",
       "      <td>0.0324</td>\n",
       "      <td>0.0281</td>\n",
       "      <td>0.0238</td>\n",
       "      <td>1.168473</td>\n",
       "      <td>1.096035</td>\n",
       "      <td>0.421458</td>\n",
       "      <td>0.311940</td>\n",
       "      <td>-0.154246</td>\n",
       "      <td>23.158824</td>\n",
       "      <td>-0.421458</td>\n",
       "    </tr>\n",
       "    <tr>\n",
       "      <th>3</th>\n",
       "      <td>233</td>\n",
       "      <td>1133</td>\n",
       "      <td>3.268182</td>\n",
       "      <td>0.1199</td>\n",
       "      <td>0.0882</td>\n",
       "      <td>0.0692</td>\n",
       "      <td>0.0452</td>\n",
       "      <td>0.0488</td>\n",
       "      <td>0.0324</td>\n",
       "      <td>0.0281</td>\n",
       "      <td>0.0232</td>\n",
       "      <td>1.175411</td>\n",
       "      <td>1.111754</td>\n",
       "      <td>0.421458</td>\n",
       "      <td>0.322339</td>\n",
       "      <td>-0.172881</td>\n",
       "      <td>23.158824</td>\n",
       "      <td>-0.421458</td>\n",
       "    </tr>\n",
       "    <tr>\n",
       "      <th>4</th>\n",
       "      <td>233</td>\n",
       "      <td>1134</td>\n",
       "      <td>3.278125</td>\n",
       "      <td>0.1196</td>\n",
       "      <td>0.0884</td>\n",
       "      <td>0.0677</td>\n",
       "      <td>0.0454</td>\n",
       "      <td>0.0489</td>\n",
       "      <td>0.0323</td>\n",
       "      <td>0.0285</td>\n",
       "      <td>0.0238</td>\n",
       "      <td>1.174645</td>\n",
       "      <td>1.104724</td>\n",
       "      <td>0.419585</td>\n",
       "      <td>0.321375</td>\n",
       "      <td>-0.161235</td>\n",
       "      <td>23.607309</td>\n",
       "      <td>-0.419585</td>\n",
       "    </tr>\n",
       "  </tbody>\n",
       "</table>\n",
       "</div>"
      ],
      "text/plain": [
       "     x     y         z      b1      b2      b3      b4      b5      b6  \\\n",
       "0  233  1130  3.195862  0.1199  0.0866  0.0667  0.0464  0.0490  0.0316   \n",
       "1  233  1131  3.273030  0.1199  0.0880  0.0668  0.0457  0.0490  0.0316   \n",
       "2  233  1132  3.299687  0.1199  0.0879  0.0666  0.0461  0.0488  0.0324   \n",
       "3  233  1133  3.268182  0.1199  0.0882  0.0692  0.0452  0.0488  0.0324   \n",
       "4  233  1134  3.278125  0.1196  0.0884  0.0677  0.0454  0.0489  0.0323   \n",
       "\n",
       "       b7      b8      b2b4      b3b4    ndwi15    ndwi24    ndwi53  \\\n",
       "0  0.0283  0.0238  1.162614  1.094573  0.419775  0.302256 -0.152982   \n",
       "1  0.0283  0.0237  1.171434  1.099318  0.419775  0.316380 -0.153713   \n",
       "2  0.0281  0.0238  1.168473  1.096035  0.421458  0.311940 -0.154246   \n",
       "3  0.0281  0.0232  1.175411  1.111754  0.421458  0.322339 -0.172881   \n",
       "4  0.0285  0.0238  1.174645  1.104724  0.419585  0.321375 -0.161235   \n",
       "\n",
       "      cspmb7    ndwi51  \n",
       "0  23.382784 -0.419775  \n",
       "1  23.382784 -0.419775  \n",
       "2  23.158824 -0.421458  \n",
       "3  23.158824 -0.421458  \n",
       "4  23.607309 -0.419585  "
      ]
     },
     "execution_count": 409,
     "metadata": {},
     "output_type": "execute_result"
    }
   ],
   "source": [
    "#path = '../data/generated/df_newimages_bands_downside.pkl.z'\n",
    "path = '../data/generated/df_newimages_bands_downside_low_var_filter.pkl.z'\n",
    "df = jb.load(path)\n",
    "df['ndwi51'] =  df[['b5', 'b1']].apply(lambda x: pixel_ndwi(x.b5, x.b1), axis=1)\n",
    "df.head()"
   ]
  },
  {
   "cell_type": "code",
   "execution_count": 410,
   "metadata": {},
   "outputs": [],
   "source": [
    "# Select only few bands\n",
    "columns = ['b1', 'b5', 'b6', 'cspmb7']\n",
    "X_train, X_val, y_train, y_val = train_test_split(df[columns], df.z, test_size=0.3, random_state=42)"
   ]
  },
  {
   "cell_type": "code",
   "execution_count": 411,
   "metadata": {},
   "outputs": [
    {
     "data": {
      "text/plain": [
       "(12778, 5477)"
      ]
     },
     "execution_count": 411,
     "metadata": {},
     "output_type": "execute_result"
    }
   ],
   "source": [
    "len(X_train), len(X_val)"
   ]
  },
  {
   "cell_type": "code",
   "execution_count": 412,
   "metadata": {},
   "outputs": [],
   "source": [
    "# Apply standard scaler - mean = 0, std/var = 1\n",
    "scaler = StandardScaler()"
   ]
  },
  {
   "cell_type": "code",
   "execution_count": 413,
   "metadata": {},
   "outputs": [],
   "source": [
    "train = scaler.fit_transform(X_train)\n",
    "val = scaler.transform(X_val)"
   ]
  },
  {
   "cell_type": "code",
   "execution_count": 414,
   "metadata": {},
   "outputs": [
    {
     "data": {
      "text/plain": [
       "RandomForestRegressor()"
      ]
     },
     "execution_count": 414,
     "metadata": {},
     "output_type": "execute_result"
    }
   ],
   "source": [
    "rf = RandomForestRegressor()\n",
    "#rf = RandomForestRegressor()\n",
    "rf.fit(train, y_train)"
   ]
  },
  {
   "cell_type": "code",
   "execution_count": 415,
   "metadata": {},
   "outputs": [
    {
     "name": "stdout",
     "output_type": "stream",
     "text": [
      "0.8638616902247929\n",
      "0.9790520485009034\n"
     ]
    }
   ],
   "source": [
    "prf = rf.predict(val)\n",
    "print(r2_score(y_val, prf))\n",
    "print(mean_absolute_error(y_val, prf))"
   ]
  },
  {
   "cell_type": "code",
   "execution_count": 417,
   "metadata": {},
   "outputs": [
    {
     "data": {
      "text/plain": [
       "['../data/generated_baseline/standard_scaler/random_forest.pkl.z']"
      ]
     },
     "execution_count": 417,
     "metadata": {},
     "output_type": "execute_result"
    }
   ],
   "source": [
    "jb.dump(rf, '../data/generated_baseline/standard_scaler/random_forest.pkl.z')"
   ]
  }
 ],
 "metadata": {
  "kernelspec": {
   "display_name": "Python 3",
   "language": "python",
   "name": "python3"
  },
  "language_info": {
   "codemirror_mode": {
    "name": "ipython",
    "version": 3
   },
   "file_extension": ".py",
   "mimetype": "text/x-python",
   "name": "python",
   "nbconvert_exporter": "python",
   "pygments_lexer": "ipython3",
   "version": "3.8.5"
  }
 },
 "nbformat": 4,
 "nbformat_minor": 4
}
