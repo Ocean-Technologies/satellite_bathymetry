{
 "cells": [
  {
   "cell_type": "code",
   "execution_count": 25,
   "metadata": {},
   "outputs": [],
   "source": [
    "import pandas as pd\n",
    "import numpy as np\n",
    "import joblib as jb\n",
    "import tifffile\n",
    "from pathlib import Path\n",
    "from glob import glob\n",
    "import matplotlib.pyplot as plt\n",
    "from satellite_bathymetry.preprocessing import get_coord_from_pixel_pos, get_pixel_from_coord, ndwi, pixel_ndwi, pixel_log_division\n"
   ]
  },
  {
   "cell_type": "code",
   "execution_count": 2,
   "metadata": {},
   "outputs": [],
   "source": [
    "path_data = '../data/bands'"
   ]
  },
  {
   "cell_type": "code",
   "execution_count": 3,
   "metadata": {},
   "outputs": [],
   "source": [
    "bands_list = [e for e in glob(str(path_data)+'/*')]\n",
    "bands_list.sort()"
   ]
  },
  {
   "cell_type": "code",
   "execution_count": 4,
   "metadata": {},
   "outputs": [],
   "source": [
    "bands_dict = {}\n",
    "for i, e in enumerate(bands_list):\n",
    "    bands_dict[f'b{i}'] = tifffile.TiffFile(e)"
   ]
  },
  {
   "cell_type": "code",
   "execution_count": 13,
   "metadata": {},
   "outputs": [],
   "source": [
    "aux_dict = dict()\n",
    "for page in bands_dict['b1'].pages:\n",
    "    for tag in page.tags.values():\n",
    "        aux_dict[tag.name] = tag.value\n",
    "\n",
    "scale_x = aux_dict['ModelTransformationTag'][0]\n",
    "scale_y = aux_dict['ModelTransformationTag'][5]\n",
    "start_value_x = aux_dict['ModelTransformationTag'][3]\n",
    "start_value_y = aux_dict['ModelTransformationTag'][7]"
   ]
  },
  {
   "cell_type": "code",
   "execution_count": 5,
   "metadata": {},
   "outputs": [],
   "source": [
    "bands_arrays_dict = {}\n",
    "for k, v in bands_dict.items():\n",
    "    bands_arrays_dict[k] = v.asarray()"
   ]
  },
  {
   "cell_type": "code",
   "execution_count": 6,
   "metadata": {},
   "outputs": [
    {
     "data": {
      "text/html": [
       "<div>\n",
       "<style scoped>\n",
       "    .dataframe tbody tr th:only-of-type {\n",
       "        vertical-align: middle;\n",
       "    }\n",
       "\n",
       "    .dataframe tbody tr th {\n",
       "        vertical-align: top;\n",
       "    }\n",
       "\n",
       "    .dataframe thead th {\n",
       "        text-align: right;\n",
       "    }\n",
       "</style>\n",
       "<table border=\"1\" class=\"dataframe\">\n",
       "  <thead>\n",
       "    <tr style=\"text-align: right;\">\n",
       "      <th></th>\n",
       "      <th>x</th>\n",
       "      <th>y</th>\n",
       "      <th>z</th>\n",
       "    </tr>\n",
       "  </thead>\n",
       "  <tbody>\n",
       "    <tr>\n",
       "      <th>0</th>\n",
       "      <td>720408.27</td>\n",
       "      <td>7089919.29</td>\n",
       "      <td>2.18</td>\n",
       "    </tr>\n",
       "    <tr>\n",
       "      <th>1</th>\n",
       "      <td>720408.40</td>\n",
       "      <td>7089919.18</td>\n",
       "      <td>2.27</td>\n",
       "    </tr>\n",
       "    <tr>\n",
       "      <th>2</th>\n",
       "      <td>720408.53</td>\n",
       "      <td>7089919.09</td>\n",
       "      <td>2.10</td>\n",
       "    </tr>\n",
       "  </tbody>\n",
       "</table>\n",
       "</div>"
      ],
      "text/plain": [
       "           x           y     z\n",
       "0  720408.27  7089919.29  2.18\n",
       "1  720408.40  7089919.18  2.27\n",
       "2  720408.53  7089919.09  2.10"
      ]
     },
     "execution_count": 6,
     "metadata": {},
     "output_type": "execute_result"
    }
   ],
   "source": [
    "bat_path = Path('../data/bathymetry/BATIMETRIA_BRUTA_BABITONGA_2018_WGS84_UTM22S.xyz')\n",
    "df_bat_data = pd.read_csv(bat_path, sep=' ', header=None)\n",
    "df_bat_data.columns = ['x', 'y', 'z']\n",
    "df_bat_data.head(3)"
   ]
  },
  {
   "cell_type": "code",
   "execution_count": 8,
   "metadata": {},
   "outputs": [
    {
     "data": {
      "text/html": [
       "<div>\n",
       "<style scoped>\n",
       "    .dataframe tbody tr th:only-of-type {\n",
       "        vertical-align: middle;\n",
       "    }\n",
       "\n",
       "    .dataframe tbody tr th {\n",
       "        vertical-align: top;\n",
       "    }\n",
       "\n",
       "    .dataframe thead th {\n",
       "        text-align: right;\n",
       "    }\n",
       "</style>\n",
       "<table border=\"1\" class=\"dataframe\">\n",
       "  <thead>\n",
       "    <tr style=\"text-align: right;\">\n",
       "      <th></th>\n",
       "      <th>x</th>\n",
       "      <th>y</th>\n",
       "      <th>z</th>\n",
       "    </tr>\n",
       "  </thead>\n",
       "  <tbody>\n",
       "    <tr>\n",
       "      <th>count</th>\n",
       "      <td>581619.000000</td>\n",
       "      <td>5.816190e+05</td>\n",
       "      <td>581619.000000</td>\n",
       "    </tr>\n",
       "    <tr>\n",
       "      <th>mean</th>\n",
       "      <td>730353.079262</td>\n",
       "      <td>7.095487e+06</td>\n",
       "      <td>7.461060</td>\n",
       "    </tr>\n",
       "    <tr>\n",
       "      <th>std</th>\n",
       "      <td>6325.838789</td>\n",
       "      <td>5.302925e+03</td>\n",
       "      <td>5.112899</td>\n",
       "    </tr>\n",
       "    <tr>\n",
       "      <th>min</th>\n",
       "      <td>720406.770000</td>\n",
       "      <td>7.083637e+06</td>\n",
       "      <td>0.080000</td>\n",
       "    </tr>\n",
       "    <tr>\n",
       "      <th>25%</th>\n",
       "      <td>725090.790000</td>\n",
       "      <td>7.091240e+06</td>\n",
       "      <td>3.400000</td>\n",
       "    </tr>\n",
       "    <tr>\n",
       "      <th>50%</th>\n",
       "      <td>728817.860000</td>\n",
       "      <td>7.095258e+06</td>\n",
       "      <td>6.280000</td>\n",
       "    </tr>\n",
       "    <tr>\n",
       "      <th>75%</th>\n",
       "      <td>735569.550000</td>\n",
       "      <td>7.099812e+06</td>\n",
       "      <td>10.120000</td>\n",
       "    </tr>\n",
       "    <tr>\n",
       "      <th>max</th>\n",
       "      <td>743484.100000</td>\n",
       "      <td>7.107470e+06</td>\n",
       "      <td>29.100000</td>\n",
       "    </tr>\n",
       "  </tbody>\n",
       "</table>\n",
       "</div>"
      ],
      "text/plain": [
       "                   x             y              z\n",
       "count  581619.000000  5.816190e+05  581619.000000\n",
       "mean   730353.079262  7.095487e+06       7.461060\n",
       "std      6325.838789  5.302925e+03       5.112899\n",
       "min    720406.770000  7.083637e+06       0.080000\n",
       "25%    725090.790000  7.091240e+06       3.400000\n",
       "50%    728817.860000  7.095258e+06       6.280000\n",
       "75%    735569.550000  7.099812e+06      10.120000\n",
       "max    743484.100000  7.107470e+06      29.100000"
      ]
     },
     "execution_count": 8,
     "metadata": {},
     "output_type": "execute_result"
    }
   ],
   "source": [
    "df_bat_data.describe()"
   ]
  },
  {
   "cell_type": "code",
   "execution_count": 9,
   "metadata": {},
   "outputs": [
    {
     "data": {
      "text/plain": [
       "<Figure size 864x432 with 0 Axes>"
      ]
     },
     "metadata": {},
     "output_type": "display_data"
    },
    {
     "data": {
      "image/png": "[encoded data removed]",
      "text/plain": [
       "<Figure size 864x432 with 1 Axes>"
      ]
     },
     "metadata": {
      "needs_background": "light"
     },
     "output_type": "display_data"
    }
   ],
   "source": [
    "plt.figure(figsize=(12,6))\n",
    "fig, axs = plt.subplots(ncols=1, figsize=(12, 6))\n",
    "_ = axs.hist(df_bat_data.z, bins=20, color='#A9C5D3', edgecolor='black')"
   ]
  },
  {
   "cell_type": "code",
   "execution_count": 10,
   "metadata": {},
   "outputs": [
    {
     "data": {
      "text/plain": [
       "1.2061730946870155"
      ]
     },
     "execution_count": 10,
     "metadata": {},
     "output_type": "execute_result"
    }
   ],
   "source": [
    "df_bat_data.z.skew()"
   ]
  },
  {
   "cell_type": "code",
   "execution_count": 11,
   "metadata": {},
   "outputs": [
    {
     "data": {
      "text/plain": [
       "-0.11449096652832617"
      ]
     },
     "execution_count": 11,
     "metadata": {},
     "output_type": "execute_result"
    }
   ],
   "source": [
    "np.log(df_bat_data.z).skew()"
   ]
  },
  {
   "cell_type": "code",
   "execution_count": 14,
   "metadata": {},
   "outputs": [],
   "source": [
    "df_pixel_coord_bat_data = pd.DataFrame()\n",
    "\n",
    "px = list()\n",
    "py = list()\n",
    "zlist = list()\n",
    "    \n",
    "for i, row in enumerate(df_bat_data.itertuples()):\n",
    "    x = row[1]\n",
    "    y = row[2]\n",
    "    z = row[3]\n",
    "    pixel = get_pixel_from_coord(x, y, scale_x, scale_y, start_value_x, start_value_y)\n",
    "    px.append(pixel[0])\n",
    "    py.append(pixel[1])\n",
    "    zlist.append(z)\n",
    "\n",
    "df_pixel_coord_bat_data['x'] = px\n",
    "df_pixel_coord_bat_data['y'] = py\n",
    "df_pixel_coord_bat_data['z'] = zlist"
   ]
  },
  {
   "cell_type": "code",
   "execution_count": 15,
   "metadata": {},
   "outputs": [],
   "source": [
    "df_pixel_coord_bat_data = df_pixel_coord_bat_data[df_pixel_coord_bat_data.y > 0 ]"
   ]
  },
  {
   "cell_type": "code",
   "execution_count": 19,
   "metadata": {},
   "outputs": [],
   "source": [
    "df_pixel_coord_bat_data_mean = df_pixel_coord_bat_data.groupby(['x', 'y']).mean()\n",
    "df_pixel_coord_bat_data_mean.reset_index(inplace=True)"
   ]
  },
  {
   "cell_type": "code",
   "execution_count": 20,
   "metadata": {},
   "outputs": [],
   "source": [
    "for k, v in bands_arrays_dict.items():\n",
    "    aux = list()\n",
    "    for i, row in enumerate(df_pixel_coord_bat_data_mean.itertuples()):\n",
    "        px = row[1]\n",
    "        py = row[2]\n",
    "        aux.append(v[py][px])\n",
    "    df_pixel_coord_bat_data_mean[k] = aux"
   ]
  },
  {
   "cell_type": "code",
   "execution_count": 21,
   "metadata": {},
   "outputs": [
    {
     "data": {
      "text/html": [
       "<div>\n",
       "<style scoped>\n",
       "    .dataframe tbody tr th:only-of-type {\n",
       "        vertical-align: middle;\n",
       "    }\n",
       "\n",
       "    .dataframe tbody tr th {\n",
       "        vertical-align: top;\n",
       "    }\n",
       "\n",
       "    .dataframe thead th {\n",
       "        text-align: right;\n",
       "    }\n",
       "</style>\n",
       "<table border=\"1\" class=\"dataframe\">\n",
       "  <thead>\n",
       "    <tr style=\"text-align: right;\">\n",
       "      <th></th>\n",
       "      <th>x</th>\n",
       "      <th>y</th>\n",
       "      <th>z</th>\n",
       "      <th>b0</th>\n",
       "      <th>b1</th>\n",
       "      <th>b2</th>\n",
       "      <th>b3</th>\n",
       "      <th>b4</th>\n",
       "      <th>b5</th>\n",
       "      <th>b6</th>\n",
       "      <th>b7</th>\n",
       "    </tr>\n",
       "  </thead>\n",
       "  <tbody>\n",
       "    <tr>\n",
       "      <th>0</th>\n",
       "      <td>226</td>\n",
       "      <td>1010</td>\n",
       "      <td>2.117692</td>\n",
       "      <td>0.1225</td>\n",
       "      <td>0.0919</td>\n",
       "      <td>0.0721</td>\n",
       "      <td>0.0516</td>\n",
       "      <td>0.0528</td>\n",
       "      <td>0.0337</td>\n",
       "      <td>0.0311</td>\n",
       "      <td>0.0256</td>\n",
       "    </tr>\n",
       "    <tr>\n",
       "      <th>1</th>\n",
       "      <td>227</td>\n",
       "      <td>1010</td>\n",
       "      <td>2.096500</td>\n",
       "      <td>0.1225</td>\n",
       "      <td>0.0920</td>\n",
       "      <td>0.0712</td>\n",
       "      <td>0.0512</td>\n",
       "      <td>0.0528</td>\n",
       "      <td>0.0337</td>\n",
       "      <td>0.0311</td>\n",
       "      <td>0.0255</td>\n",
       "    </tr>\n",
       "  </tbody>\n",
       "</table>\n",
       "</div>"
      ],
      "text/plain": [
       "     x     y         z      b0      b1      b2      b3      b4      b5  \\\n",
       "0  226  1010  2.117692  0.1225  0.0919  0.0721  0.0516  0.0528  0.0337   \n",
       "1  227  1010  2.096500  0.1225  0.0920  0.0712  0.0512  0.0528  0.0337   \n",
       "\n",
       "       b6      b7  \n",
       "0  0.0311  0.0256  \n",
       "1  0.0311  0.0255  "
      ]
     },
     "execution_count": 21,
     "metadata": {},
     "output_type": "execute_result"
    }
   ],
   "source": [
    "df_pixel_coord_bat_data_mean.head(2)"
   ]
  },
  {
   "cell_type": "code",
   "execution_count": 22,
   "metadata": {},
   "outputs": [],
   "source": [
    "df = df_pixel_coord_bat_data_mean.copy()"
   ]
  },
  {
   "cell_type": "code",
   "execution_count": 23,
   "metadata": {},
   "outputs": [
    {
     "data": {
      "text/html": [
       "<div>\n",
       "<style scoped>\n",
       "    .dataframe tbody tr th:only-of-type {\n",
       "        vertical-align: middle;\n",
       "    }\n",
       "\n",
       "    .dataframe tbody tr th {\n",
       "        vertical-align: top;\n",
       "    }\n",
       "\n",
       "    .dataframe thead th {\n",
       "        text-align: right;\n",
       "    }\n",
       "</style>\n",
       "<table border=\"1\" class=\"dataframe\">\n",
       "  <thead>\n",
       "    <tr style=\"text-align: right;\">\n",
       "      <th></th>\n",
       "      <th>x</th>\n",
       "      <th>y</th>\n",
       "      <th>z</th>\n",
       "      <th>b0</th>\n",
       "      <th>b1</th>\n",
       "      <th>b2</th>\n",
       "      <th>b3</th>\n",
       "      <th>b4</th>\n",
       "      <th>b5</th>\n",
       "      <th>b6</th>\n",
       "      <th>b7</th>\n",
       "      <th>b2b4</th>\n",
       "      <th>b3b4</th>\n",
       "      <th>ndwi15</th>\n",
       "      <th>ndwi24</th>\n",
       "      <th>ndwi53</th>\n",
       "    </tr>\n",
       "  </thead>\n",
       "  <tbody>\n",
       "    <tr>\n",
       "      <th>0</th>\n",
       "      <td>226</td>\n",
       "      <td>1010</td>\n",
       "      <td>2.117692</td>\n",
       "      <td>0.1225</td>\n",
       "      <td>0.0919</td>\n",
       "      <td>0.0721</td>\n",
       "      <td>0.0516</td>\n",
       "      <td>0.0528</td>\n",
       "      <td>0.0337</td>\n",
       "      <td>0.0311</td>\n",
       "      <td>0.0256</td>\n",
       "      <td>1.078543</td>\n",
       "      <td>0.994204</td>\n",
       "      <td>0.463376</td>\n",
       "      <td>0.154524</td>\n",
       "      <td>-0.209848</td>\n",
       "    </tr>\n",
       "    <tr>\n",
       "      <th>1</th>\n",
       "      <td>227</td>\n",
       "      <td>1010</td>\n",
       "      <td>2.096500</td>\n",
       "      <td>0.1225</td>\n",
       "      <td>0.0920</td>\n",
       "      <td>0.0712</td>\n",
       "      <td>0.0512</td>\n",
       "      <td>0.0528</td>\n",
       "      <td>0.0337</td>\n",
       "      <td>0.0311</td>\n",
       "      <td>0.0255</td>\n",
       "      <td>1.075376</td>\n",
       "      <td>0.992242</td>\n",
       "      <td>0.463803</td>\n",
       "      <td>0.148387</td>\n",
       "      <td>-0.206125</td>\n",
       "    </tr>\n",
       "    <tr>\n",
       "      <th>2</th>\n",
       "      <td>228</td>\n",
       "      <td>1010</td>\n",
       "      <td>2.197059</td>\n",
       "      <td>0.1221</td>\n",
       "      <td>0.0917</td>\n",
       "      <td>0.0720</td>\n",
       "      <td>0.0508</td>\n",
       "      <td>0.0531</td>\n",
       "      <td>0.0332</td>\n",
       "      <td>0.0323</td>\n",
       "      <td>0.0255</td>\n",
       "      <td>1.076655</td>\n",
       "      <td>0.988852</td>\n",
       "      <td>0.468375</td>\n",
       "      <td>0.151079</td>\n",
       "      <td>-0.209524</td>\n",
       "    </tr>\n",
       "    <tr>\n",
       "      <th>3</th>\n",
       "      <td>229</td>\n",
       "      <td>1010</td>\n",
       "      <td>2.268750</td>\n",
       "      <td>0.1221</td>\n",
       "      <td>0.0915</td>\n",
       "      <td>0.0726</td>\n",
       "      <td>0.0505</td>\n",
       "      <td>0.0531</td>\n",
       "      <td>0.0332</td>\n",
       "      <td>0.0323</td>\n",
       "      <td>0.0256</td>\n",
       "      <td>1.078745</td>\n",
       "      <td>0.987361</td>\n",
       "      <td>0.467522</td>\n",
       "      <td>0.155131</td>\n",
       "      <td>-0.206691</td>\n",
       "    </tr>\n",
       "    <tr>\n",
       "      <th>4</th>\n",
       "      <td>229</td>\n",
       "      <td>1011</td>\n",
       "      <td>2.278235</td>\n",
       "      <td>0.1221</td>\n",
       "      <td>0.0909</td>\n",
       "      <td>0.0726</td>\n",
       "      <td>0.0517</td>\n",
       "      <td>0.0531</td>\n",
       "      <td>0.0332</td>\n",
       "      <td>0.0323</td>\n",
       "      <td>0.0255</td>\n",
       "      <td>1.078745</td>\n",
       "      <td>0.993273</td>\n",
       "      <td>0.464948</td>\n",
       "      <td>0.155131</td>\n",
       "      <td>-0.217903</td>\n",
       "    </tr>\n",
       "  </tbody>\n",
       "</table>\n",
       "</div>"
      ],
      "text/plain": [
       "     x     y         z      b0      b1      b2      b3      b4      b5  \\\n",
       "0  226  1010  2.117692  0.1225  0.0919  0.0721  0.0516  0.0528  0.0337   \n",
       "1  227  1010  2.096500  0.1225  0.0920  0.0712  0.0512  0.0528  0.0337   \n",
       "2  228  1010  2.197059  0.1221  0.0917  0.0720  0.0508  0.0531  0.0332   \n",
       "3  229  1010  2.268750  0.1221  0.0915  0.0726  0.0505  0.0531  0.0332   \n",
       "4  229  1011  2.278235  0.1221  0.0909  0.0726  0.0517  0.0531  0.0332   \n",
       "\n",
       "       b6      b7      b2b4      b3b4    ndwi15    ndwi24    ndwi53  \n",
       "0  0.0311  0.0256  1.078543  0.994204  0.463376  0.154524 -0.209848  \n",
       "1  0.0311  0.0255  1.075376  0.992242  0.463803  0.148387 -0.206125  \n",
       "2  0.0323  0.0255  1.076655  0.988852  0.468375  0.151079 -0.209524  \n",
       "3  0.0323  0.0256  1.078745  0.987361  0.467522  0.155131 -0.206691  \n",
       "4  0.0323  0.0255  1.078745  0.993273  0.464948  0.155131 -0.217903  "
      ]
     },
     "execution_count": 23,
     "metadata": {},
     "output_type": "execute_result"
    }
   ],
   "source": [
    "df['b2b4'] = df[['b2', 'b4']].apply(lambda x: pixel_log_division(x.b2, x.b4), axis=1)\n",
    "df['b3b4'] = df[['b3', 'b4']].apply(lambda x: pixel_log_division(x.b3, x.b4), axis=1)\n",
    "df['ndwi15'] = df[['b1', 'b5']].apply(lambda x: pixel_ndwi(x.b1, x.b5), axis=1)\n",
    "df['ndwi24'] = df[['b2', 'b4']].apply(lambda x: pixel_ndwi(x.b2, x.b4), axis=1)\n",
    "df['ndwi53'] = df[['b5', 'b3']].apply(lambda x: pixel_ndwi(x.b5, x.b3), axis=1)\n",
    "df.head()"
   ]
  },
  {
   "cell_type": "code",
   "execution_count": 24,
   "metadata": {},
   "outputs": [
    {
     "data": {
      "text/plain": [
       "['../data/generated/df_newimages_bands_downside.pkl.z']"
      ]
     },
     "execution_count": 24,
     "metadata": {},
     "output_type": "execute_result"
    }
   ],
   "source": [
    "jb.dump(df, '../data/generated/df_newimages_bands_downside.pkl.z')"
   ]
  }
 ],
 "metadata": {
  "kernelspec": {
   "display_name": "Python 3",
   "language": "python",
   "name": "python3"
  },
  "language_info": {
   "codemirror_mode": {
    "name": "ipython",
    "version": 3
   },
   "file_extension": ".py",
   "mimetype": "text/x-python",
   "name": "python",
   "nbconvert_exporter": "python",
   "pygments_lexer": "ipython3",
   "version": "3.8.5"
  }
 },
 "nbformat": 4,
 "nbformat_minor": 4
}
