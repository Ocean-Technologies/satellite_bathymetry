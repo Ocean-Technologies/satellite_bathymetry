{
 "cells": [
  {
   "cell_type": "code",
   "execution_count": 24,
   "metadata": {},
   "outputs": [],
   "source": [
    "import pandas as pd\n",
    "import numpy as np\n",
    "import joblib as jb\n",
    "import tifffile\n",
    "from pathlib import Path\n",
    "from glob import glob\n",
    "import matplotlib.pyplot as plt\n",
    "from satellite_bathymetry.preprocessing import get_coord_from_pixel_pos, get_pixel_from_coord, ndwi, pixel_ndwi, pixel_log_ratio\n",
    "import cv2"
   ]
  },
  {
   "cell_type": "code",
   "execution_count": 25,
   "metadata": {},
   "outputs": [],
   "source": [
    "path_data = '../data/bands'"
   ]
  },
  {
   "cell_type": "code",
   "execution_count": 26,
   "metadata": {},
   "outputs": [],
   "source": [
    "bands_list = [e for e in glob(str(path_data)+'/*')]\n",
    "bands_list.sort()"
   ]
  },
  {
   "cell_type": "code",
   "execution_count": 27,
   "metadata": {},
   "outputs": [],
   "source": [
    "bands_dict = {}\n",
    "for i, e in enumerate(bands_list):\n",
    "    bands_dict[f'b{i+1}'] = tifffile.TiffFile(e)"
   ]
  },
  {
   "cell_type": "code",
   "execution_count": 28,
   "metadata": {},
   "outputs": [],
   "source": [
    "aux_dict = dict()\n",
    "for page in bands_dict['b1'].pages:\n",
    "    for tag in page.tags.values():\n",
    "        aux_dict[tag.name] = tag.value\n",
    "\n",
    "scale_x = aux_dict['ModelTransformationTag'][0]\n",
    "scale_y = aux_dict['ModelTransformationTag'][5]\n",
    "start_value_x = aux_dict['ModelTransformationTag'][3]\n",
    "start_value_y = aux_dict['ModelTransformationTag'][7]"
   ]
  },
  {
   "cell_type": "code",
   "execution_count": 29,
   "metadata": {},
   "outputs": [],
   "source": [
    "bands_arrays_dict = {}\n",
    "for k, v in bands_dict.items():\n",
    "    bands_arrays_dict[k] = v.asarray()"
   ]
  },
  {
   "cell_type": "code",
   "execution_count": 30,
   "metadata": {},
   "outputs": [
    {
     "data": {
      "text/html": [
       "<div>\n",
       "<style scoped>\n",
       "    .dataframe tbody tr th:only-of-type {\n",
       "        vertical-align: middle;\n",
       "    }\n",
       "\n",
       "    .dataframe tbody tr th {\n",
       "        vertical-align: top;\n",
       "    }\n",
       "\n",
       "    .dataframe thead th {\n",
       "        text-align: right;\n",
       "    }\n",
       "</style>\n",
       "<table border=\"1\" class=\"dataframe\">\n",
       "  <thead>\n",
       "    <tr style=\"text-align: right;\">\n",
       "      <th></th>\n",
       "      <th>x</th>\n",
       "      <th>y</th>\n",
       "      <th>z</th>\n",
       "    </tr>\n",
       "  </thead>\n",
       "  <tbody>\n",
       "    <tr>\n",
       "      <th>0</th>\n",
       "      <td>720507.82</td>\n",
       "      <td>7089857.17</td>\n",
       "      <td>1.96</td>\n",
       "    </tr>\n",
       "    <tr>\n",
       "      <th>1</th>\n",
       "      <td>720507.95</td>\n",
       "      <td>7089857.15</td>\n",
       "      <td>1.98</td>\n",
       "    </tr>\n",
       "    <tr>\n",
       "      <th>2</th>\n",
       "      <td>720508.07</td>\n",
       "      <td>7089857.12</td>\n",
       "      <td>1.98</td>\n",
       "    </tr>\n",
       "  </tbody>\n",
       "</table>\n",
       "</div>"
      ],
      "text/plain": [
       "           x           y     z\n",
       "0  720507.82  7089857.17  1.96\n",
       "1  720507.95  7089857.15  1.98\n",
       "2  720508.07  7089857.12  1.98"
      ]
     },
     "execution_count": 30,
     "metadata": {},
     "output_type": "execute_result"
    }
   ],
   "source": [
    "bat_path = Path('../data/bathymetry/BATIMETRIA_BRUTA_BABITONGA_2018_WGS84_UTM22S.xyz')\n",
    "df_bat_data = pd.read_csv(bat_path, sep=' ', header=None)\n",
    "df_bat_data.columns = ['x', 'y', 'z']\n",
    "df_bat_data.head(3)"
   ]
  },
  {
   "cell_type": "code",
   "execution_count": 31,
   "metadata": {},
   "outputs": [
    {
     "data": {
      "text/html": [
       "<div>\n",
       "<style scoped>\n",
       "    .dataframe tbody tr th:only-of-type {\n",
       "        vertical-align: middle;\n",
       "    }\n",
       "\n",
       "    .dataframe tbody tr th {\n",
       "        vertical-align: top;\n",
       "    }\n",
       "\n",
       "    .dataframe thead th {\n",
       "        text-align: right;\n",
       "    }\n",
       "</style>\n",
       "<table border=\"1\" class=\"dataframe\">\n",
       "  <thead>\n",
       "    <tr style=\"text-align: right;\">\n",
       "      <th></th>\n",
       "      <th>x</th>\n",
       "      <th>y</th>\n",
       "      <th>z</th>\n",
       "    </tr>\n",
       "  </thead>\n",
       "  <tbody>\n",
       "    <tr>\n",
       "      <th>count</th>\n",
       "      <td>557244.000000</td>\n",
       "      <td>5.572440e+05</td>\n",
       "      <td>557244.000000</td>\n",
       "    </tr>\n",
       "    <tr>\n",
       "      <th>mean</th>\n",
       "      <td>730545.123166</td>\n",
       "      <td>7.095631e+06</td>\n",
       "      <td>7.605886</td>\n",
       "    </tr>\n",
       "    <tr>\n",
       "      <th>std</th>\n",
       "      <td>6292.755656</td>\n",
       "      <td>5.297110e+03</td>\n",
       "      <td>5.130528</td>\n",
       "    </tr>\n",
       "    <tr>\n",
       "      <th>min</th>\n",
       "      <td>720406.770000</td>\n",
       "      <td>7.083637e+06</td>\n",
       "      <td>1.150000</td>\n",
       "    </tr>\n",
       "    <tr>\n",
       "      <th>25%</th>\n",
       "      <td>725485.160000</td>\n",
       "      <td>7.091679e+06</td>\n",
       "      <td>3.500000</td>\n",
       "    </tr>\n",
       "    <tr>\n",
       "      <th>50%</th>\n",
       "      <td>729135.515000</td>\n",
       "      <td>7.095407e+06</td>\n",
       "      <td>6.390000</td>\n",
       "    </tr>\n",
       "    <tr>\n",
       "      <th>75%</th>\n",
       "      <td>735755.020000</td>\n",
       "      <td>7.099902e+06</td>\n",
       "      <td>10.340000</td>\n",
       "    </tr>\n",
       "    <tr>\n",
       "      <th>max</th>\n",
       "      <td>743484.090000</td>\n",
       "      <td>7.107470e+06</td>\n",
       "      <td>29.080000</td>\n",
       "    </tr>\n",
       "  </tbody>\n",
       "</table>\n",
       "</div>"
      ],
      "text/plain": [
       "                   x             y              z\n",
       "count  557244.000000  5.572440e+05  557244.000000\n",
       "mean   730545.123166  7.095631e+06       7.605886\n",
       "std      6292.755656  5.297110e+03       5.130528\n",
       "min    720406.770000  7.083637e+06       1.150000\n",
       "25%    725485.160000  7.091679e+06       3.500000\n",
       "50%    729135.515000  7.095407e+06       6.390000\n",
       "75%    735755.020000  7.099902e+06      10.340000\n",
       "max    743484.090000  7.107470e+06      29.080000"
      ]
     },
     "execution_count": 31,
     "metadata": {},
     "output_type": "execute_result"
    }
   ],
   "source": [
    "df_bat_data.describe()"
   ]
  },
  {
   "cell_type": "code",
   "execution_count": 32,
   "metadata": {},
   "outputs": [
    {
     "data": {
      "text/plain": [
       "<Figure size 864x432 with 0 Axes>"
      ]
     },
     "metadata": {},
     "output_type": "display_data"
    },
    {
     "data": {
      "image/png": "[encoded data removed]",
      "text/plain": [
       "<Figure size 864x432 with 1 Axes>"
      ]
     },
     "metadata": {
      "needs_background": "light"
     },
     "output_type": "display_data"
    }
   ],
   "source": [
    "plt.figure(figsize=(12,6))\n",
    "fig, axs = plt.subplots(ncols=1, figsize=(12, 6))\n",
    "_ = axs.hist(df_bat_data.z, bins=20, color='#A9C5D3', edgecolor='black')"
   ]
  },
  {
   "cell_type": "code",
   "execution_count": 33,
   "metadata": {},
   "outputs": [
    {
     "data": {
      "text/plain": [
       "1.1921940875433643"
      ]
     },
     "execution_count": 33,
     "metadata": {},
     "output_type": "execute_result"
    }
   ],
   "source": [
    "df_bat_data.z.skew()"
   ]
  },
  {
   "cell_type": "code",
   "execution_count": 34,
   "metadata": {},
   "outputs": [
    {
     "data": {
      "text/plain": [
       "-0.051505284926220966"
      ]
     },
     "execution_count": 34,
     "metadata": {},
     "output_type": "execute_result"
    }
   ],
   "source": [
    "np.log(df_bat_data.z).skew()"
   ]
  },
  {
   "cell_type": "code",
   "execution_count": 35,
   "metadata": {},
   "outputs": [],
   "source": [
    "df_pixel_coord_bat_data = pd.DataFrame()\n",
    "\n",
    "px = list()\n",
    "py = list()\n",
    "zlist = list()\n",
    "    \n",
    "for i, row in enumerate(df_bat_data.itertuples()):\n",
    "    x = row[1]\n",
    "    y = row[2]\n",
    "    z = row[3]\n",
    "    pixel = ((x-start_value_x)/float(scale_x), (y-start_value_y)/float(scale_y)) \n",
    "    px.append(pixel[0])\n",
    "    py.append(pixel[1])\n",
    "    zlist.append(z)\n",
    "\n",
    "df_pixel_coord_bat_data['x'] = px\n",
    "df_pixel_coord_bat_data['y'] = py\n",
    "df_pixel_coord_bat_data['z'] = zlist"
   ]
  },
  {
   "cell_type": "code",
   "execution_count": 36,
   "metadata": {},
   "outputs": [
    {
     "data": {
      "text/html": [
       "<div>\n",
       "<style scoped>\n",
       "    .dataframe tbody tr th:only-of-type {\n",
       "        vertical-align: middle;\n",
       "    }\n",
       "\n",
       "    .dataframe tbody tr th {\n",
       "        vertical-align: top;\n",
       "    }\n",
       "\n",
       "    .dataframe thead th {\n",
       "        text-align: right;\n",
       "    }\n",
       "</style>\n",
       "<table border=\"1\" class=\"dataframe\">\n",
       "  <thead>\n",
       "    <tr style=\"text-align: right;\">\n",
       "      <th></th>\n",
       "      <th>x</th>\n",
       "      <th>y</th>\n",
       "      <th>z</th>\n",
       "    </tr>\n",
       "  </thead>\n",
       "  <tbody>\n",
       "    <tr>\n",
       "      <th>0</th>\n",
       "      <td>236.782</td>\n",
       "      <td>1016.283</td>\n",
       "      <td>1.96</td>\n",
       "    </tr>\n",
       "    <tr>\n",
       "      <th>1</th>\n",
       "      <td>236.795</td>\n",
       "      <td>1016.285</td>\n",
       "      <td>1.98</td>\n",
       "    </tr>\n",
       "    <tr>\n",
       "      <th>2</th>\n",
       "      <td>236.807</td>\n",
       "      <td>1016.288</td>\n",
       "      <td>1.98</td>\n",
       "    </tr>\n",
       "    <tr>\n",
       "      <th>3</th>\n",
       "      <td>236.819</td>\n",
       "      <td>1016.291</td>\n",
       "      <td>1.97</td>\n",
       "    </tr>\n",
       "    <tr>\n",
       "      <th>4</th>\n",
       "      <td>236.831</td>\n",
       "      <td>1016.293</td>\n",
       "      <td>1.98</td>\n",
       "    </tr>\n",
       "    <tr>\n",
       "      <th>...</th>\n",
       "      <td>...</td>\n",
       "      <td>...</td>\n",
       "      <td>...</td>\n",
       "    </tr>\n",
       "    <tr>\n",
       "      <th>533307</th>\n",
       "      <td>618.304</td>\n",
       "      <td>0.091</td>\n",
       "      <td>7.93</td>\n",
       "    </tr>\n",
       "    <tr>\n",
       "      <th>533308</th>\n",
       "      <td>618.339</td>\n",
       "      <td>0.070</td>\n",
       "      <td>7.93</td>\n",
       "    </tr>\n",
       "    <tr>\n",
       "      <th>533309</th>\n",
       "      <td>618.375</td>\n",
       "      <td>0.049</td>\n",
       "      <td>7.93</td>\n",
       "    </tr>\n",
       "    <tr>\n",
       "      <th>533310</th>\n",
       "      <td>618.412</td>\n",
       "      <td>0.029</td>\n",
       "      <td>7.93</td>\n",
       "    </tr>\n",
       "    <tr>\n",
       "      <th>533311</th>\n",
       "      <td>618.446</td>\n",
       "      <td>0.010</td>\n",
       "      <td>7.93</td>\n",
       "    </tr>\n",
       "  </tbody>\n",
       "</table>\n",
       "<p>422791 rows × 3 columns</p>\n",
       "</div>"
      ],
      "text/plain": [
       "              x         y     z\n",
       "0       236.782  1016.283  1.96\n",
       "1       236.795  1016.285  1.98\n",
       "2       236.807  1016.288  1.98\n",
       "3       236.819  1016.291  1.97\n",
       "4       236.831  1016.293  1.98\n",
       "...         ...       ...   ...\n",
       "533307  618.304     0.091  7.93\n",
       "533308  618.339     0.070  7.93\n",
       "533309  618.375     0.049  7.93\n",
       "533310  618.412     0.029  7.93\n",
       "533311  618.446     0.010  7.93\n",
       "\n",
       "[422791 rows x 3 columns]"
      ]
     },
     "execution_count": 36,
     "metadata": {},
     "output_type": "execute_result"
    }
   ],
   "source": [
    "df_pixel_coord_bat_data = df_pixel_coord_bat_data[df_pixel_coord_bat_data.y > 0 ]\n",
    "df_pixel_coord_bat_data"
   ]
  },
  {
   "cell_type": "code",
   "execution_count": 37,
   "metadata": {},
   "outputs": [
    {
     "data": {
      "text/plain": [
       "['../data/generated/df_newimages_bat_downside.pkl.z']"
      ]
     },
     "execution_count": 37,
     "metadata": {},
     "output_type": "execute_result"
    }
   ],
   "source": [
    "jb.dump(df_pixel_coord_bat_data,'../data/generated/df_newimages_bat_downside.pkl.z')"
   ]
  },
  {
   "cell_type": "code",
   "execution_count": 39,
   "metadata": {},
   "outputs": [],
   "source": [
    "df_pixel_coord_bat_data['x'] = df_pixel_coord_bat_data['x'].apply(lambda x: int(x))\n",
    "df_pixel_coord_bat_data['y'] = df_pixel_coord_bat_data['y'].apply(lambda x: int(x))"
   ]
  },
  {
   "cell_type": "code",
   "execution_count": 40,
   "metadata": {},
   "outputs": [
    {
     "data": {
      "text/html": [
       "<div>\n",
       "<style scoped>\n",
       "    .dataframe tbody tr th:only-of-type {\n",
       "        vertical-align: middle;\n",
       "    }\n",
       "\n",
       "    .dataframe tbody tr th {\n",
       "        vertical-align: top;\n",
       "    }\n",
       "\n",
       "    .dataframe thead th {\n",
       "        text-align: right;\n",
       "    }\n",
       "</style>\n",
       "<table border=\"1\" class=\"dataframe\">\n",
       "  <thead>\n",
       "    <tr style=\"text-align: right;\">\n",
       "      <th></th>\n",
       "      <th>x</th>\n",
       "      <th>y</th>\n",
       "      <th>z</th>\n",
       "    </tr>\n",
       "  </thead>\n",
       "  <tbody>\n",
       "    <tr>\n",
       "      <th>101</th>\n",
       "      <td>235</td>\n",
       "      <td>1034</td>\n",
       "      <td>0.096245</td>\n",
       "    </tr>\n",
       "    <tr>\n",
       "      <th>109</th>\n",
       "      <td>235</td>\n",
       "      <td>1042</td>\n",
       "      <td>0.098823</td>\n",
       "    </tr>\n",
       "    <tr>\n",
       "      <th>110</th>\n",
       "      <td>235</td>\n",
       "      <td>1043</td>\n",
       "      <td>0.089653</td>\n",
       "    </tr>\n",
       "    <tr>\n",
       "      <th>326</th>\n",
       "      <td>303</td>\n",
       "      <td>1017</td>\n",
       "      <td>0.144762</td>\n",
       "    </tr>\n",
       "    <tr>\n",
       "      <th>535</th>\n",
       "      <td>407</td>\n",
       "      <td>996</td>\n",
       "      <td>0.260884</td>\n",
       "    </tr>\n",
       "    <tr>\n",
       "      <th>...</th>\n",
       "      <td>...</td>\n",
       "      <td>...</td>\n",
       "      <td>...</td>\n",
       "    </tr>\n",
       "    <tr>\n",
       "      <th>18641</th>\n",
       "      <td>2019</td>\n",
       "      <td>67</td>\n",
       "      <td>1.527670</td>\n",
       "    </tr>\n",
       "    <tr>\n",
       "      <th>18993</th>\n",
       "      <td>2106</td>\n",
       "      <td>17</td>\n",
       "      <td>1.712316</td>\n",
       "    </tr>\n",
       "    <tr>\n",
       "      <th>19069</th>\n",
       "      <td>2123</td>\n",
       "      <td>48</td>\n",
       "      <td>0.071184</td>\n",
       "    </tr>\n",
       "    <tr>\n",
       "      <th>19072</th>\n",
       "      <td>2124</td>\n",
       "      <td>49</td>\n",
       "      <td>0.187306</td>\n",
       "    </tr>\n",
       "    <tr>\n",
       "      <th>19076</th>\n",
       "      <td>2125</td>\n",
       "      <td>50</td>\n",
       "      <td>0.215777</td>\n",
       "    </tr>\n",
       "  </tbody>\n",
       "</table>\n",
       "<p>1034 rows × 3 columns</p>\n",
       "</div>"
      ],
      "text/plain": [
       "          x     y         z\n",
       "101     235  1034  0.096245\n",
       "109     235  1042  0.098823\n",
       "110     235  1043  0.089653\n",
       "326     303  1017  0.144762\n",
       "535     407   996  0.260884\n",
       "...     ...   ...       ...\n",
       "18641  2019    67  1.527670\n",
       "18993  2106    17  1.712316\n",
       "19069  2123    48  0.071184\n",
       "19072  2124    49  0.187306\n",
       "19076  2125    50  0.215777\n",
       "\n",
       "[1034 rows x 3 columns]"
      ]
     },
     "execution_count": 40,
     "metadata": {},
     "output_type": "execute_result"
    }
   ],
   "source": [
    "df_variance = df_pixel_coord_bat_data.groupby(['x', 'y']).var().reset_index()\n",
    "df_variance = df_variance[df_variance.z > 0.05]\n",
    "df_variance"
   ]
  },
  {
   "cell_type": "code",
   "execution_count": 41,
   "metadata": {},
   "outputs": [
    {
     "data": {
      "text/plain": [
       "[<matplotlib.lines.Line2D at 0x231b0f660f0>]"
      ]
     },
     "execution_count": 41,
     "metadata": {},
     "output_type": "execute_result"
    },
    {
     "data": {
      "image/png": "[encoded data removed]",
      "text/plain": [
       "<Figure size 432x288 with 1 Axes>"
      ]
     },
     "metadata": {
      "needs_background": "light"
     },
     "output_type": "display_data"
    }
   ],
   "source": [
    "df_testing = df_pixel_coord_bat_data[(df_pixel_coord_bat_data.x==2123)&(df_pixel_coord_bat_data.y==48)]\n",
    "plt.plot(df_testing.index,df_testing['z'],'b.')"
   ]
  },
  {
   "cell_type": "code",
   "execution_count": 42,
   "metadata": {},
   "outputs": [
    {
     "data": {
      "text/plain": [
       "[<matplotlib.lines.Line2D at 0x231ab239cc0>]"
      ]
     },
     "execution_count": 42,
     "metadata": {},
     "output_type": "execute_result"
    },
    {
     "data": {
      "image/png": "[encoded data removed]",
      "text/plain": [
       "<Figure size 432x288 with 1 Axes>"
      ]
     },
     "metadata": {
      "needs_background": "light"
     },
     "output_type": "display_data"
    }
   ],
   "source": [
    "df_testing = df_pixel_coord_bat_data[(df_pixel_coord_bat_data.x==1805)&(df_pixel_coord_bat_data.y==296)]\n",
    "plt.plot(df_testing.index,df_testing['z'],'b.')"
   ]
  },
  {
   "cell_type": "code",
   "execution_count": 69,
   "metadata": {},
   "outputs": [
    {
     "data": {
      "text/html": [
       "<div>\n",
       "<style scoped>\n",
       "    .dataframe tbody tr th:only-of-type {\n",
       "        vertical-align: middle;\n",
       "    }\n",
       "\n",
       "    .dataframe tbody tr th {\n",
       "        vertical-align: top;\n",
       "    }\n",
       "\n",
       "    .dataframe thead th {\n",
       "        text-align: right;\n",
       "    }\n",
       "</style>\n",
       "<table border=\"1\" class=\"dataframe\">\n",
       "  <thead>\n",
       "    <tr style=\"text-align: right;\">\n",
       "      <th></th>\n",
       "      <th>x</th>\n",
       "      <th>y</th>\n",
       "      <th>z</th>\n",
       "    </tr>\n",
       "  </thead>\n",
       "  <tbody>\n",
       "    <tr>\n",
       "      <th>0</th>\n",
       "      <td>233</td>\n",
       "      <td>1130</td>\n",
       "      <td>3.195862</td>\n",
       "    </tr>\n",
       "    <tr>\n",
       "      <th>1</th>\n",
       "      <td>233</td>\n",
       "      <td>1131</td>\n",
       "      <td>3.273030</td>\n",
       "    </tr>\n",
       "    <tr>\n",
       "      <th>2</th>\n",
       "      <td>233</td>\n",
       "      <td>1132</td>\n",
       "      <td>3.299687</td>\n",
       "    </tr>\n",
       "    <tr>\n",
       "      <th>3</th>\n",
       "      <td>233</td>\n",
       "      <td>1133</td>\n",
       "      <td>3.268182</td>\n",
       "    </tr>\n",
       "    <tr>\n",
       "      <th>4</th>\n",
       "      <td>233</td>\n",
       "      <td>1134</td>\n",
       "      <td>3.278125</td>\n",
       "    </tr>\n",
       "    <tr>\n",
       "      <th>...</th>\n",
       "      <td>...</td>\n",
       "      <td>...</td>\n",
       "      <td>...</td>\n",
       "    </tr>\n",
       "    <tr>\n",
       "      <th>19282</th>\n",
       "      <td>2293</td>\n",
       "      <td>86</td>\n",
       "      <td>2.264000</td>\n",
       "    </tr>\n",
       "    <tr>\n",
       "      <th>19283</th>\n",
       "      <td>2294</td>\n",
       "      <td>86</td>\n",
       "      <td>1.909714</td>\n",
       "    </tr>\n",
       "    <tr>\n",
       "      <th>19284</th>\n",
       "      <td>2295</td>\n",
       "      <td>86</td>\n",
       "      <td>1.539000</td>\n",
       "    </tr>\n",
       "    <tr>\n",
       "      <th>19285</th>\n",
       "      <td>2295</td>\n",
       "      <td>87</td>\n",
       "      <td>1.360263</td>\n",
       "    </tr>\n",
       "    <tr>\n",
       "      <th>19286</th>\n",
       "      <td>2296</td>\n",
       "      <td>87</td>\n",
       "      <td>1.221429</td>\n",
       "    </tr>\n",
       "  </tbody>\n",
       "</table>\n",
       "<p>19287 rows × 3 columns</p>\n",
       "</div>"
      ],
      "text/plain": [
       "          x     y         z\n",
       "0       233  1130  3.195862\n",
       "1       233  1131  3.273030\n",
       "2       233  1132  3.299687\n",
       "3       233  1133  3.268182\n",
       "4       233  1134  3.278125\n",
       "...     ...   ...       ...\n",
       "19282  2293    86  2.264000\n",
       "19283  2294    86  1.909714\n",
       "19284  2295    86  1.539000\n",
       "19285  2295    87  1.360263\n",
       "19286  2296    87  1.221429\n",
       "\n",
       "[19287 rows x 3 columns]"
      ]
     },
     "execution_count": 69,
     "metadata": {},
     "output_type": "execute_result"
    }
   ],
   "source": [
    "df_pixel_coord_bat_data_mean = df_pixel_coord_bat_data.groupby(['x', 'y']).mean()\n",
    "df_pixel_coord_bat_data_mean.reset_index(inplace=True)\n",
    "df_pixel_coord_bat_data_mean"
   ]
  },
  {
   "cell_type": "code",
   "execution_count": 71,
   "metadata": {},
   "outputs": [
    {
     "data": {
      "text/html": [
       "<div>\n",
       "<style scoped>\n",
       "    .dataframe tbody tr th:only-of-type {\n",
       "        vertical-align: middle;\n",
       "    }\n",
       "\n",
       "    .dataframe tbody tr th {\n",
       "        vertical-align: top;\n",
       "    }\n",
       "\n",
       "    .dataframe thead th {\n",
       "        text-align: right;\n",
       "    }\n",
       "</style>\n",
       "<table border=\"1\" class=\"dataframe\">\n",
       "  <thead>\n",
       "    <tr style=\"text-align: right;\">\n",
       "      <th></th>\n",
       "      <th>x</th>\n",
       "      <th>y</th>\n",
       "      <th>z</th>\n",
       "    </tr>\n",
       "  </thead>\n",
       "  <tbody>\n",
       "    <tr>\n",
       "      <th>count</th>\n",
       "      <td>18255.000000</td>\n",
       "      <td>18255.000000</td>\n",
       "      <td>18255.000000</td>\n",
       "    </tr>\n",
       "    <tr>\n",
       "      <th>mean</th>\n",
       "      <td>1131.875103</td>\n",
       "      <td>654.111257</td>\n",
       "      <td>7.128341</td>\n",
       "    </tr>\n",
       "    <tr>\n",
       "      <th>std</th>\n",
       "      <td>470.496860</td>\n",
       "      <td>409.007310</td>\n",
       "      <td>4.516452</td>\n",
       "    </tr>\n",
       "    <tr>\n",
       "      <th>min</th>\n",
       "      <td>233.000000</td>\n",
       "      <td>1.000000</td>\n",
       "      <td>1.164255</td>\n",
       "    </tr>\n",
       "    <tr>\n",
       "      <th>25%</th>\n",
       "      <td>774.000000</td>\n",
       "      <td>335.000000</td>\n",
       "      <td>3.452116</td>\n",
       "    </tr>\n",
       "    <tr>\n",
       "      <th>50%</th>\n",
       "      <td>1017.000000</td>\n",
       "      <td>613.000000</td>\n",
       "      <td>6.155000</td>\n",
       "    </tr>\n",
       "    <tr>\n",
       "      <th>75%</th>\n",
       "      <td>1508.000000</td>\n",
       "      <td>949.000000</td>\n",
       "      <td>9.679444</td>\n",
       "    </tr>\n",
       "    <tr>\n",
       "      <th>max</th>\n",
       "      <td>2296.000000</td>\n",
       "      <td>1638.000000</td>\n",
       "      <td>25.792759</td>\n",
       "    </tr>\n",
       "  </tbody>\n",
       "</table>\n",
       "</div>"
      ],
      "text/plain": [
       "                  x             y             z\n",
       "count  18255.000000  18255.000000  18255.000000\n",
       "mean    1131.875103    654.111257      7.128341\n",
       "std      470.496860    409.007310      4.516452\n",
       "min      233.000000      1.000000      1.164255\n",
       "25%      774.000000    335.000000      3.452116\n",
       "50%     1017.000000    613.000000      6.155000\n",
       "75%     1508.000000    949.000000      9.679444\n",
       "max     2296.000000   1638.000000     25.792759"
      ]
     },
     "execution_count": 71,
     "metadata": {},
     "output_type": "execute_result"
    }
   ],
   "source": [
    "df_pixel_coord_bat_data_mean = df_pixel_coord_bat_data_mean[~df_pixel_coord_bat_data_mean.index.isin(df_variance.index)]\n",
    "df_pixel_coord_bat_data_mean.describe()"
   ]
  },
  {
   "cell_type": "code",
   "execution_count": 72,
   "metadata": {},
   "outputs": [],
   "source": [
    "for k, v in bands_arrays_dict.items():\n",
    "    aux = list()\n",
    "    for i, row in enumerate(df_pixel_coord_bat_data_mean.itertuples()):\n",
    "        px = row[1]\n",
    "        py = row[2]\n",
    "        aux.append(v[py][px])\n",
    "    df_pixel_coord_bat_data_mean[k] = aux"
   ]
  },
  {
   "cell_type": "code",
   "execution_count": 73,
   "metadata": {},
   "outputs": [
    {
     "data": {
      "text/html": [
       "<div>\n",
       "<style scoped>\n",
       "    .dataframe tbody tr th:only-of-type {\n",
       "        vertical-align: middle;\n",
       "    }\n",
       "\n",
       "    .dataframe tbody tr th {\n",
       "        vertical-align: top;\n",
       "    }\n",
       "\n",
       "    .dataframe thead th {\n",
       "        text-align: right;\n",
       "    }\n",
       "</style>\n",
       "<table border=\"1\" class=\"dataframe\">\n",
       "  <thead>\n",
       "    <tr style=\"text-align: right;\">\n",
       "      <th></th>\n",
       "      <th>x</th>\n",
       "      <th>y</th>\n",
       "      <th>z</th>\n",
       "      <th>b1</th>\n",
       "      <th>b2</th>\n",
       "      <th>b3</th>\n",
       "      <th>b4</th>\n",
       "      <th>b5</th>\n",
       "      <th>b6</th>\n",
       "      <th>b7</th>\n",
       "      <th>b8</th>\n",
       "    </tr>\n",
       "  </thead>\n",
       "  <tbody>\n",
       "    <tr>\n",
       "      <th>0</th>\n",
       "      <td>233</td>\n",
       "      <td>1130</td>\n",
       "      <td>3.195862</td>\n",
       "      <td>0.1199</td>\n",
       "      <td>0.0866</td>\n",
       "      <td>0.0667</td>\n",
       "      <td>0.0464</td>\n",
       "      <td>0.049</td>\n",
       "      <td>0.0316</td>\n",
       "      <td>0.0283</td>\n",
       "      <td>0.0238</td>\n",
       "    </tr>\n",
       "    <tr>\n",
       "      <th>1</th>\n",
       "      <td>233</td>\n",
       "      <td>1131</td>\n",
       "      <td>3.273030</td>\n",
       "      <td>0.1199</td>\n",
       "      <td>0.0880</td>\n",
       "      <td>0.0668</td>\n",
       "      <td>0.0457</td>\n",
       "      <td>0.049</td>\n",
       "      <td>0.0316</td>\n",
       "      <td>0.0283</td>\n",
       "      <td>0.0237</td>\n",
       "    </tr>\n",
       "  </tbody>\n",
       "</table>\n",
       "</div>"
      ],
      "text/plain": [
       "     x     y         z      b1      b2      b3      b4     b5      b6      b7  \\\n",
       "0  233  1130  3.195862  0.1199  0.0866  0.0667  0.0464  0.049  0.0316  0.0283   \n",
       "1  233  1131  3.273030  0.1199  0.0880  0.0668  0.0457  0.049  0.0316  0.0283   \n",
       "\n",
       "       b8  \n",
       "0  0.0238  \n",
       "1  0.0237  "
      ]
     },
     "execution_count": 73,
     "metadata": {},
     "output_type": "execute_result"
    }
   ],
   "source": [
    "df_pixel_coord_bat_data_mean.head(2)"
   ]
  },
  {
   "cell_type": "code",
   "execution_count": 74,
   "metadata": {},
   "outputs": [],
   "source": [
    "df = df_pixel_coord_bat_data_mean.copy()"
   ]
  },
  {
   "cell_type": "code",
   "execution_count": 75,
   "metadata": {},
   "outputs": [
    {
     "data": {
      "text/html": [
       "<div>\n",
       "<style scoped>\n",
       "    .dataframe tbody tr th:only-of-type {\n",
       "        vertical-align: middle;\n",
       "    }\n",
       "\n",
       "    .dataframe tbody tr th {\n",
       "        vertical-align: top;\n",
       "    }\n",
       "\n",
       "    .dataframe thead th {\n",
       "        text-align: right;\n",
       "    }\n",
       "</style>\n",
       "<table border=\"1\" class=\"dataframe\">\n",
       "  <thead>\n",
       "    <tr style=\"text-align: right;\">\n",
       "      <th></th>\n",
       "      <th>x</th>\n",
       "      <th>y</th>\n",
       "      <th>z</th>\n",
       "      <th>b1</th>\n",
       "      <th>b2</th>\n",
       "      <th>b3</th>\n",
       "      <th>b4</th>\n",
       "      <th>b5</th>\n",
       "      <th>b6</th>\n",
       "      <th>b7</th>\n",
       "      <th>b8</th>\n",
       "      <th>b2b4</th>\n",
       "      <th>b3b4</th>\n",
       "      <th>ndwi15</th>\n",
       "      <th>ndwi24</th>\n",
       "      <th>ndwi53</th>\n",
       "      <th>cspmb7</th>\n",
       "    </tr>\n",
       "  </thead>\n",
       "  <tbody>\n",
       "    <tr>\n",
       "      <th>0</th>\n",
       "      <td>233</td>\n",
       "      <td>1130</td>\n",
       "      <td>3.195862</td>\n",
       "      <td>0.1199</td>\n",
       "      <td>0.0866</td>\n",
       "      <td>0.0667</td>\n",
       "      <td>0.0464</td>\n",
       "      <td>0.0490</td>\n",
       "      <td>0.0316</td>\n",
       "      <td>0.0283</td>\n",
       "      <td>0.0238</td>\n",
       "      <td>1.162614</td>\n",
       "      <td>1.094573</td>\n",
       "      <td>0.419775</td>\n",
       "      <td>0.302256</td>\n",
       "      <td>-0.152982</td>\n",
       "      <td>23.382784</td>\n",
       "    </tr>\n",
       "    <tr>\n",
       "      <th>1</th>\n",
       "      <td>233</td>\n",
       "      <td>1131</td>\n",
       "      <td>3.273030</td>\n",
       "      <td>0.1199</td>\n",
       "      <td>0.0880</td>\n",
       "      <td>0.0668</td>\n",
       "      <td>0.0457</td>\n",
       "      <td>0.0490</td>\n",
       "      <td>0.0316</td>\n",
       "      <td>0.0283</td>\n",
       "      <td>0.0237</td>\n",
       "      <td>1.171434</td>\n",
       "      <td>1.099318</td>\n",
       "      <td>0.419775</td>\n",
       "      <td>0.316380</td>\n",
       "      <td>-0.153713</td>\n",
       "      <td>23.382784</td>\n",
       "    </tr>\n",
       "    <tr>\n",
       "      <th>2</th>\n",
       "      <td>233</td>\n",
       "      <td>1132</td>\n",
       "      <td>3.299687</td>\n",
       "      <td>0.1199</td>\n",
       "      <td>0.0879</td>\n",
       "      <td>0.0666</td>\n",
       "      <td>0.0461</td>\n",
       "      <td>0.0488</td>\n",
       "      <td>0.0324</td>\n",
       "      <td>0.0281</td>\n",
       "      <td>0.0238</td>\n",
       "      <td>1.168473</td>\n",
       "      <td>1.096035</td>\n",
       "      <td>0.421458</td>\n",
       "      <td>0.311940</td>\n",
       "      <td>-0.154246</td>\n",
       "      <td>23.158824</td>\n",
       "    </tr>\n",
       "    <tr>\n",
       "      <th>3</th>\n",
       "      <td>233</td>\n",
       "      <td>1133</td>\n",
       "      <td>3.268182</td>\n",
       "      <td>0.1199</td>\n",
       "      <td>0.0882</td>\n",
       "      <td>0.0692</td>\n",
       "      <td>0.0452</td>\n",
       "      <td>0.0488</td>\n",
       "      <td>0.0324</td>\n",
       "      <td>0.0281</td>\n",
       "      <td>0.0232</td>\n",
       "      <td>1.175411</td>\n",
       "      <td>1.111754</td>\n",
       "      <td>0.421458</td>\n",
       "      <td>0.322339</td>\n",
       "      <td>-0.172881</td>\n",
       "      <td>23.158824</td>\n",
       "    </tr>\n",
       "    <tr>\n",
       "      <th>4</th>\n",
       "      <td>233</td>\n",
       "      <td>1134</td>\n",
       "      <td>3.278125</td>\n",
       "      <td>0.1196</td>\n",
       "      <td>0.0884</td>\n",
       "      <td>0.0677</td>\n",
       "      <td>0.0454</td>\n",
       "      <td>0.0489</td>\n",
       "      <td>0.0323</td>\n",
       "      <td>0.0285</td>\n",
       "      <td>0.0238</td>\n",
       "      <td>1.174645</td>\n",
       "      <td>1.104724</td>\n",
       "      <td>0.419585</td>\n",
       "      <td>0.321375</td>\n",
       "      <td>-0.161235</td>\n",
       "      <td>23.607309</td>\n",
       "    </tr>\n",
       "  </tbody>\n",
       "</table>\n",
       "</div>"
      ],
      "text/plain": [
       "     x     y         z      b1      b2      b3      b4      b5      b6  \\\n",
       "0  233  1130  3.195862  0.1199  0.0866  0.0667  0.0464  0.0490  0.0316   \n",
       "1  233  1131  3.273030  0.1199  0.0880  0.0668  0.0457  0.0490  0.0316   \n",
       "2  233  1132  3.299687  0.1199  0.0879  0.0666  0.0461  0.0488  0.0324   \n",
       "3  233  1133  3.268182  0.1199  0.0882  0.0692  0.0452  0.0488  0.0324   \n",
       "4  233  1134  3.278125  0.1196  0.0884  0.0677  0.0454  0.0489  0.0323   \n",
       "\n",
       "       b7      b8      b2b4      b3b4    ndwi15    ndwi24    ndwi53     cspmb7  \n",
       "0  0.0283  0.0238  1.162614  1.094573  0.419775  0.302256 -0.152982  23.382784  \n",
       "1  0.0283  0.0237  1.171434  1.099318  0.419775  0.316380 -0.153713  23.382784  \n",
       "2  0.0281  0.0238  1.168473  1.096035  0.421458  0.311940 -0.154246  23.158824  \n",
       "3  0.0281  0.0232  1.175411  1.111754  0.421458  0.322339 -0.172881  23.158824  \n",
       "4  0.0285  0.0238  1.174645  1.104724  0.419585  0.321375 -0.161235  23.607309  "
      ]
     },
     "execution_count": 75,
     "metadata": {},
     "output_type": "execute_result"
    }
   ],
   "source": [
    "df['b2b4'] = df[['b2', 'b4']].apply(lambda x: pixel_log_ratio(x.b2, x.b4), axis=1)\n",
    "df['b3b4'] = df[['b3', 'b4']].apply(lambda x: pixel_log_ratio(x.b3, x.b4), axis=1)\n",
    "df['ndwi15'] = df[['b1', 'b5']].apply(lambda x: pixel_ndwi(x.b1, x.b5), axis=1)\n",
    "df['ndwi24'] = df[['b2', 'b4']].apply(lambda x: pixel_ndwi(x.b2, x.b4), axis=1)\n",
    "df['ndwi53'] = df[['b5', 'b3']].apply(lambda x: pixel_ndwi(x.b5, x.b3), axis=1)\n",
    "df['cspmb7'] = 2950*pow(df['b7'],1.357)\n",
    "df.head()"
   ]
  },
  {
   "cell_type": "code",
   "execution_count": 76,
   "metadata": {},
   "outputs": [
    {
     "data": {
      "text/plain": [
       "['../data/generated/df_newimages_bands_downside_low_var_filter.pkl.z']"
      ]
     },
     "execution_count": 76,
     "metadata": {},
     "output_type": "execute_result"
    }
   ],
   "source": [
    "jb.dump(df, '../data/generated/df_newimages_bands_downside_low_var_filter.pkl.z')"
   ]
  },
  {
   "cell_type": "code",
   "execution_count": 45,
   "metadata": {},
   "outputs": [
    {
     "data": {
      "text/plain": [
       "True"
      ]
     },
     "execution_count": 45,
     "metadata": {},
     "output_type": "execute_result"
    }
   ],
   "source": [
    "bgr_image = np.dstack((bands_arrays_dict['b2'],bands_arrays_dict['b3'],bands_arrays_dict['b4']))\n",
    "bgr_image = bgr_image.clip(0,1)\n",
    "bgr_image = (bgr_image*255.99).astype(np.uint8)\n",
    "cv2.imwrite('../data/generated/rgb_image.jpg', bgr_image)"
   ]
  }
 ],
 "metadata": {
  "kernelspec": {
   "display_name": "Python 3",
   "language": "python",
   "name": "python3"
  },
  "language_info": {
   "codemirror_mode": {
    "name": "ipython",
    "version": 3
   },
   "file_extension": ".py",
   "mimetype": "text/x-python",
   "name": "python",
   "nbconvert_exporter": "python",
   "pygments_lexer": "ipython3",
   "version": "3.7.3"
  }
 },
 "nbformat": 4,
 "nbformat_minor": 4
}
